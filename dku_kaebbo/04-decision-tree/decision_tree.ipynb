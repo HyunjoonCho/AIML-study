{
  "nbformat": 4,
  "nbformat_minor": 0,
  "metadata": {
    "colab": {
      "name": "decision-tree.ipynb",
      "provenance": []
    },
    "kernelspec": {
      "name": "python3",
      "display_name": "Python 3"
    },
    "language_info": {
      "name": "python"
    }
  },
  "cells": [
    {
      "cell_type": "markdown",
      "metadata": {
        "id": "P6DCp_oS6EQV"
      },
      "source": [
        "# Scikit-learn\n",
        "\n",
        "ML 라이브러리 - 데이터 모델링에 필요한 대부분의 기능을 제공  \n",
        "초보자를 위한 [ML Map](https://scikit-learn.org/stable/tutorial/machine_learning_map/) 제공  \n",
        "\n",
        "ML 알고리즘별 API가 조금씩 다름; regression, classification, clustering  \n",
        "크게 fit - predict 순으로 실행  \n",
        "\n",
        "Transformer의 경우, fit - transform 순으로 실행  \n",
        "* StandardScaler  \n",
        "정규화 (subtract mean, divide by std-dev)  \n",
        "* MinMaxScaler  \n",
        "최소를 0, 최대를 1로 설정해서 scale\n",
        "* PowerTransformer  \n",
        "log1p와 유사? 구체적인 설명은 [블로그 포스트](https://machinelearningmastery.com/power-transforms-with-scikit-learn/) 참고  \n",
        "* CountVectorizer  \n",
        "단어 단위로 출현 횟수를 count\n",
        "* TfidVectorizer  \n",
        "단어 단위로 count하되 전체 data에서의 출현 빈도로 나누어 빈도가 낮은 단어의 출현에 가중치를 둠\n",
        "* 이외에도 encoder, pca(dimension reduction) 등을 제공  \n",
        "\n",
        "메트릭은 모델의 성능을 수치화해서 보여주는 역할  \n",
        "\n",
        "검증에도 여러 전략이 존재하며 그 중 대표적인 것은\n",
        "* Hold-out  \n",
        "데이터셋 중 일부를 random하게 test_set으로 구분, 이때 random_state에 동일한 값을 주면 재현이 가능함  \n",
        "* N-fold Cross Validation  \n",
        "데이터셋을 N개로 나누어 각 set을 test_set으로 설정, N번의 학습 및 검증을 진행  \n",
        "전체 데이터셋에 대해 모델의 성능을 검증할 수 있다는 장점  "
      ]
    },
    {
      "cell_type": "markdown",
      "metadata": {
        "id": "R2yxWITc9gUi"
      },
      "source": [
        "# Decision Tree\n",
        "일련의 결정 규칙에 기반한 예측 모델  \n",
        "* 분류 학습  \n",
        "  * 범주를 가장 잘 구분할 수 있는 변수와 그 기준값을 greedy search로 탐색  \n",
        "  e.g. red shift를 기준으로 했을 때 class 0가 효과적으로 분리됨 - dered_z 등을 적용\n",
        "  * 자주 쓰이는 손실함수는 Gini Impurity, Entropy - 확률이 50%일 때 손실이 최대 (그만큼 분리가 안됐다는 뜻?)   \n",
        "* 회귀 학습\n",
        "  * 손실함수 최소화하는 변수와 그 기준값을 탐색  \n",
        "\n",
        "Depth를 늘려 더 디테일한 학습이 가능함; trade-off는?  \n",
        "graphviz를 사용해서 시각화"
      ]
    },
    {
      "cell_type": "code",
      "metadata": {
        "id": "E02-w7ZOI6i9"
      },
      "source": [
        "import graphviz\n",
        "from matplotlib import pyplot as plt\n",
        "from matplotlib import rcParams\n",
        "import numpy as np\n",
        "from pathlib import Path\n",
        "import pandas as pd\n",
        "from sklearn.tree import DecisionTreeClassifier, export_graphviz\n",
        "from sklearn.metrics import accuracy_score\n",
        "from sklearn.model_selection import KFold\n",
        "import warnings"
      ],
      "execution_count": 5,
      "outputs": []
    },
    {
      "cell_type": "code",
      "metadata": {
        "id": "2k4gIaw61QxM"
      },
      "source": [
        "rcParams['figure.figsize'] = (16, 8)\n",
        "plt.style.use('fivethirtyeight')\n",
        "pd.set_option('max_columns', 100)\n",
        "pd.set_option(\"display.precision\", 4)\n",
        "warnings.simplefilter('ignore')"
      ],
      "execution_count": 6,
      "outputs": []
    },
    {
      "cell_type": "code",
      "metadata": {
        "colab": {
          "resources": {
            "http://localhost:8080/nbextensions/google.colab/files.js": {
              "data": "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",
              "ok": true,
              "headers": [
                [
                  "content-type",
                  "application/javascript"
                ]
              ],
              "status": 200,
              "status_text": ""
            }
          },
          "base_uri": "https://localhost:8080/",
          "height": 77
        },
        "id": "UoISEagc20i8",
        "outputId": "7607c05b-98b9-4db5-ab02-0ab5a6f987d6"
      },
      "source": [
        "from google.colab import files\n",
        "files.upload()"
      ],
      "execution_count": 7,
      "outputs": [
        {
          "output_type": "display_data",
          "data": {
            "text/html": [
              "\n",
              "     <input type=\"file\" id=\"files-ccce86b8-c0fa-443c-ac31-3eef7f026418\" name=\"files[]\" multiple disabled\n",
              "        style=\"border:none\" />\n",
              "     <output id=\"result-ccce86b8-c0fa-443c-ac31-3eef7f026418\">\n",
              "      Upload widget is only available when the cell has been executed in the\n",
              "      current browser session. Please rerun this cell to enable.\n",
              "      </output>\n",
              "      <script src=\"/nbextensions/google.colab/files.js\"></script> "
            ],
            "text/plain": [
              "<IPython.core.display.HTML object>"
            ]
          },
          "metadata": {
            "tags": []
          }
        },
        {
          "output_type": "stream",
          "text": [
            "Saving data.zip to data.zip\n"
          ],
          "name": "stdout"
        }
      ]
    },
    {
      "cell_type": "code",
      "metadata": {
        "colab": {
          "base_uri": "https://localhost:8080/"
        },
        "id": "pAskGWI13ayT",
        "outputId": "01bf6932-d996-4cf9-da6f-d56683597331"
      },
      "source": [
        "!unzip data.zip"
      ],
      "execution_count": 8,
      "outputs": [
        {
          "output_type": "stream",
          "text": [
            "Archive:  data.zip\n",
            "   creating: open/\n",
            " extracting: open/sample_submission.csv  \n",
            " extracting: open/test.csv           \n",
            " extracting: open/train.csv          \n"
          ],
          "name": "stdout"
        }
      ]
    },
    {
      "cell_type": "code",
      "metadata": {
        "id": "nXjo8Z063cg5"
      },
      "source": [
        "!mkdir ./build"
      ],
      "execution_count": 9,
      "outputs": []
    },
    {
      "cell_type": "code",
      "metadata": {
        "colab": {
          "base_uri": "https://localhost:8080/"
        },
        "id": "97O-fbLnCsVk",
        "outputId": "0e719038-07e6-4d32-a77c-492e8f17ef4f"
      },
      "source": [
        "!ls"
      ],
      "execution_count": 10,
      "outputs": [
        {
          "output_type": "stream",
          "text": [
            "build  data.zip  open  sample_data\n"
          ],
          "name": "stdout"
        }
      ]
    },
    {
      "cell_type": "code",
      "metadata": {
        "id": "03u54WGYC8CZ"
      },
      "source": [
        "\n",
        "data_dir = Path('./open')\n",
        "sub_dir = Path('./build')\n",
        "\n",
        "trn_file = data_dir / 'train.csv'\n",
        "tst_file = data_dir / 'test.csv'\n",
        "sample_file = data_dir / 'sample_submission.csv'\n",
        "\n",
        "target_col = 'class'\n",
        "seed = 42"
      ],
      "execution_count": 14,
      "outputs": []
    },
    {
      "cell_type": "code",
      "metadata": {
        "id": "ZZg3exOqDBpy"
      },
      "source": [
        "algo_name = 'dt'\n",
        "feature_name = 'j1'\n",
        "model_name = f'{algo_name}_{feature_name}'\n",
        "\n",
        "sub_file = sub_dir / f'{model_name}.csv'"
      ],
      "execution_count": 15,
      "outputs": []
    },
    {
      "cell_type": "code",
      "metadata": {
        "colab": {
          "base_uri": "https://localhost:8080/",
          "height": 253
        },
        "id": "HqjCQsSqDFyy",
        "outputId": "4f5027b4-5e18-40e5-ccfe-287b37f9e13d"
      },
      "source": [
        "trn = pd.read_csv(trn_file, index_col=0)\n",
        "tst = pd.read_csv(tst_file, index_col=0)\n",
        "y = trn[target_col]\n",
        "trn.drop(target_col, axis=1, inplace=True)\n",
        "print(y.shape, trn.shape, tst.shape)\n",
        "trn.head()"
      ],
      "execution_count": 16,
      "outputs": [
        {
          "output_type": "stream",
          "text": [
            "(320000,) (320000, 18) (80000, 18)\n"
          ],
          "name": "stdout"
        },
        {
          "output_type": "execute_result",
          "data": {
            "text/html": [
              "<div>\n",
              "<style scoped>\n",
              "    .dataframe tbody tr th:only-of-type {\n",
              "        vertical-align: middle;\n",
              "    }\n",
              "\n",
              "    .dataframe tbody tr th {\n",
              "        vertical-align: top;\n",
              "    }\n",
              "\n",
              "    .dataframe thead th {\n",
              "        text-align: right;\n",
              "    }\n",
              "</style>\n",
              "<table border=\"1\" class=\"dataframe\">\n",
              "  <thead>\n",
              "    <tr style=\"text-align: right;\">\n",
              "      <th></th>\n",
              "      <th>u</th>\n",
              "      <th>g</th>\n",
              "      <th>r</th>\n",
              "      <th>i</th>\n",
              "      <th>z</th>\n",
              "      <th>redshift</th>\n",
              "      <th>dered_u</th>\n",
              "      <th>dered_g</th>\n",
              "      <th>dered_r</th>\n",
              "      <th>dered_i</th>\n",
              "      <th>dered_z</th>\n",
              "      <th>nObserve</th>\n",
              "      <th>nDetect</th>\n",
              "      <th>airmass_u</th>\n",
              "      <th>airmass_g</th>\n",
              "      <th>airmass_r</th>\n",
              "      <th>airmass_i</th>\n",
              "      <th>airmass_z</th>\n",
              "    </tr>\n",
              "    <tr>\n",
              "      <th>id</th>\n",
              "      <th></th>\n",
              "      <th></th>\n",
              "      <th></th>\n",
              "      <th></th>\n",
              "      <th></th>\n",
              "      <th></th>\n",
              "      <th></th>\n",
              "      <th></th>\n",
              "      <th></th>\n",
              "      <th></th>\n",
              "      <th></th>\n",
              "      <th></th>\n",
              "      <th></th>\n",
              "      <th></th>\n",
              "      <th></th>\n",
              "      <th></th>\n",
              "      <th></th>\n",
              "      <th></th>\n",
              "    </tr>\n",
              "  </thead>\n",
              "  <tbody>\n",
              "    <tr>\n",
              "      <th>0</th>\n",
              "      <td>23.2640</td>\n",
              "      <td>20.3368</td>\n",
              "      <td>19.0095</td>\n",
              "      <td>17.6724</td>\n",
              "      <td>16.9396</td>\n",
              "      <td>-8.1086e-05</td>\n",
              "      <td>23.1243</td>\n",
              "      <td>20.2578</td>\n",
              "      <td>18.9551</td>\n",
              "      <td>17.6321</td>\n",
              "      <td>16.9089</td>\n",
              "      <td>18</td>\n",
              "      <td>18</td>\n",
              "      <td>1.1898</td>\n",
              "      <td>1.1907</td>\n",
              "      <td>1.1890</td>\n",
              "      <td>1.1894</td>\n",
              "      <td>1.1902</td>\n",
              "    </tr>\n",
              "    <tr>\n",
              "      <th>1</th>\n",
              "      <td>15.0521</td>\n",
              "      <td>14.0620</td>\n",
              "      <td>13.4524</td>\n",
              "      <td>13.2684</td>\n",
              "      <td>13.1689</td>\n",
              "      <td>4.5061e-03</td>\n",
              "      <td>14.9664</td>\n",
              "      <td>14.0045</td>\n",
              "      <td>13.4114</td>\n",
              "      <td>13.2363</td>\n",
              "      <td>13.1347</td>\n",
              "      <td>1</td>\n",
              "      <td>1</td>\n",
              "      <td>1.2533</td>\n",
              "      <td>1.2578</td>\n",
              "      <td>1.2488</td>\n",
              "      <td>1.2510</td>\n",
              "      <td>1.2555</td>\n",
              "    </tr>\n",
              "    <tr>\n",
              "      <th>2</th>\n",
              "      <td>16.7864</td>\n",
              "      <td>15.8254</td>\n",
              "      <td>15.5363</td>\n",
              "      <td>15.3935</td>\n",
              "      <td>15.3500</td>\n",
              "      <td>4.7198e-04</td>\n",
              "      <td>16.6076</td>\n",
              "      <td>15.6866</td>\n",
              "      <td>15.4400</td>\n",
              "      <td>15.3217</td>\n",
              "      <td>15.2961</td>\n",
              "      <td>2</td>\n",
              "      <td>2</td>\n",
              "      <td>1.0225</td>\n",
              "      <td>1.0241</td>\n",
              "      <td>1.0210</td>\n",
              "      <td>1.0217</td>\n",
              "      <td>1.0233</td>\n",
              "    </tr>\n",
              "    <tr>\n",
              "      <th>3</th>\n",
              "      <td>25.6606</td>\n",
              "      <td>21.1887</td>\n",
              "      <td>20.2212</td>\n",
              "      <td>19.8949</td>\n",
              "      <td>19.6346</td>\n",
              "      <td>5.8143e-06</td>\n",
              "      <td>25.3536</td>\n",
              "      <td>20.9947</td>\n",
              "      <td>20.0873</td>\n",
              "      <td>19.7947</td>\n",
              "      <td>19.5552</td>\n",
              "      <td>4</td>\n",
              "      <td>3</td>\n",
              "      <td>1.2054</td>\n",
              "      <td>1.2061</td>\n",
              "      <td>1.2049</td>\n",
              "      <td>1.2051</td>\n",
              "      <td>1.2057</td>\n",
              "    </tr>\n",
              "    <tr>\n",
              "      <th>4</th>\n",
              "      <td>24.4534</td>\n",
              "      <td>20.6992</td>\n",
              "      <td>19.0424</td>\n",
              "      <td>18.3242</td>\n",
              "      <td>17.9826</td>\n",
              "      <td>-3.3247e-05</td>\n",
              "      <td>23.7714</td>\n",
              "      <td>20.4338</td>\n",
              "      <td>18.8630</td>\n",
              "      <td>18.1903</td>\n",
              "      <td>17.8759</td>\n",
              "      <td>13</td>\n",
              "      <td>12</td>\n",
              "      <td>1.1939</td>\n",
              "      <td>1.1943</td>\n",
              "      <td>1.1937</td>\n",
              "      <td>1.1938</td>\n",
              "      <td>1.1941</td>\n",
              "    </tr>\n",
              "  </tbody>\n",
              "</table>\n",
              "</div>"
            ],
            "text/plain": [
              "          u        g        r        i        z    redshift  dered_u  dered_g  \\\n",
              "id                                                                              \n",
              "0   23.2640  20.3368  19.0095  17.6724  16.9396 -8.1086e-05  23.1243  20.2578   \n",
              "1   15.0521  14.0620  13.4524  13.2684  13.1689  4.5061e-03  14.9664  14.0045   \n",
              "2   16.7864  15.8254  15.5363  15.3935  15.3500  4.7198e-04  16.6076  15.6866   \n",
              "3   25.6606  21.1887  20.2212  19.8949  19.6346  5.8143e-06  25.3536  20.9947   \n",
              "4   24.4534  20.6992  19.0424  18.3242  17.9826 -3.3247e-05  23.7714  20.4338   \n",
              "\n",
              "    dered_r  dered_i  dered_z  nObserve  nDetect  airmass_u  airmass_g  \\\n",
              "id                                                                       \n",
              "0   18.9551  17.6321  16.9089        18       18     1.1898     1.1907   \n",
              "1   13.4114  13.2363  13.1347         1        1     1.2533     1.2578   \n",
              "2   15.4400  15.3217  15.2961         2        2     1.0225     1.0241   \n",
              "3   20.0873  19.7947  19.5552         4        3     1.2054     1.2061   \n",
              "4   18.8630  18.1903  17.8759        13       12     1.1939     1.1943   \n",
              "\n",
              "    airmass_r  airmass_i  airmass_z  \n",
              "id                                   \n",
              "0      1.1890     1.1894     1.1902  \n",
              "1      1.2488     1.2510     1.2555  \n",
              "2      1.0210     1.0217     1.0233  \n",
              "3      1.2049     1.2051     1.2057  \n",
              "4      1.1937     1.1938     1.1941  "
            ]
          },
          "metadata": {
            "tags": []
          },
          "execution_count": 16
        }
      ]
    },
    {
      "cell_type": "code",
      "metadata": {
        "colab": {
          "base_uri": "https://localhost:8080/"
        },
        "id": "I2RpqjT5DS1b",
        "outputId": "d5b71afe-9b89-4e6d-88c4-45a0eeaba0b0"
      },
      "source": [
        "clf = DecisionTreeClassifier(max_depth=4, min_samples_leaf=10, random_state=seed)\n",
        "clf.fit(trn, y)"
      ],
      "execution_count": 22,
      "outputs": [
        {
          "output_type": "execute_result",
          "data": {
            "text/plain": [
              "DecisionTreeClassifier(ccp_alpha=0.0, class_weight=None, criterion='gini',\n",
              "                       max_depth=4, max_features=None, max_leaf_nodes=None,\n",
              "                       min_impurity_decrease=0.0, min_impurity_split=None,\n",
              "                       min_samples_leaf=10, min_samples_split=2,\n",
              "                       min_weight_fraction_leaf=0.0, presort='deprecated',\n",
              "                       random_state=42, splitter='best')"
            ]
          },
          "metadata": {
            "tags": []
          },
          "execution_count": 22
        }
      ]
    },
    {
      "cell_type": "code",
      "metadata": {
        "colab": {
          "base_uri": "https://localhost:8080/"
        },
        "id": "vJ87d2hLDZ5E",
        "outputId": "f34d3d3c-ebab-4adc-d123-57ddbf0bdd91"
      },
      "source": [
        "print(f'{accuracy_score(y, clf.predict(trn)) * 100:.4f}%')"
      ],
      "execution_count": 23,
      "outputs": [
        {
          "output_type": "stream",
          "text": [
            "87.7628%\n"
          ],
          "name": "stdout"
        }
      ]
    },
    {
      "cell_type": "code",
      "metadata": {
        "colab": {
          "base_uri": "https://localhost:8080/",
          "height": 675
        },
        "id": "o0tT1x46DcY8",
        "outputId": "8c4cac43-0cf3-43fc-bc8d-b5bca76b8d9d"
      },
      "source": [
        "dot_data = export_graphviz(clf, out_file=None,\n",
        "                           feature_names=trn.columns,\n",
        "                           filled=True,\n",
        "                           rounded=True,\n",
        "                           special_characters=True)  \n",
        "graph = graphviz.Source(dot_data)  \n",
        "graph"
      ],
      "execution_count": 24,
      "outputs": [
        {
          "output_type": "execute_result",
          "data": {
            "text/plain": [
              "<graphviz.files.Source at 0x7f1d63384890>"
            ],
            "image/svg+xml": "<?xml version=\"1.0\" encoding=\"UTF-8\" standalone=\"no\"?>\n<!DOCTYPE svg PUBLIC \"-//W3C//DTD SVG 1.1//EN\"\n \"http://www.w3.org/Graphics/SVG/1.1/DTD/svg11.dtd\">\n<!-- Generated by graphviz version 2.40.1 (20161225.0304)\n -->\n<!-- Title: Tree Pages: 1 -->\n<svg width=\"2804pt\" height=\"477pt\"\n viewBox=\"0.00 0.00 2804.00 477.00\" xmlns=\"http://www.w3.org/2000/svg\" xmlns:xlink=\"http://www.w3.org/1999/xlink\">\n<g id=\"graph0\" class=\"graph\" transform=\"scale(1 1) rotate(0) translate(4 473)\">\n<title>Tree</title>\n<polygon fill=\"#ffffff\" stroke=\"transparent\" points=\"-4,4 -4,-473 2800,-473 2800,4 -4,4\"/>\n<!-- 0 -->\n<g id=\"node1\" class=\"node\">\n<title>0</title>\n<path fill=\"#e8dafa\" stroke=\"#000000\" d=\"M1375.5,-469C1375.5,-469 1169.5,-469 1169.5,-469 1163.5,-469 1157.5,-463 1157.5,-457 1157.5,-457 1157.5,-413 1157.5,-413 1157.5,-407 1163.5,-401 1169.5,-401 1169.5,-401 1375.5,-401 1375.5,-401 1381.5,-401 1387.5,-407 1387.5,-413 1387.5,-413 1387.5,-457 1387.5,-457 1387.5,-463 1381.5,-469 1375.5,-469\"/>\n<text text-anchor=\"start\" x=\"1222.5\" y=\"-453.8\" font-family=\"Helvetica,sans-Serif\" font-size=\"14.00\" fill=\"#000000\">redshift ≤ 0.004</text>\n<text text-anchor=\"start\" x=\"1243\" y=\"-438.8\" font-family=\"Helvetica,sans-Serif\" font-size=\"14.00\" fill=\"#000000\">gini = 0.6</text>\n<text text-anchor=\"start\" x=\"1212\" y=\"-423.8\" font-family=\"Helvetica,sans-Serif\" font-size=\"14.00\" fill=\"#000000\">samples = 320000</text>\n<text text-anchor=\"start\" x=\"1165.5\" y=\"-408.8\" font-family=\"Helvetica,sans-Serif\" font-size=\"14.00\" fill=\"#000000\">value = [119996, 42785, 157219]</text>\n</g>\n<!-- 1 -->\n<g id=\"node2\" class=\"node\">\n<title>1</title>\n<path fill=\"#e5823a\" stroke=\"#000000\" d=\"M1006,-365C1006,-365 841,-365 841,-365 835,-365 829,-359 829,-353 829,-353 829,-309 829,-309 829,-303 835,-297 841,-297 841,-297 1006,-297 1006,-297 1012,-297 1018,-303 1018,-309 1018,-309 1018,-353 1018,-353 1018,-359 1012,-365 1006,-365\"/>\n<text text-anchor=\"start\" x=\"873.5\" y=\"-349.8\" font-family=\"Helvetica,sans-Serif\" font-size=\"14.00\" fill=\"#000000\">redshift ≤ 0.002</text>\n<text text-anchor=\"start\" x=\"885.5\" y=\"-334.8\" font-family=\"Helvetica,sans-Serif\" font-size=\"14.00\" fill=\"#000000\">gini = 0.008</text>\n<text text-anchor=\"start\" x=\"863\" y=\"-319.8\" font-family=\"Helvetica,sans-Serif\" font-size=\"14.00\" fill=\"#000000\">samples = 119808</text>\n<text text-anchor=\"start\" x=\"837\" y=\"-304.8\" font-family=\"Helvetica,sans-Serif\" font-size=\"14.00\" fill=\"#000000\">value = [119331, 248, 229]</text>\n</g>\n<!-- 0&#45;&gt;1 -->\n<g id=\"edge1\" class=\"edge\">\n<title>0&#45;&gt;1</title>\n<path fill=\"none\" stroke=\"#000000\" d=\"M1158.2243,-400.9465C1116.263,-388.4423 1069.0061,-374.36 1027.9516,-362.126\"/>\n<polygon fill=\"#000000\" stroke=\"#000000\" points=\"1028.7864,-358.7227 1018.2033,-359.221 1026.7873,-365.4312 1028.7864,-358.7227\"/>\n<text text-anchor=\"middle\" x=\"1030.0963\" y=\"-377.511\" font-family=\"Helvetica,sans-Serif\" font-size=\"14.00\" fill=\"#000000\">True</text>\n</g>\n<!-- 16 -->\n<g id=\"node17\" class=\"node\">\n<title>16</title>\n<path fill=\"#a46fec\" stroke=\"#000000\" d=\"M1734.5,-365C1734.5,-365 1552.5,-365 1552.5,-365 1546.5,-365 1540.5,-359 1540.5,-353 1540.5,-353 1540.5,-309 1540.5,-309 1540.5,-303 1546.5,-297 1552.5,-297 1552.5,-297 1734.5,-297 1734.5,-297 1740.5,-297 1746.5,-303 1746.5,-309 1746.5,-309 1746.5,-353 1746.5,-353 1746.5,-359 1740.5,-365 1734.5,-365\"/>\n<text text-anchor=\"start\" x=\"1586.5\" y=\"-349.8\" font-family=\"Helvetica,sans-Serif\" font-size=\"14.00\" fill=\"#000000\">dered_z ≤ 17.267</text>\n<text text-anchor=\"start\" x=\"1610\" y=\"-334.8\" font-family=\"Helvetica,sans-Serif\" font-size=\"14.00\" fill=\"#000000\">gini = 0.34</text>\n<text text-anchor=\"start\" x=\"1583\" y=\"-319.8\" font-family=\"Helvetica,sans-Serif\" font-size=\"14.00\" fill=\"#000000\">samples = 200192</text>\n<text text-anchor=\"start\" x=\"1548.5\" y=\"-304.8\" font-family=\"Helvetica,sans-Serif\" font-size=\"14.00\" fill=\"#000000\">value = [665, 42537, 156990]</text>\n</g>\n<!-- 0&#45;&gt;16 -->\n<g id=\"edge16\" class=\"edge\">\n<title>0&#45;&gt;16</title>\n<path fill=\"none\" stroke=\"#000000\" d=\"M1387.5994,-402.7349C1433.0902,-389.9828 1485.2135,-375.3714 1530.4968,-362.6774\"/>\n<polygon fill=\"#000000\" stroke=\"#000000\" points=\"1531.665,-365.985 1540.3491,-359.9156 1529.7755,-359.2448 1531.665,-365.985\"/>\n<text text-anchor=\"middle\" x=\"1528.0991\" y=\"-378.0087\" font-family=\"Helvetica,sans-Serif\" font-size=\"14.00\" fill=\"#000000\">False</text>\n</g>\n<!-- 2 -->\n<g id=\"node3\" class=\"node\">\n<title>2</title>\n<path fill=\"#e58139\" stroke=\"#000000\" d=\"M535,-261C535,-261 386,-261 386,-261 380,-261 374,-255 374,-249 374,-249 374,-205 374,-205 374,-199 380,-193 386,-193 386,-193 535,-193 535,-193 541,-193 547,-199 547,-205 547,-205 547,-249 547,-249 547,-255 541,-261 535,-261\"/>\n<text text-anchor=\"start\" x=\"410.5\" y=\"-245.8\" font-family=\"Helvetica,sans-Serif\" font-size=\"14.00\" fill=\"#000000\">redshift ≤ 0.001</text>\n<text text-anchor=\"start\" x=\"422.5\" y=\"-230.8\" font-family=\"Helvetica,sans-Serif\" font-size=\"14.00\" fill=\"#000000\">gini = 0.001</text>\n<text text-anchor=\"start\" x=\"400\" y=\"-215.8\" font-family=\"Helvetica,sans-Serif\" font-size=\"14.00\" fill=\"#000000\">samples = 118829</text>\n<text text-anchor=\"start\" x=\"382\" y=\"-200.8\" font-family=\"Helvetica,sans-Serif\" font-size=\"14.00\" fill=\"#000000\">value = [118771, 35, 23]</text>\n</g>\n<!-- 1&#45;&gt;2 -->\n<g id=\"edge2\" class=\"edge\">\n<title>1&#45;&gt;2</title>\n<path fill=\"none\" stroke=\"#000000\" d=\"M828.9675,-309.7659C749.7063,-291.9621 636.9953,-266.6447 557.1466,-248.709\"/>\n<polygon fill=\"#000000\" stroke=\"#000000\" points=\"557.6108,-245.2261 547.0868,-246.4493 556.0766,-252.0559 557.6108,-245.2261\"/>\n</g>\n<!-- 9 -->\n<g id=\"node10\" class=\"node\">\n<title>9</title>\n<path fill=\"#f3c6a5\" stroke=\"#000000\" d=\"M993.5,-261C993.5,-261 853.5,-261 853.5,-261 847.5,-261 841.5,-255 841.5,-249 841.5,-249 841.5,-205 841.5,-205 841.5,-199 847.5,-193 853.5,-193 853.5,-193 993.5,-193 993.5,-193 999.5,-193 1005.5,-199 1005.5,-205 1005.5,-205 1005.5,-249 1005.5,-249 1005.5,-255 999.5,-261 993.5,-261\"/>\n<text text-anchor=\"start\" x=\"889\" y=\"-245.8\" font-family=\"Helvetica,sans-Serif\" font-size=\"14.00\" fill=\"#000000\">u ≤ 18.607</text>\n<text text-anchor=\"start\" x=\"885.5\" y=\"-230.8\" font-family=\"Helvetica,sans-Serif\" font-size=\"14.00\" fill=\"#000000\">gini = 0.581</text>\n<text text-anchor=\"start\" x=\"875.5\" y=\"-215.8\" font-family=\"Helvetica,sans-Serif\" font-size=\"14.00\" fill=\"#000000\">samples = 979</text>\n<text text-anchor=\"start\" x=\"849.5\" y=\"-200.8\" font-family=\"Helvetica,sans-Serif\" font-size=\"14.00\" fill=\"#000000\">value = [560, 213, 206]</text>\n</g>\n<!-- 1&#45;&gt;9 -->\n<g id=\"edge9\" class=\"edge\">\n<title>1&#45;&gt;9</title>\n<path fill=\"none\" stroke=\"#000000\" d=\"M923.5,-296.9465C923.5,-288.776 923.5,-279.9318 923.5,-271.3697\"/>\n<polygon fill=\"#000000\" stroke=\"#000000\" points=\"927.0001,-271.13 923.5,-261.13 920.0001,-271.13 927.0001,-271.13\"/>\n</g>\n<!-- 3 -->\n<g id=\"node4\" class=\"node\">\n<title>3</title>\n<path fill=\"#e58139\" stroke=\"#000000\" d=\"M302,-157C302,-157 153,-157 153,-157 147,-157 141,-151 141,-145 141,-145 141,-101 141,-101 141,-95 147,-89 153,-89 153,-89 302,-89 302,-89 308,-89 314,-95 314,-101 314,-101 314,-145 314,-145 314,-151 308,-157 302,-157\"/>\n<text text-anchor=\"start\" x=\"193.5\" y=\"-141.8\" font-family=\"Helvetica,sans-Serif\" font-size=\"14.00\" fill=\"#000000\">z ≤ 12.636</text>\n<text text-anchor=\"start\" x=\"189.5\" y=\"-126.8\" font-family=\"Helvetica,sans-Serif\" font-size=\"14.00\" fill=\"#000000\">gini = 0.001</text>\n<text text-anchor=\"start\" x=\"167\" y=\"-111.8\" font-family=\"Helvetica,sans-Serif\" font-size=\"14.00\" fill=\"#000000\">samples = 118764</text>\n<text text-anchor=\"start\" x=\"149\" y=\"-96.8\" font-family=\"Helvetica,sans-Serif\" font-size=\"14.00\" fill=\"#000000\">value = [118716, 30, 18]</text>\n</g>\n<!-- 2&#45;&gt;3 -->\n<g id=\"edge3\" class=\"edge\">\n<title>2&#45;&gt;3</title>\n<path fill=\"none\" stroke=\"#000000\" d=\"M384.2071,-192.9465C361.4767,-182.8008 336.4188,-171.6161 313.1338,-161.2228\"/>\n<polygon fill=\"#000000\" stroke=\"#000000\" points=\"314.5226,-158.0099 303.9643,-157.13 311.6694,-164.4021 314.5226,-158.0099\"/>\n</g>\n<!-- 6 -->\n<g id=\"node7\" class=\"node\">\n<title>6</title>\n<path fill=\"#e9965a\" stroke=\"#000000\" d=\"M510,-157C510,-157 411,-157 411,-157 405,-157 399,-151 399,-145 399,-145 399,-101 399,-101 399,-95 405,-89 411,-89 411,-89 510,-89 510,-89 516,-89 522,-95 522,-101 522,-101 522,-145 522,-145 522,-151 516,-157 510,-157\"/>\n<text text-anchor=\"start\" x=\"426\" y=\"-141.8\" font-family=\"Helvetica,sans-Serif\" font-size=\"14.00\" fill=\"#000000\">u ≤ 17.819</text>\n<text text-anchor=\"start\" x=\"422.5\" y=\"-126.8\" font-family=\"Helvetica,sans-Serif\" font-size=\"14.00\" fill=\"#000000\">gini = 0.272</text>\n<text text-anchor=\"start\" x=\"416.5\" y=\"-111.8\" font-family=\"Helvetica,sans-Serif\" font-size=\"14.00\" fill=\"#000000\">samples = 65</text>\n<text text-anchor=\"start\" x=\"407\" y=\"-96.8\" font-family=\"Helvetica,sans-Serif\" font-size=\"14.00\" fill=\"#000000\">value = [55, 5, 5]</text>\n</g>\n<!-- 2&#45;&gt;6 -->\n<g id=\"edge6\" class=\"edge\">\n<title>2&#45;&gt;6</title>\n<path fill=\"none\" stroke=\"#000000\" d=\"M460.5,-192.9465C460.5,-184.776 460.5,-175.9318 460.5,-167.3697\"/>\n<polygon fill=\"#000000\" stroke=\"#000000\" points=\"464.0001,-167.13 460.5,-157.13 457.0001,-167.13 464.0001,-167.13\"/>\n</g>\n<!-- 4 -->\n<g id=\"node5\" class=\"node\">\n<title>4</title>\n<path fill=\"#e99559\" stroke=\"#000000\" d=\"M111,-53C111,-53 12,-53 12,-53 6,-53 0,-47 0,-41 0,-41 0,-12 0,-12 0,-6 6,0 12,0 12,0 111,0 111,0 117,0 123,-6 123,-12 123,-12 123,-41 123,-41 123,-47 117,-53 111,-53\"/>\n<text text-anchor=\"start\" x=\"23.5\" y=\"-37.8\" font-family=\"Helvetica,sans-Serif\" font-size=\"14.00\" fill=\"#000000\">gini = 0.259</text>\n<text text-anchor=\"start\" x=\"17.5\" y=\"-22.8\" font-family=\"Helvetica,sans-Serif\" font-size=\"14.00\" fill=\"#000000\">samples = 41</text>\n<text text-anchor=\"start\" x=\"8\" y=\"-7.8\" font-family=\"Helvetica,sans-Serif\" font-size=\"14.00\" fill=\"#000000\">value = [35, 2, 4]</text>\n</g>\n<!-- 3&#45;&gt;4 -->\n<g id=\"edge4\" class=\"edge\">\n<title>3&#45;&gt;4</title>\n<path fill=\"none\" stroke=\"#000000\" d=\"M168.9746,-88.9777C151.7256,-78.9504 132.9277,-68.0228 115.946,-58.1508\"/>\n<polygon fill=\"#000000\" stroke=\"#000000\" points=\"117.6533,-55.095 107.249,-53.095 114.1353,-61.1467 117.6533,-55.095\"/>\n</g>\n<!-- 5 -->\n<g id=\"node6\" class=\"node\">\n<title>5</title>\n<path fill=\"#e58139\" stroke=\"#000000\" d=\"M302,-53C302,-53 153,-53 153,-53 147,-53 141,-47 141,-41 141,-41 141,-12 141,-12 141,-6 147,0 153,0 153,0 302,0 302,0 308,0 314,-6 314,-12 314,-12 314,-41 314,-41 314,-47 308,-53 302,-53\"/>\n<text text-anchor=\"start\" x=\"189.5\" y=\"-37.8\" font-family=\"Helvetica,sans-Serif\" font-size=\"14.00\" fill=\"#000000\">gini = 0.001</text>\n<text text-anchor=\"start\" x=\"167\" y=\"-22.8\" font-family=\"Helvetica,sans-Serif\" font-size=\"14.00\" fill=\"#000000\">samples = 118723</text>\n<text text-anchor=\"start\" x=\"149\" y=\"-7.8\" font-family=\"Helvetica,sans-Serif\" font-size=\"14.00\" fill=\"#000000\">value = [118681, 28, 14]</text>\n</g>\n<!-- 3&#45;&gt;5 -->\n<g id=\"edge5\" class=\"edge\">\n<title>3&#45;&gt;5</title>\n<path fill=\"none\" stroke=\"#000000\" d=\"M227.5,-88.9777C227.5,-80.7364 227.5,-71.887 227.5,-63.5153\"/>\n<polygon fill=\"#000000\" stroke=\"#000000\" points=\"231.0001,-63.2484 227.5,-53.2485 224.0001,-63.2485 231.0001,-63.2484\"/>\n</g>\n<!-- 7 -->\n<g id=\"node8\" class=\"node\">\n<title>7</title>\n<path fill=\"#f9e3d3\" stroke=\"#000000\" d=\"M435,-53C435,-53 344,-53 344,-53 338,-53 332,-47 332,-41 332,-41 332,-12 332,-12 332,-6 338,0 344,0 344,0 435,0 435,0 441,0 447,-6 447,-12 447,-12 447,-41 447,-41 447,-47 441,-53 435,-53\"/>\n<text text-anchor=\"start\" x=\"351.5\" y=\"-37.8\" font-family=\"Helvetica,sans-Serif\" font-size=\"14.00\" fill=\"#000000\">gini = 0.639</text>\n<text text-anchor=\"start\" x=\"345.5\" y=\"-22.8\" font-family=\"Helvetica,sans-Serif\" font-size=\"14.00\" fill=\"#000000\">samples = 13</text>\n<text text-anchor=\"start\" x=\"340\" y=\"-7.8\" font-family=\"Helvetica,sans-Serif\" font-size=\"14.00\" fill=\"#000000\">value = [6, 4, 3]</text>\n</g>\n<!-- 6&#45;&gt;7 -->\n<g id=\"edge7\" class=\"edge\">\n<title>6&#45;&gt;7</title>\n<path fill=\"none\" stroke=\"#000000\" d=\"M435.4681,-88.9777C428.9329,-80.0954 421.878,-70.5067 415.3036,-61.5711\"/>\n<polygon fill=\"#000000\" stroke=\"#000000\" points=\"417.9257,-59.229 409.1802,-53.2485 412.2874,-63.3775 417.9257,-59.229\"/>\n</g>\n<!-- 8 -->\n<g id=\"node9\" class=\"node\">\n<title>8</title>\n<path fill=\"#e78945\" stroke=\"#000000\" d=\"M576,-53C576,-53 477,-53 477,-53 471,-53 465,-47 465,-41 465,-41 465,-12 465,-12 465,-6 471,0 477,0 477,0 576,0 576,0 582,0 588,-6 588,-12 588,-12 588,-41 588,-41 588,-47 582,-53 576,-53\"/>\n<text text-anchor=\"start\" x=\"493\" y=\"-37.8\" font-family=\"Helvetica,sans-Serif\" font-size=\"14.00\" fill=\"#000000\">gini = 0.11</text>\n<text text-anchor=\"start\" x=\"482.5\" y=\"-22.8\" font-family=\"Helvetica,sans-Serif\" font-size=\"14.00\" fill=\"#000000\">samples = 52</text>\n<text text-anchor=\"start\" x=\"473\" y=\"-7.8\" font-family=\"Helvetica,sans-Serif\" font-size=\"14.00\" fill=\"#000000\">value = [49, 1, 2]</text>\n</g>\n<!-- 6&#45;&gt;8 -->\n<g id=\"edge8\" class=\"edge\">\n<title>6&#45;&gt;8</title>\n<path fill=\"none\" stroke=\"#000000\" d=\"M483.7691,-88.9777C489.844,-80.0954 496.4021,-70.5067 502.5135,-61.5711\"/>\n<polygon fill=\"#000000\" stroke=\"#000000\" points=\"505.4493,-63.4785 508.2057,-53.2485 499.6714,-59.5267 505.4493,-63.4785\"/>\n</g>\n<!-- 10 -->\n<g id=\"node11\" class=\"node\">\n<title>10</title>\n<path fill=\"#f9fefb\" stroke=\"#000000\" d=\"M906.5,-157C906.5,-157 766.5,-157 766.5,-157 760.5,-157 754.5,-151 754.5,-145 754.5,-145 754.5,-101 754.5,-101 754.5,-95 760.5,-89 766.5,-89 766.5,-89 906.5,-89 906.5,-89 912.5,-89 918.5,-95 918.5,-101 918.5,-101 918.5,-145 918.5,-145 918.5,-151 912.5,-157 906.5,-157\"/>\n<text text-anchor=\"start\" x=\"779.5\" y=\"-141.8\" font-family=\"Helvetica,sans-Serif\" font-size=\"14.00\" fill=\"#000000\">dered_z ≤ 16.262</text>\n<text text-anchor=\"start\" x=\"798.5\" y=\"-126.8\" font-family=\"Helvetica,sans-Serif\" font-size=\"14.00\" fill=\"#000000\">gini = 0.656</text>\n<text text-anchor=\"start\" x=\"788.5\" y=\"-111.8\" font-family=\"Helvetica,sans-Serif\" font-size=\"14.00\" fill=\"#000000\">samples = 441</text>\n<text text-anchor=\"start\" x=\"762.5\" y=\"-96.8\" font-family=\"Helvetica,sans-Serif\" font-size=\"14.00\" fill=\"#000000\">value = [110, 170, 161]</text>\n</g>\n<!-- 9&#45;&gt;10 -->\n<g id=\"edge10\" class=\"edge\">\n<title>9&#45;&gt;10</title>\n<path fill=\"none\" stroke=\"#000000\" d=\"M895.0129,-192.9465C887.5021,-183.968 879.3105,-174.1758 871.4995,-164.8385\"/>\n<polygon fill=\"#000000\" stroke=\"#000000\" points=\"874.152,-162.5544 865.0511,-157.13 868.7829,-167.0459 874.152,-162.5544\"/>\n</g>\n<!-- 13 -->\n<g id=\"node14\" class=\"node\">\n<title>13</title>\n<path fill=\"#ea975c\" stroke=\"#000000\" d=\"M1072.5,-157C1072.5,-157 948.5,-157 948.5,-157 942.5,-157 936.5,-151 936.5,-145 936.5,-145 936.5,-101 936.5,-101 936.5,-95 942.5,-89 948.5,-89 948.5,-89 1072.5,-89 1072.5,-89 1078.5,-89 1084.5,-95 1084.5,-101 1084.5,-101 1084.5,-145 1084.5,-145 1084.5,-151 1078.5,-157 1072.5,-157\"/>\n<text text-anchor=\"start\" x=\"956\" y=\"-141.8\" font-family=\"Helvetica,sans-Serif\" font-size=\"14.00\" fill=\"#000000\">dered_i ≤ 20.975</text>\n<text text-anchor=\"start\" x=\"972.5\" y=\"-126.8\" font-family=\"Helvetica,sans-Serif\" font-size=\"14.00\" fill=\"#000000\">gini = 0.287</text>\n<text text-anchor=\"start\" x=\"962.5\" y=\"-111.8\" font-family=\"Helvetica,sans-Serif\" font-size=\"14.00\" fill=\"#000000\">samples = 538</text>\n<text text-anchor=\"start\" x=\"944.5\" y=\"-96.8\" font-family=\"Helvetica,sans-Serif\" font-size=\"14.00\" fill=\"#000000\">value = [450, 43, 45]</text>\n</g>\n<!-- 9&#45;&gt;13 -->\n<g id=\"edge13\" class=\"edge\">\n<title>9&#45;&gt;13</title>\n<path fill=\"none\" stroke=\"#000000\" d=\"M951.9871,-192.9465C959.4979,-183.968 967.6895,-174.1758 975.5005,-164.8385\"/>\n<polygon fill=\"#000000\" stroke=\"#000000\" points=\"978.2171,-167.0459 981.9489,-157.13 972.848,-162.5544 978.2171,-167.0459\"/>\n</g>\n<!-- 11 -->\n<g id=\"node12\" class=\"node\">\n<title>11</title>\n<path fill=\"#e3d2f9\" stroke=\"#000000\" d=\"M742.5,-53C742.5,-53 618.5,-53 618.5,-53 612.5,-53 606.5,-47 606.5,-41 606.5,-41 606.5,-12 606.5,-12 606.5,-6 612.5,0 618.5,0 618.5,0 742.5,0 742.5,0 748.5,0 754.5,-6 754.5,-12 754.5,-12 754.5,-41 754.5,-41 754.5,-47 748.5,-53 742.5,-53\"/>\n<text text-anchor=\"start\" x=\"642.5\" y=\"-37.8\" font-family=\"Helvetica,sans-Serif\" font-size=\"14.00\" fill=\"#000000\">gini = 0.645</text>\n<text text-anchor=\"start\" x=\"632.5\" y=\"-22.8\" font-family=\"Helvetica,sans-Serif\" font-size=\"14.00\" fill=\"#000000\">samples = 307</text>\n<text text-anchor=\"start\" x=\"614.5\" y=\"-7.8\" font-family=\"Helvetica,sans-Serif\" font-size=\"14.00\" fill=\"#000000\">value = [78, 90, 139]</text>\n</g>\n<!-- 10&#45;&gt;11 -->\n<g id=\"edge11\" class=\"edge\">\n<title>10&#45;&gt;11</title>\n<path fill=\"none\" stroke=\"#000000\" d=\"M781.5002,-88.9777C765.513,-79.0882 748.11,-68.3229 732.3249,-58.5583\"/>\n<polygon fill=\"#000000\" stroke=\"#000000\" points=\"734.0867,-55.5327 723.7411,-53.2485 730.4042,-61.4858 734.0867,-55.5327\"/>\n</g>\n<!-- 12 -->\n<g id=\"node13\" class=\"node\">\n<title>12</title>\n<path fill=\"#a2f3c4\" stroke=\"#000000\" d=\"M900.5,-53C900.5,-53 784.5,-53 784.5,-53 778.5,-53 772.5,-47 772.5,-41 772.5,-41 772.5,-12 772.5,-12 772.5,-6 778.5,0 784.5,0 784.5,0 900.5,0 900.5,0 906.5,0 912.5,-6 912.5,-12 912.5,-12 912.5,-41 912.5,-41 912.5,-47 906.5,-53 900.5,-53\"/>\n<text text-anchor=\"start\" x=\"809\" y=\"-37.8\" font-family=\"Helvetica,sans-Serif\" font-size=\"14.00\" fill=\"#000000\">gini = 0.56</text>\n<text text-anchor=\"start\" x=\"794.5\" y=\"-22.8\" font-family=\"Helvetica,sans-Serif\" font-size=\"14.00\" fill=\"#000000\">samples = 134</text>\n<text text-anchor=\"start\" x=\"780.5\" y=\"-7.8\" font-family=\"Helvetica,sans-Serif\" font-size=\"14.00\" fill=\"#000000\">value = [32, 80, 22]</text>\n</g>\n<!-- 10&#45;&gt;12 -->\n<g id=\"edge12\" class=\"edge\">\n<title>10&#45;&gt;12</title>\n<path fill=\"none\" stroke=\"#000000\" d=\"M838.6154,-88.9777C839.1335,-80.6449 839.6902,-71.6903 840.2159,-63.2364\"/>\n<polygon fill=\"#000000\" stroke=\"#000000\" points=\"843.7095,-63.4464 840.8369,-53.2485 836.723,-63.012 843.7095,-63.4464\"/>\n</g>\n<!-- 14 -->\n<g id=\"node15\" class=\"node\">\n<title>14</title>\n<path fill=\"#e89051\" stroke=\"#000000\" d=\"M1066.5,-53C1066.5,-53 942.5,-53 942.5,-53 936.5,-53 930.5,-47 930.5,-41 930.5,-41 930.5,-12 930.5,-12 930.5,-6 936.5,0 942.5,0 942.5,0 1066.5,0 1066.5,0 1072.5,0 1078.5,-6 1078.5,-12 1078.5,-12 1078.5,-41 1078.5,-41 1078.5,-47 1072.5,-53 1066.5,-53\"/>\n<text text-anchor=\"start\" x=\"966.5\" y=\"-37.8\" font-family=\"Helvetica,sans-Serif\" font-size=\"14.00\" fill=\"#000000\">gini = 0.211</text>\n<text text-anchor=\"start\" x=\"956.5\" y=\"-22.8\" font-family=\"Helvetica,sans-Serif\" font-size=\"14.00\" fill=\"#000000\">samples = 458</text>\n<text text-anchor=\"start\" x=\"938.5\" y=\"-7.8\" font-family=\"Helvetica,sans-Serif\" font-size=\"14.00\" fill=\"#000000\">value = [405, 26, 27]</text>\n</g>\n<!-- 13&#45;&gt;14 -->\n<g id=\"edge14\" class=\"edge\">\n<title>13&#45;&gt;14</title>\n<path fill=\"none\" stroke=\"#000000\" d=\"M1008.3846,-88.9777C1007.8665,-80.6449 1007.3098,-71.6903 1006.7841,-63.2364\"/>\n<polygon fill=\"#000000\" stroke=\"#000000\" points=\"1010.277,-63.012 1006.1631,-53.2485 1003.2905,-63.4464 1010.277,-63.012\"/>\n</g>\n<!-- 15 -->\n<g id=\"node16\" class=\"node\">\n<title>15</title>\n<path fill=\"#f4c8a9\" stroke=\"#000000\" d=\"M1224.5,-53C1224.5,-53 1108.5,-53 1108.5,-53 1102.5,-53 1096.5,-47 1096.5,-41 1096.5,-41 1096.5,-12 1096.5,-12 1096.5,-6 1102.5,0 1108.5,0 1108.5,0 1224.5,0 1224.5,0 1230.5,0 1236.5,-6 1236.5,-12 1236.5,-12 1236.5,-41 1236.5,-41 1236.5,-47 1230.5,-53 1224.5,-53\"/>\n<text text-anchor=\"start\" x=\"1128.5\" y=\"-37.8\" font-family=\"Helvetica,sans-Serif\" font-size=\"14.00\" fill=\"#000000\">gini = 0.588</text>\n<text text-anchor=\"start\" x=\"1122.5\" y=\"-22.8\" font-family=\"Helvetica,sans-Serif\" font-size=\"14.00\" fill=\"#000000\">samples = 80</text>\n<text text-anchor=\"start\" x=\"1104.5\" y=\"-7.8\" font-family=\"Helvetica,sans-Serif\" font-size=\"14.00\" fill=\"#000000\">value = [45, 17, 18]</text>\n</g>\n<!-- 13&#45;&gt;15 -->\n<g id=\"edge15\" class=\"edge\">\n<title>13&#45;&gt;15</title>\n<path fill=\"none\" stroke=\"#000000\" d=\"M1065.4998,-88.9777C1081.487,-79.0882 1098.89,-68.3229 1114.6751,-58.5583\"/>\n<polygon fill=\"#000000\" stroke=\"#000000\" points=\"1116.5958,-61.4858 1123.2589,-53.2485 1112.9133,-55.5327 1116.5958,-61.4858\"/>\n</g>\n<!-- 17 -->\n<g id=\"node18\" class=\"node\">\n<title>17</title>\n<path fill=\"#9659e9\" stroke=\"#000000\" d=\"M1730,-261C1730,-261 1557,-261 1557,-261 1551,-261 1545,-255 1545,-249 1545,-249 1545,-205 1545,-205 1545,-199 1551,-193 1557,-193 1557,-193 1730,-193 1730,-193 1736,-193 1742,-199 1742,-205 1742,-205 1742,-249 1742,-249 1742,-255 1736,-261 1730,-261\"/>\n<text text-anchor=\"start\" x=\"1586\" y=\"-245.8\" font-family=\"Helvetica,sans-Serif\" font-size=\"14.00\" fill=\"#000000\">dered_u ≤ 19.041</text>\n<text text-anchor=\"start\" x=\"1605.5\" y=\"-230.8\" font-family=\"Helvetica,sans-Serif\" font-size=\"14.00\" fill=\"#000000\">gini = 0.242</text>\n<text text-anchor=\"start\" x=\"1583\" y=\"-215.8\" font-family=\"Helvetica,sans-Serif\" font-size=\"14.00\" fill=\"#000000\">samples = 160119</text>\n<text text-anchor=\"start\" x=\"1553\" y=\"-200.8\" font-family=\"Helvetica,sans-Serif\" font-size=\"14.00\" fill=\"#000000\">value = [96, 22466, 137557]</text>\n</g>\n<!-- 16&#45;&gt;17 -->\n<g id=\"edge17\" class=\"edge\">\n<title>16&#45;&gt;17</title>\n<path fill=\"none\" stroke=\"#000000\" d=\"M1643.5,-296.9465C1643.5,-288.776 1643.5,-279.9318 1643.5,-271.3697\"/>\n<polygon fill=\"#000000\" stroke=\"#000000\" points=\"1647.0001,-271.13 1643.5,-261.13 1640.0001,-271.13 1647.0001,-271.13\"/>\n</g>\n<!-- 24 -->\n<g id=\"node25\" class=\"node\">\n<title>24</title>\n<path fill=\"#f9fefb\" stroke=\"#000000\" d=\"M2299,-261C2299,-261 2126,-261 2126,-261 2120,-261 2114,-255 2114,-249 2114,-249 2114,-205 2114,-205 2114,-199 2120,-193 2126,-193 2126,-193 2299,-193 2299,-193 2305,-193 2311,-199 2311,-205 2311,-205 2311,-249 2311,-249 2311,-255 2305,-261 2299,-261\"/>\n<text text-anchor=\"start\" x=\"2155\" y=\"-245.8\" font-family=\"Helvetica,sans-Serif\" font-size=\"14.00\" fill=\"#000000\">dered_u ≤ 18.984</text>\n<text text-anchor=\"start\" x=\"2174.5\" y=\"-230.8\" font-family=\"Helvetica,sans-Serif\" font-size=\"14.00\" fill=\"#000000\">gini = 0.514</text>\n<text text-anchor=\"start\" x=\"2156.5\" y=\"-215.8\" font-family=\"Helvetica,sans-Serif\" font-size=\"14.00\" fill=\"#000000\">samples = 40073</text>\n<text text-anchor=\"start\" x=\"2122\" y=\"-200.8\" font-family=\"Helvetica,sans-Serif\" font-size=\"14.00\" fill=\"#000000\">value = [569, 20071, 19433]</text>\n</g>\n<!-- 16&#45;&gt;24 -->\n<g id=\"edge24\" class=\"edge\">\n<title>16&#45;&gt;24</title>\n<path fill=\"none\" stroke=\"#000000\" d=\"M1746.5416,-312.1664C1847.425,-293.7272 2000.5534,-265.7389 2103.4507,-246.9317\"/>\n<polygon fill=\"#000000\" stroke=\"#000000\" points=\"2104.3515,-250.3251 2113.5592,-245.0841 2103.0928,-243.4392 2104.3515,-250.3251\"/>\n</g>\n<!-- 18 -->\n<g id=\"node19\" class=\"node\">\n<title>18</title>\n<path fill=\"#a16bec\" stroke=\"#000000\" d=\"M1625,-157C1625,-157 1460,-157 1460,-157 1454,-157 1448,-151 1448,-145 1448,-145 1448,-101 1448,-101 1448,-95 1454,-89 1460,-89 1460,-89 1625,-89 1625,-89 1631,-89 1637,-95 1637,-101 1637,-101 1637,-145 1637,-145 1637,-151 1631,-157 1625,-157\"/>\n<text text-anchor=\"start\" x=\"1508.5\" y=\"-141.8\" font-family=\"Helvetica,sans-Serif\" font-size=\"14.00\" fill=\"#000000\">z ≤ 16.652</text>\n<text text-anchor=\"start\" x=\"1504.5\" y=\"-126.8\" font-family=\"Helvetica,sans-Serif\" font-size=\"14.00\" fill=\"#000000\">gini = 0.324</text>\n<text text-anchor=\"start\" x=\"1486.5\" y=\"-111.8\" font-family=\"Helvetica,sans-Serif\" font-size=\"14.00\" fill=\"#000000\">samples = 88040</text>\n<text text-anchor=\"start\" x=\"1456\" y=\"-96.8\" font-family=\"Helvetica,sans-Serif\" font-size=\"14.00\" fill=\"#000000\">value = [59, 17805, 70176]</text>\n</g>\n<!-- 17&#45;&gt;18 -->\n<g id=\"edge18\" class=\"edge\">\n<title>17&#45;&gt;18</title>\n<path fill=\"none\" stroke=\"#000000\" d=\"M1610.4288,-192.9465C1601.6221,-183.8782 1592.0093,-173.9799 1582.8597,-164.5585\"/>\n<polygon fill=\"#000000\" stroke=\"#000000\" points=\"1585.1232,-161.8654 1575.6455,-157.13 1580.1015,-166.7422 1585.1232,-161.8654\"/>\n</g>\n<!-- 21 -->\n<g id=\"node22\" class=\"node\">\n<title>21</title>\n<path fill=\"#8a47e7\" stroke=\"#000000\" d=\"M1824,-157C1824,-157 1667,-157 1667,-157 1661,-157 1655,-151 1655,-145 1655,-145 1655,-101 1655,-101 1655,-95 1661,-89 1667,-89 1667,-89 1824,-89 1824,-89 1830,-89 1836,-95 1836,-101 1836,-101 1836,-145 1836,-145 1836,-151 1830,-157 1824,-157\"/>\n<text text-anchor=\"start\" x=\"1711.5\" y=\"-141.8\" font-family=\"Helvetica,sans-Serif\" font-size=\"14.00\" fill=\"#000000\">z ≤ 17.029</text>\n<text text-anchor=\"start\" x=\"1707.5\" y=\"-126.8\" font-family=\"Helvetica,sans-Serif\" font-size=\"14.00\" fill=\"#000000\">gini = 0.122</text>\n<text text-anchor=\"start\" x=\"1689.5\" y=\"-111.8\" font-family=\"Helvetica,sans-Serif\" font-size=\"14.00\" fill=\"#000000\">samples = 72079</text>\n<text text-anchor=\"start\" x=\"1663\" y=\"-96.8\" font-family=\"Helvetica,sans-Serif\" font-size=\"14.00\" fill=\"#000000\">value = [37, 4661, 67381]</text>\n</g>\n<!-- 17&#45;&gt;21 -->\n<g id=\"edge21\" class=\"edge\">\n<title>17&#45;&gt;21</title>\n<path fill=\"none\" stroke=\"#000000\" d=\"M1676.8986,-192.9465C1685.8806,-183.7884 1695.6928,-173.7838 1705.015,-164.2788\"/>\n<polygon fill=\"#000000\" stroke=\"#000000\" points=\"1707.523,-166.7201 1712.0263,-157.13 1702.5254,-161.8187 1707.523,-166.7201\"/>\n</g>\n<!-- 19 -->\n<g id=\"node20\" class=\"node\">\n<title>19</title>\n<path fill=\"#9559e9\" stroke=\"#000000\" d=\"M1424,-53C1424,-53 1267,-53 1267,-53 1261,-53 1255,-47 1255,-41 1255,-41 1255,-12 1255,-12 1255,-6 1261,0 1267,0 1267,0 1424,0 1424,0 1430,0 1436,-6 1436,-12 1436,-12 1436,-41 1436,-41 1436,-47 1430,-53 1424,-53\"/>\n<text text-anchor=\"start\" x=\"1307.5\" y=\"-37.8\" font-family=\"Helvetica,sans-Serif\" font-size=\"14.00\" fill=\"#000000\">gini = 0.239</text>\n<text text-anchor=\"start\" x=\"1289.5\" y=\"-22.8\" font-family=\"Helvetica,sans-Serif\" font-size=\"14.00\" fill=\"#000000\">samples = 64062</text>\n<text text-anchor=\"start\" x=\"1263\" y=\"-7.8\" font-family=\"Helvetica,sans-Serif\" font-size=\"14.00\" fill=\"#000000\">value = [26, 8853, 55183]</text>\n</g>\n<!-- 18&#45;&gt;19 -->\n<g id=\"edge19\" class=\"edge\">\n<title>18&#45;&gt;19</title>\n<path fill=\"none\" stroke=\"#000000\" d=\"M1473.0452,-88.9777C1452.1993,-78.7664 1429.4474,-67.6214 1409.0065,-57.6085\"/>\n<polygon fill=\"#000000\" stroke=\"#000000\" points=\"1410.3126,-54.351 1399.7924,-53.095 1407.2332,-60.6373 1410.3126,-54.351\"/>\n</g>\n<!-- 20 -->\n<g id=\"node21\" class=\"node\">\n<title>20</title>\n<path fill=\"#ccaff5\" stroke=\"#000000\" d=\"M1623,-53C1623,-53 1466,-53 1466,-53 1460,-53 1454,-47 1454,-41 1454,-41 1454,-12 1454,-12 1454,-6 1460,0 1466,0 1466,0 1623,0 1623,0 1629,0 1635,-6 1635,-12 1635,-12 1635,-41 1635,-41 1635,-47 1629,-53 1623,-53\"/>\n<text text-anchor=\"start\" x=\"1511\" y=\"-37.8\" font-family=\"Helvetica,sans-Serif\" font-size=\"14.00\" fill=\"#000000\">gini = 0.47</text>\n<text text-anchor=\"start\" x=\"1488.5\" y=\"-22.8\" font-family=\"Helvetica,sans-Serif\" font-size=\"14.00\" fill=\"#000000\">samples = 23978</text>\n<text text-anchor=\"start\" x=\"1462\" y=\"-7.8\" font-family=\"Helvetica,sans-Serif\" font-size=\"14.00\" fill=\"#000000\">value = [33, 8952, 14993]</text>\n</g>\n<!-- 18&#45;&gt;20 -->\n<g id=\"edge20\" class=\"edge\">\n<title>18&#45;&gt;20</title>\n<path fill=\"none\" stroke=\"#000000\" d=\"M1543.2051,-88.9777C1543.3759,-80.7364 1543.5593,-71.887 1543.7328,-63.5153\"/>\n<polygon fill=\"#000000\" stroke=\"#000000\" points=\"1547.2376,-63.3189 1543.9456,-53.2485 1540.2391,-63.1738 1547.2376,-63.3189\"/>\n</g>\n<!-- 22 -->\n<g id=\"node23\" class=\"node\">\n<title>22</title>\n<path fill=\"#8641e6\" stroke=\"#000000\" d=\"M1822,-53C1822,-53 1665,-53 1665,-53 1659,-53 1653,-47 1653,-41 1653,-41 1653,-12 1653,-12 1653,-6 1659,0 1665,0 1665,0 1822,0 1822,0 1828,0 1834,-6 1834,-12 1834,-12 1834,-41 1834,-41 1834,-47 1828,-53 1822,-53\"/>\n<text text-anchor=\"start\" x=\"1705.5\" y=\"-37.8\" font-family=\"Helvetica,sans-Serif\" font-size=\"14.00\" fill=\"#000000\">gini = 0.075</text>\n<text text-anchor=\"start\" x=\"1687.5\" y=\"-22.8\" font-family=\"Helvetica,sans-Serif\" font-size=\"14.00\" fill=\"#000000\">samples = 51770</text>\n<text text-anchor=\"start\" x=\"1661\" y=\"-7.8\" font-family=\"Helvetica,sans-Serif\" font-size=\"14.00\" fill=\"#000000\">value = [22, 2004, 49744]</text>\n</g>\n<!-- 21&#45;&gt;22 -->\n<g id=\"edge22\" class=\"edge\">\n<title>21&#45;&gt;22</title>\n<path fill=\"none\" stroke=\"#000000\" d=\"M1744.7949,-88.9777C1744.6241,-80.7364 1744.4407,-71.887 1744.2672,-63.5153\"/>\n<polygon fill=\"#000000\" stroke=\"#000000\" points=\"1747.7609,-63.1738 1744.0544,-53.2485 1740.7624,-63.3189 1747.7609,-63.1738\"/>\n</g>\n<!-- 23 -->\n<g id=\"node24\" class=\"node\">\n<title>23</title>\n<path fill=\"#9457e9\" stroke=\"#000000\" d=\"M2021,-53C2021,-53 1864,-53 1864,-53 1858,-53 1852,-47 1852,-41 1852,-41 1852,-12 1852,-12 1852,-6 1858,0 1864,0 1864,0 2021,0 2021,0 2027,0 2033,-6 2033,-12 2033,-12 2033,-41 2033,-41 2033,-47 2027,-53 2021,-53\"/>\n<text text-anchor=\"start\" x=\"1904.5\" y=\"-37.8\" font-family=\"Helvetica,sans-Serif\" font-size=\"14.00\" fill=\"#000000\">gini = 0.229</text>\n<text text-anchor=\"start\" x=\"1886.5\" y=\"-22.8\" font-family=\"Helvetica,sans-Serif\" font-size=\"14.00\" fill=\"#000000\">samples = 20309</text>\n<text text-anchor=\"start\" x=\"1860\" y=\"-7.8\" font-family=\"Helvetica,sans-Serif\" font-size=\"14.00\" fill=\"#000000\">value = [15, 2657, 17637]</text>\n</g>\n<!-- 21&#45;&gt;23 -->\n<g id=\"edge23\" class=\"edge\">\n<title>21&#45;&gt;23</title>\n<path fill=\"none\" stroke=\"#000000\" d=\"M1814.9548,-88.9777C1835.8007,-78.7664 1858.5526,-67.6214 1878.9935,-57.6085\"/>\n<polygon fill=\"#000000\" stroke=\"#000000\" points=\"1880.7668,-60.6373 1888.2076,-53.095 1877.6874,-54.351 1880.7668,-60.6373\"/>\n</g>\n<!-- 25 -->\n<g id=\"node26\" class=\"node\">\n<title>25</title>\n<path fill=\"#75eda7\" stroke=\"#000000\" d=\"M2282.5,-157C2282.5,-157 2142.5,-157 2142.5,-157 2136.5,-157 2130.5,-151 2130.5,-145 2130.5,-145 2130.5,-101 2130.5,-101 2130.5,-95 2136.5,-89 2142.5,-89 2142.5,-89 2282.5,-89 2282.5,-89 2288.5,-89 2294.5,-95 2294.5,-101 2294.5,-101 2294.5,-145 2294.5,-145 2294.5,-151 2288.5,-157 2282.5,-157\"/>\n<text text-anchor=\"start\" x=\"2157\" y=\"-141.8\" font-family=\"Helvetica,sans-Serif\" font-size=\"14.00\" fill=\"#000000\">dered_r ≤ 17.697</text>\n<text text-anchor=\"start\" x=\"2174.5\" y=\"-126.8\" font-family=\"Helvetica,sans-Serif\" font-size=\"14.00\" fill=\"#000000\">gini = 0.363</text>\n<text text-anchor=\"start\" x=\"2160.5\" y=\"-111.8\" font-family=\"Helvetica,sans-Serif\" font-size=\"14.00\" fill=\"#000000\">samples = 4356</text>\n<text text-anchor=\"start\" x=\"2138.5\" y=\"-96.8\" font-family=\"Helvetica,sans-Serif\" font-size=\"14.00\" fill=\"#000000\">value = [34, 3334, 988]</text>\n</g>\n<!-- 24&#45;&gt;25 -->\n<g id=\"edge25\" class=\"edge\">\n<title>24&#45;&gt;25</title>\n<path fill=\"none\" stroke=\"#000000\" d=\"M2212.5,-192.9465C2212.5,-184.776 2212.5,-175.9318 2212.5,-167.3697\"/>\n<polygon fill=\"#000000\" stroke=\"#000000\" points=\"2216.0001,-167.13 2212.5,-157.13 2209.0001,-167.13 2216.0001,-167.13\"/>\n</g>\n<!-- 28 -->\n<g id=\"node29\" class=\"node\">\n<title>28</title>\n<path fill=\"#f4edfd\" stroke=\"#000000\" d=\"M2581,-157C2581,-157 2408,-157 2408,-157 2402,-157 2396,-151 2396,-145 2396,-145 2396,-101 2396,-101 2396,-95 2402,-89 2408,-89 2408,-89 2581,-89 2581,-89 2587,-89 2593,-95 2593,-101 2593,-101 2593,-145 2593,-145 2593,-151 2587,-157 2581,-157\"/>\n<text text-anchor=\"start\" x=\"2437.5\" y=\"-141.8\" font-family=\"Helvetica,sans-Serif\" font-size=\"14.00\" fill=\"#000000\">dered_z ≤ 17.608</text>\n<text text-anchor=\"start\" x=\"2456.5\" y=\"-126.8\" font-family=\"Helvetica,sans-Serif\" font-size=\"14.00\" fill=\"#000000\">gini = 0.513</text>\n<text text-anchor=\"start\" x=\"2438.5\" y=\"-111.8\" font-family=\"Helvetica,sans-Serif\" font-size=\"14.00\" fill=\"#000000\">samples = 35717</text>\n<text text-anchor=\"start\" x=\"2404\" y=\"-96.8\" font-family=\"Helvetica,sans-Serif\" font-size=\"14.00\" fill=\"#000000\">value = [535, 16737, 18445]</text>\n</g>\n<!-- 24&#45;&gt;28 -->\n<g id=\"edge28\" class=\"edge\">\n<title>24&#45;&gt;28</title>\n<path fill=\"none\" stroke=\"#000000\" d=\"M2304.8373,-192.9465C2332.8348,-182.6212 2363.75,-171.2199 2392.3517,-160.6717\"/>\n<polygon fill=\"#000000\" stroke=\"#000000\" points=\"2393.784,-163.874 2401.9552,-157.13 2391.3618,-157.3064 2393.784,-163.874\"/>\n</g>\n<!-- 26 -->\n<g id=\"node27\" class=\"node\">\n<title>26</title>\n<path fill=\"#99f2be\" stroke=\"#000000\" d=\"M2195.5,-53C2195.5,-53 2063.5,-53 2063.5,-53 2057.5,-53 2051.5,-47 2051.5,-41 2051.5,-41 2051.5,-12 2051.5,-12 2051.5,-6 2057.5,0 2063.5,0 2063.5,0 2195.5,0 2195.5,0 2201.5,0 2207.5,-6 2207.5,-12 2207.5,-12 2207.5,-41 2207.5,-41 2207.5,-47 2201.5,-53 2195.5,-53\"/>\n<text text-anchor=\"start\" x=\"2091.5\" y=\"-37.8\" font-family=\"Helvetica,sans-Serif\" font-size=\"14.00\" fill=\"#000000\">gini = 0.442</text>\n<text text-anchor=\"start\" x=\"2077.5\" y=\"-22.8\" font-family=\"Helvetica,sans-Serif\" font-size=\"14.00\" fill=\"#000000\">samples = 2432</text>\n<text text-anchor=\"start\" x=\"2059.5\" y=\"-7.8\" font-family=\"Helvetica,sans-Serif\" font-size=\"14.00\" fill=\"#000000\">value = [5, 1636, 791]</text>\n</g>\n<!-- 25&#45;&gt;26 -->\n<g id=\"edge26\" class=\"edge\">\n<title>25&#45;&gt;26</title>\n<path fill=\"none\" stroke=\"#000000\" d=\"M2183.2373,-88.9777C2175.4401,-79.9123 2167.01,-70.111 2159.1901,-61.0192\"/>\n<polygon fill=\"#000000\" stroke=\"#000000\" points=\"2161.6809,-58.5477 2152.5065,-53.2485 2156.3738,-63.1123 2161.6809,-58.5477\"/>\n</g>\n<!-- 27 -->\n<g id=\"node28\" class=\"node\">\n<title>27</title>\n<path fill=\"#53e891\" stroke=\"#000000\" d=\"M2377.5,-53C2377.5,-53 2237.5,-53 2237.5,-53 2231.5,-53 2225.5,-47 2225.5,-41 2225.5,-41 2225.5,-12 2225.5,-12 2225.5,-6 2231.5,0 2237.5,0 2237.5,0 2377.5,0 2377.5,0 2383.5,0 2389.5,-6 2389.5,-12 2389.5,-12 2389.5,-41 2389.5,-41 2389.5,-47 2383.5,-53 2377.5,-53\"/>\n<text text-anchor=\"start\" x=\"2274\" y=\"-37.8\" font-family=\"Helvetica,sans-Serif\" font-size=\"14.00\" fill=\"#000000\">gini = 0.21</text>\n<text text-anchor=\"start\" x=\"2255.5\" y=\"-22.8\" font-family=\"Helvetica,sans-Serif\" font-size=\"14.00\" fill=\"#000000\">samples = 1924</text>\n<text text-anchor=\"start\" x=\"2233.5\" y=\"-7.8\" font-family=\"Helvetica,sans-Serif\" font-size=\"14.00\" fill=\"#000000\">value = [29, 1698, 197]</text>\n</g>\n<!-- 25&#45;&gt;27 -->\n<g id=\"edge27\" class=\"edge\">\n<title>25&#45;&gt;27</title>\n<path fill=\"none\" stroke=\"#000000\" d=\"M2245.9934,-88.9777C2255.0982,-79.7292 2264.957,-69.7147 2274.0589,-60.4691\"/>\n<polygon fill=\"#000000\" stroke=\"#000000\" points=\"2276.646,-62.8302 2281.1673,-53.2485 2271.6576,-57.9193 2276.646,-62.8302\"/>\n</g>\n<!-- 29 -->\n<g id=\"node30\" class=\"node\">\n<title>29</title>\n<path fill=\"#b68cf0\" stroke=\"#000000\" d=\"M2569,-53C2569,-53 2420,-53 2420,-53 2414,-53 2408,-47 2408,-41 2408,-41 2408,-12 2408,-12 2408,-6 2414,0 2420,0 2420,0 2569,0 2569,0 2575,0 2581,-6 2581,-12 2581,-12 2581,-41 2581,-41 2581,-47 2575,-53 2569,-53\"/>\n<text text-anchor=\"start\" x=\"2456.5\" y=\"-37.8\" font-family=\"Helvetica,sans-Serif\" font-size=\"14.00\" fill=\"#000000\">gini = 0.416</text>\n<text text-anchor=\"start\" x=\"2442.5\" y=\"-22.8\" font-family=\"Helvetica,sans-Serif\" font-size=\"14.00\" fill=\"#000000\">samples = 9153</text>\n<text text-anchor=\"start\" x=\"2416\" y=\"-7.8\" font-family=\"Helvetica,sans-Serif\" font-size=\"14.00\" fill=\"#000000\">value = [10, 2685, 6458]</text>\n</g>\n<!-- 28&#45;&gt;29 -->\n<g id=\"edge29\" class=\"edge\">\n<title>28&#45;&gt;29</title>\n<path fill=\"none\" stroke=\"#000000\" d=\"M2494.5,-88.9777C2494.5,-80.7364 2494.5,-71.887 2494.5,-63.5153\"/>\n<polygon fill=\"#000000\" stroke=\"#000000\" points=\"2498.0001,-63.2484 2494.5,-53.2485 2491.0001,-63.2485 2498.0001,-63.2484\"/>\n</g>\n<!-- 30 -->\n<g id=\"node31\" class=\"node\">\n<title>30</title>\n<path fill=\"#e3fbed\" stroke=\"#000000\" d=\"M2784,-53C2784,-53 2611,-53 2611,-53 2605,-53 2599,-47 2599,-41 2599,-41 2599,-12 2599,-12 2599,-6 2605,0 2611,0 2611,0 2784,0 2784,0 2790,0 2796,-6 2796,-12 2796,-12 2796,-41 2796,-41 2796,-47 2790,-53 2784,-53\"/>\n<text text-anchor=\"start\" x=\"2659.5\" y=\"-37.8\" font-family=\"Helvetica,sans-Serif\" font-size=\"14.00\" fill=\"#000000\">gini = 0.516</text>\n<text text-anchor=\"start\" x=\"2641.5\" y=\"-22.8\" font-family=\"Helvetica,sans-Serif\" font-size=\"14.00\" fill=\"#000000\">samples = 26564</text>\n<text text-anchor=\"start\" x=\"2607\" y=\"-7.8\" font-family=\"Helvetica,sans-Serif\" font-size=\"14.00\" fill=\"#000000\">value = [525, 14052, 11987]</text>\n</g>\n<!-- 28&#45;&gt;30 -->\n<g id=\"edge30\" class=\"edge\">\n<title>28&#45;&gt;30</title>\n<path fill=\"none\" stroke=\"#000000\" d=\"M2566.0702,-88.9777C2587.6477,-78.7204 2611.2071,-67.521 2632.3438,-57.4732\"/>\n<polygon fill=\"#000000\" stroke=\"#000000\" points=\"2634.0252,-60.5494 2641.554,-53.095 2631.0198,-54.2274 2634.0252,-60.5494\"/>\n</g>\n</g>\n</svg>\n"
          },
          "metadata": {
            "tags": []
          },
          "execution_count": 24
        }
      ]
    },
    {
      "cell_type": "code",
      "metadata": {
        "colab": {
          "base_uri": "https://localhost:8080/",
          "height": 253
        },
        "id": "_utZhmovDvnW",
        "outputId": "ec7c8ad0-828a-4a21-a141-d5ad741dd337"
      },
      "source": [
        "sub = pd.read_csv(sample_file, index_col=0)\n",
        "print(sub.shape)\n",
        "sub.head()"
      ],
      "execution_count": 25,
      "outputs": [
        {
          "output_type": "stream",
          "text": [
            "(80000, 1)\n"
          ],
          "name": "stdout"
        },
        {
          "output_type": "execute_result",
          "data": {
            "text/html": [
              "<div>\n",
              "<style scoped>\n",
              "    .dataframe tbody tr th:only-of-type {\n",
              "        vertical-align: middle;\n",
              "    }\n",
              "\n",
              "    .dataframe tbody tr th {\n",
              "        vertical-align: top;\n",
              "    }\n",
              "\n",
              "    .dataframe thead th {\n",
              "        text-align: right;\n",
              "    }\n",
              "</style>\n",
              "<table border=\"1\" class=\"dataframe\">\n",
              "  <thead>\n",
              "    <tr style=\"text-align: right;\">\n",
              "      <th></th>\n",
              "      <th>class</th>\n",
              "    </tr>\n",
              "    <tr>\n",
              "      <th>id</th>\n",
              "      <th></th>\n",
              "    </tr>\n",
              "  </thead>\n",
              "  <tbody>\n",
              "    <tr>\n",
              "      <th>320000</th>\n",
              "      <td>0</td>\n",
              "    </tr>\n",
              "    <tr>\n",
              "      <th>320001</th>\n",
              "      <td>0</td>\n",
              "    </tr>\n",
              "    <tr>\n",
              "      <th>320002</th>\n",
              "      <td>0</td>\n",
              "    </tr>\n",
              "    <tr>\n",
              "      <th>320003</th>\n",
              "      <td>0</td>\n",
              "    </tr>\n",
              "    <tr>\n",
              "      <th>320004</th>\n",
              "      <td>0</td>\n",
              "    </tr>\n",
              "  </tbody>\n",
              "</table>\n",
              "</div>"
            ],
            "text/plain": [
              "        class\n",
              "id           \n",
              "320000      0\n",
              "320001      0\n",
              "320002      0\n",
              "320003      0\n",
              "320004      0"
            ]
          },
          "metadata": {
            "tags": []
          },
          "execution_count": 25
        }
      ]
    },
    {
      "cell_type": "code",
      "metadata": {
        "colab": {
          "base_uri": "https://localhost:8080/",
          "height": 235
        },
        "id": "MF1RslyyDygL",
        "outputId": "af08ec60-68a5-4d5b-8527-0acda0d722ed"
      },
      "source": [
        "sub[target_col] = clf.predict(tst)\n",
        "sub.head()"
      ],
      "execution_count": 26,
      "outputs": [
        {
          "output_type": "execute_result",
          "data": {
            "text/html": [
              "<div>\n",
              "<style scoped>\n",
              "    .dataframe tbody tr th:only-of-type {\n",
              "        vertical-align: middle;\n",
              "    }\n",
              "\n",
              "    .dataframe tbody tr th {\n",
              "        vertical-align: top;\n",
              "    }\n",
              "\n",
              "    .dataframe thead th {\n",
              "        text-align: right;\n",
              "    }\n",
              "</style>\n",
              "<table border=\"1\" class=\"dataframe\">\n",
              "  <thead>\n",
              "    <tr style=\"text-align: right;\">\n",
              "      <th></th>\n",
              "      <th>class</th>\n",
              "    </tr>\n",
              "    <tr>\n",
              "      <th>id</th>\n",
              "      <th></th>\n",
              "    </tr>\n",
              "  </thead>\n",
              "  <tbody>\n",
              "    <tr>\n",
              "      <th>320000</th>\n",
              "      <td>2</td>\n",
              "    </tr>\n",
              "    <tr>\n",
              "      <th>320001</th>\n",
              "      <td>0</td>\n",
              "    </tr>\n",
              "    <tr>\n",
              "      <th>320002</th>\n",
              "      <td>2</td>\n",
              "    </tr>\n",
              "    <tr>\n",
              "      <th>320003</th>\n",
              "      <td>0</td>\n",
              "    </tr>\n",
              "    <tr>\n",
              "      <th>320004</th>\n",
              "      <td>2</td>\n",
              "    </tr>\n",
              "  </tbody>\n",
              "</table>\n",
              "</div>"
            ],
            "text/plain": [
              "        class\n",
              "id           \n",
              "320000      2\n",
              "320001      0\n",
              "320002      2\n",
              "320003      0\n",
              "320004      2"
            ]
          },
          "metadata": {
            "tags": []
          },
          "execution_count": 26
        }
      ]
    },
    {
      "cell_type": "code",
      "metadata": {
        "colab": {
          "base_uri": "https://localhost:8080/"
        },
        "id": "jbzC2J1HD4Tc",
        "outputId": "f1f84c62-0672-4110-a162-ec616cd17aa3"
      },
      "source": [
        "sub[target_col].value_counts()"
      ],
      "execution_count": 27,
      "outputs": [
        {
          "output_type": "execute_result",
          "data": {
            "text/plain": [
              "2    42289\n",
              "0    29861\n",
              "1     7850\n",
              "Name: class, dtype: int64"
            ]
          },
          "metadata": {
            "tags": []
          },
          "execution_count": 27
        }
      ]
    },
    {
      "cell_type": "code",
      "metadata": {
        "id": "UO35_npuD9ki"
      },
      "source": [
        "sub.to_csv(sub_file)"
      ],
      "execution_count": 31,
      "outputs": []
    },
    {
      "cell_type": "code",
      "metadata": {
        "colab": {
          "base_uri": "https://localhost:8080/"
        },
        "id": "Q-LlxVQxD6ma",
        "outputId": "07f0932f-ae51-416a-b6fb-f5e78202d1b0"
      },
      "source": [
        "!ls build"
      ],
      "execution_count": 32,
      "outputs": [
        {
          "output_type": "stream",
          "text": [
            "dt_j1.csv\n"
          ],
          "name": "stdout"
        }
      ]
    },
    {
      "cell_type": "code",
      "metadata": {
        "colab": {
          "base_uri": "https://localhost:8080/",
          "height": 17
        },
        "id": "eiHHS3h3ECFe",
        "outputId": "711f65e4-38c8-4e87-c67d-3e1eda758e4e"
      },
      "source": [
        "from google.colab import files\n",
        "files.download('./build/dt_j1.csv')"
      ],
      "execution_count": 35,
      "outputs": [
        {
          "output_type": "display_data",
          "data": {
            "application/javascript": [
              "\n",
              "    async function download(id, filename, size) {\n",
              "      if (!google.colab.kernel.accessAllowed) {\n",
              "        return;\n",
              "      }\n",
              "      const div = document.createElement('div');\n",
              "      const label = document.createElement('label');\n",
              "      label.textContent = `Downloading \"${filename}\": `;\n",
              "      div.appendChild(label);\n",
              "      const progress = document.createElement('progress');\n",
              "      progress.max = size;\n",
              "      div.appendChild(progress);\n",
              "      document.body.appendChild(div);\n",
              "\n",
              "      const buffers = [];\n",
              "      let downloaded = 0;\n",
              "\n",
              "      const channel = await google.colab.kernel.comms.open(id);\n",
              "      // Send a message to notify the kernel that we're ready.\n",
              "      channel.send({})\n",
              "\n",
              "      for await (const message of channel.messages) {\n",
              "        // Send a message to notify the kernel that we're ready.\n",
              "        channel.send({})\n",
              "        if (message.buffers) {\n",
              "          for (const buffer of message.buffers) {\n",
              "            buffers.push(buffer);\n",
              "            downloaded += buffer.byteLength;\n",
              "            progress.value = downloaded;\n",
              "          }\n",
              "        }\n",
              "      }\n",
              "      const blob = new Blob(buffers, {type: 'application/binary'});\n",
              "      const a = document.createElement('a');\n",
              "      a.href = window.URL.createObjectURL(blob);\n",
              "      a.download = filename;\n",
              "      div.appendChild(a);\n",
              "      a.click();\n",
              "      div.remove();\n",
              "    }\n",
              "  "
            ],
            "text/plain": [
              "<IPython.core.display.Javascript object>"
            ]
          },
          "metadata": {
            "tags": []
          }
        },
        {
          "output_type": "display_data",
          "data": {
            "application/javascript": [
              "download(\"download_736ddcb9-8185-4a42-b2c8-0bab70b309bc\", \"dt_j1.csv\", 720009)"
            ],
            "text/plain": [
              "<IPython.core.display.Javascript object>"
            ]
          },
          "metadata": {
            "tags": []
          }
        }
      ]
    }
  ]
}