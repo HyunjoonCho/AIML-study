{
  "nbformat": 4,
  "nbformat_minor": 0,
  "metadata": {
    "colab": {
      "name": "lgbm-hpo.ipynb",
      "provenance": []
    },
    "kernelspec": {
      "name": "python3",
      "display_name": "Python 3"
    },
    "language_info": {
      "name": "python"
    }
  },
  "cells": [
    {
      "cell_type": "markdown",
      "metadata": {
        "id": "iSMroB_N0RsP"
      },
      "source": [
        "## Model Tuning\n",
        "기초적인 feature, 알고리즘 등을 설정한 후 모델 튜닝 사이클에 진입  \n",
        "(파라미터 설정/변경 - 모델 학습 - 모델 검증) 반복  \n",
        "* Linear Regression  \n",
        "binary한 parameter가 두 종류(intercept, normalize), 총 네 가지 경우만 존재함 - 매뉴얼한 튜닝 가능\n",
        "* Light GBM  \n",
        "매우 많은 파라미터, 다양한 값을 가질 수 있음  \n",
        "\n",
        "어떻게 하지?\n",
        "\n",
        "## Hyperparameter Optimization\n",
        "다양한 tool을 사용해서 최적의 parameter set을 찾는다\n",
        "* Scikit learn \n",
        "  * GridSearch CV  \n",
        "  모든 조합을 사용, 그 중 최적을 찾음. 이때 각 paramter가 가질 수 있는 값은 사용자가 넣어줘야 함\n",
        "  * RandomizedSearch CV  \n",
        "  N개의 조합을 임의로 선택, 이때 범위 및 분포 지정이 가능함  \n",
        "\n",
        "보다 고도화된 접근은 없나? Bayesian Optimization 등을 적용!\n",
        "\n",
        "* Hyperopt\n",
        "  * TPE algorithm\n",
        "  * 사용이 다소 까다로우나 대략적인 감(어떤 param을 튜닝해야겠다)이 있다면 더 빠름, 숙련자에게 좋음\n",
        "* Optuna\n",
        "  * 다양한 알고리즘(TPE, Gaussian Process) 지원, 조합해서 사용\n",
        "  * 두 가지 문법; hyperopt와 유사한 문법 또는 사전에 약속된 search space를 활용한 간단한 문법\n",
        "  * 두 번째 문법(integration 모듈)은 입문자에게 용이함\n",
        "\n",
        "N-fold CV를 HPO에 사용할 수는 있다  \n",
        "하지만, HPO 자체가 매우 오래 걸리는 작업이므로 실전에서는 잘 사용하지 않음 \n",
        "### QnA  \n",
        "* 실제로 성능에 기여하는 부분은?  \n",
        "EDA를 통한 feature engineering >> algorithm selection > ensemble >= HPO  \n"
      ]
    },
    {
      "cell_type": "code",
      "metadata": {
        "id": "IKoRHs960Kyd"
      },
      "source": [
        "%reload_ext autoreload\n",
        "%autoreload 2\n",
        "%matplotlib inline"
      ],
      "execution_count": 1,
      "outputs": []
    },
    {
      "cell_type": "code",
      "metadata": {
        "id": "oaflRJp90ihs"
      },
      "source": [
        "!pip install optuna"
      ],
      "execution_count": null,
      "outputs": []
    },
    {
      "cell_type": "code",
      "metadata": {
        "id": "-eAt-FEQ0a0w"
      },
      "source": [
        "from hyperopt import STATUS_OK, Trials, hp, space_eval, tpe, fmin\n",
        "from lightgbm import LGBMClassifier\n",
        "import lightgbm as lgb\n",
        "from matplotlib import pyplot as plt\n",
        "from matplotlib import rcParams\n",
        "import numpy as np\n",
        "from pathlib import Path\n",
        "import pandas as pd\n",
        "from sklearn.metrics import accuracy_score\n",
        "from sklearn.model_selection import StratifiedKFold, train_test_split\n",
        "import seaborn as sns\n",
        "import warnings"
      ],
      "execution_count": 32,
      "outputs": []
    },
    {
      "cell_type": "code",
      "metadata": {
        "id": "mEV69v-10v4O"
      },
      "source": [
        "rcParams['figure.figsize'] = (16, 8)\n",
        "plt.style.use('fivethirtyeight')\n",
        "pd.set_option('max_columns', 100)\n",
        "pd.set_option(\"display.precision\", 4)\n",
        "warnings.simplefilter('ignore')"
      ],
      "execution_count": 6,
      "outputs": []
    },
    {
      "cell_type": "code",
      "metadata": {
        "colab": {
          "resources": {
            "http://localhost:8080/nbextensions/google.colab/files.js": {
              "data": "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",
              "ok": true,
              "headers": [
                [
                  "content-type",
                  "application/javascript"
                ]
              ],
              "status": 200,
              "status_text": ""
            }
          },
          "base_uri": "https://localhost:8080/",
          "height": 77
        },
        "id": "_-gGNjL70y9u",
        "outputId": "810c6c5b-6027-49bc-e868-c02492de723f"
      },
      "source": [
        "from google.colab import files\n",
        "files.upload()"
      ],
      "execution_count": 7,
      "outputs": [
        {
          "output_type": "display_data",
          "data": {
            "text/html": [
              "\n",
              "     <input type=\"file\" id=\"files-a513b3d0-57fb-4b66-b81a-9a788e7d8923\" name=\"files[]\" multiple disabled\n",
              "        style=\"border:none\" />\n",
              "     <output id=\"result-a513b3d0-57fb-4b66-b81a-9a788e7d8923\">\n",
              "      Upload widget is only available when the cell has been executed in the\n",
              "      current browser session. Please rerun this cell to enable.\n",
              "      </output>\n",
              "      <script src=\"/nbextensions/google.colab/files.js\"></script> "
            ],
            "text/plain": [
              "<IPython.core.display.HTML object>"
            ]
          },
          "metadata": {}
        },
        {
          "output_type": "stream",
          "text": [
            "Saving dku_data.zip to dku_data.zip\n"
          ],
          "name": "stdout"
        }
      ]
    },
    {
      "cell_type": "code",
      "metadata": {
        "colab": {
          "base_uri": "https://localhost:8080/"
        },
        "id": "_nKDXt3_6jeo",
        "outputId": "70ebd890-87e0-4a31-99c6-0f01a597400e"
      },
      "source": [
        "!unzip dku_data.zip"
      ],
      "execution_count": 8,
      "outputs": [
        {
          "output_type": "stream",
          "text": [
            "Archive:  dku_data.zip\n",
            "   creating: build/\n",
            "   creating: build/feature/\n",
            "  inflating: build/feature/feature.csv  \n",
            "   creating: build/sub/\n",
            "   creating: data/\n",
            "  inflating: data/sample_submission.csv  \n",
            "  inflating: data/test.csv           \n",
            "  inflating: data/train.csv          \n"
          ],
          "name": "stdout"
        }
      ]
    },
    {
      "cell_type": "code",
      "metadata": {
        "id": "y4ZKzOfp7bTE"
      },
      "source": [
        "!mkdir ./build/val ./build/tst"
      ],
      "execution_count": 17,
      "outputs": []
    },
    {
      "cell_type": "code",
      "metadata": {
        "id": "CVJ-yzhV057u"
      },
      "source": [
        "data_dir = Path('./data')\n",
        "feature_dir = Path('./build/feature')\n",
        "val_dir = Path('./build/val')\n",
        "tst_dir = Path('./build/tst')\n",
        "sub_dir = Path('./build/sub')\n",
        "\n",
        "trn_file = data_dir / 'train.csv'\n",
        "tst_file = data_dir / 'test.csv'\n",
        "sample_file = data_dir / 'sample_submission.csv'\n",
        "\n",
        "target_col = 'class'\n",
        "n_fold = 5\n",
        "n_class = 3\n",
        "seed = 42"
      ],
      "execution_count": 10,
      "outputs": []
    },
    {
      "cell_type": "markdown",
      "metadata": {
        "id": "nv2LsqXY6u1w"
      },
      "source": [
        "### HPO - Hyperopt"
      ]
    },
    {
      "cell_type": "code",
      "metadata": {
        "id": "BJWs30JD050b"
      },
      "source": [
        "algo_name = 'lgb_hyperopt'\n",
        "feature_name = 'feature'\n",
        "model_name = f'{algo_name}_{feature_name}'\n",
        "\n",
        "feature_file = feature_dir / f'{feature_name}.csv'\n",
        "p_val_file = val_dir / f'{model_name}.val.csv'\n",
        "p_tst_file = tst_dir / f'{model_name}.tst.csv'\n",
        "sub_file = sub_dir / f'{model_name}.csv'"
      ],
      "execution_count": 11,
      "outputs": []
    },
    {
      "cell_type": "code",
      "metadata": {
        "colab": {
          "base_uri": "https://localhost:8080/",
          "height": 361
        },
        "id": "7BjB5znw6q7U",
        "outputId": "4735b308-da64-497e-d1b0-1d90c0445e1b"
      },
      "source": [
        "df = pd.read_csv(feature_file, index_col=0)\n",
        "print(df.shape)\n",
        "df.head()"
      ],
      "execution_count": 12,
      "outputs": [
        {
          "output_type": "stream",
          "text": [
            "(400000, 20)\n"
          ],
          "name": "stdout"
        },
        {
          "output_type": "execute_result",
          "data": {
            "text/html": [
              "<div>\n",
              "<style scoped>\n",
              "    .dataframe tbody tr th:only-of-type {\n",
              "        vertical-align: middle;\n",
              "    }\n",
              "\n",
              "    .dataframe tbody tr th {\n",
              "        vertical-align: top;\n",
              "    }\n",
              "\n",
              "    .dataframe thead th {\n",
              "        text-align: right;\n",
              "    }\n",
              "</style>\n",
              "<table border=\"1\" class=\"dataframe\">\n",
              "  <thead>\n",
              "    <tr style=\"text-align: right;\">\n",
              "      <th></th>\n",
              "      <th>z</th>\n",
              "      <th>redshift</th>\n",
              "      <th>dered_u</th>\n",
              "      <th>dered_g</th>\n",
              "      <th>dered_r</th>\n",
              "      <th>dered_i</th>\n",
              "      <th>dered_z</th>\n",
              "      <th>nObserve</th>\n",
              "      <th>airmass_u</th>\n",
              "      <th>class</th>\n",
              "      <th>d_dered_u</th>\n",
              "      <th>d_dered_g</th>\n",
              "      <th>d_dered_r</th>\n",
              "      <th>d_dered_i</th>\n",
              "      <th>d_dered_z</th>\n",
              "      <th>d_dered_ig</th>\n",
              "      <th>d_dered_zg</th>\n",
              "      <th>d_dered_rz</th>\n",
              "      <th>d_dered_iz</th>\n",
              "      <th>d_obs_det</th>\n",
              "    </tr>\n",
              "    <tr>\n",
              "      <th>id</th>\n",
              "      <th></th>\n",
              "      <th></th>\n",
              "      <th></th>\n",
              "      <th></th>\n",
              "      <th></th>\n",
              "      <th></th>\n",
              "      <th></th>\n",
              "      <th></th>\n",
              "      <th></th>\n",
              "      <th></th>\n",
              "      <th></th>\n",
              "      <th></th>\n",
              "      <th></th>\n",
              "      <th></th>\n",
              "      <th></th>\n",
              "      <th></th>\n",
              "      <th></th>\n",
              "      <th></th>\n",
              "      <th></th>\n",
              "      <th></th>\n",
              "    </tr>\n",
              "  </thead>\n",
              "  <tbody>\n",
              "    <tr>\n",
              "      <th>0</th>\n",
              "      <td>16.9396</td>\n",
              "      <td>-8.1086e-05</td>\n",
              "      <td>23.1243</td>\n",
              "      <td>20.2578</td>\n",
              "      <td>18.9551</td>\n",
              "      <td>17.6321</td>\n",
              "      <td>16.9089</td>\n",
              "      <td>2.9444</td>\n",
              "      <td>1.1898</td>\n",
              "      <td>0.0</td>\n",
              "      <td>-0.1397</td>\n",
              "      <td>-0.0790</td>\n",
              "      <td>-0.0544</td>\n",
              "      <td>-0.0403</td>\n",
              "      <td>-0.0307</td>\n",
              "      <td>-2.6257</td>\n",
              "      <td>-3.3488</td>\n",
              "      <td>2.0462</td>\n",
              "      <td>0.7232</td>\n",
              "      <td>-15.0556</td>\n",
              "    </tr>\n",
              "    <tr>\n",
              "      <th>1</th>\n",
              "      <td>13.1689</td>\n",
              "      <td>4.5061e-03</td>\n",
              "      <td>14.9664</td>\n",
              "      <td>14.0045</td>\n",
              "      <td>13.4114</td>\n",
              "      <td>13.2363</td>\n",
              "      <td>13.1347</td>\n",
              "      <td>0.6931</td>\n",
              "      <td>1.2533</td>\n",
              "      <td>1.0</td>\n",
              "      <td>-0.0857</td>\n",
              "      <td>-0.0574</td>\n",
              "      <td>-0.0410</td>\n",
              "      <td>-0.0322</td>\n",
              "      <td>-0.0343</td>\n",
              "      <td>-0.7683</td>\n",
              "      <td>-0.8698</td>\n",
              "      <td>0.2767</td>\n",
              "      <td>0.1016</td>\n",
              "      <td>-0.3069</td>\n",
              "    </tr>\n",
              "    <tr>\n",
              "      <th>2</th>\n",
              "      <td>15.3500</td>\n",
              "      <td>4.7198e-04</td>\n",
              "      <td>16.6076</td>\n",
              "      <td>15.6866</td>\n",
              "      <td>15.4400</td>\n",
              "      <td>15.3217</td>\n",
              "      <td>15.2961</td>\n",
              "      <td>1.0986</td>\n",
              "      <td>1.0225</td>\n",
              "      <td>0.0</td>\n",
              "      <td>-0.1787</td>\n",
              "      <td>-0.1388</td>\n",
              "      <td>-0.0963</td>\n",
              "      <td>-0.0718</td>\n",
              "      <td>-0.0540</td>\n",
              "      <td>-0.3649</td>\n",
              "      <td>-0.3905</td>\n",
              "      <td>0.1440</td>\n",
              "      <td>0.0257</td>\n",
              "      <td>-0.9014</td>\n",
              "    </tr>\n",
              "    <tr>\n",
              "      <th>3</th>\n",
              "      <td>19.6346</td>\n",
              "      <td>5.8143e-06</td>\n",
              "      <td>25.3536</td>\n",
              "      <td>20.9947</td>\n",
              "      <td>20.0873</td>\n",
              "      <td>19.7947</td>\n",
              "      <td>19.5552</td>\n",
              "      <td>1.6094</td>\n",
              "      <td>1.2054</td>\n",
              "      <td>0.0</td>\n",
              "      <td>-0.3070</td>\n",
              "      <td>-0.1941</td>\n",
              "      <td>-0.1339</td>\n",
              "      <td>-0.1003</td>\n",
              "      <td>-0.0795</td>\n",
              "      <td>-1.2000</td>\n",
              "      <td>-1.4395</td>\n",
              "      <td>0.5321</td>\n",
              "      <td>0.2395</td>\n",
              "      <td>-1.3906</td>\n",
              "    </tr>\n",
              "    <tr>\n",
              "      <th>4</th>\n",
              "      <td>17.9826</td>\n",
              "      <td>-3.3247e-05</td>\n",
              "      <td>23.7714</td>\n",
              "      <td>20.4338</td>\n",
              "      <td>18.8630</td>\n",
              "      <td>18.1903</td>\n",
              "      <td>17.8759</td>\n",
              "      <td>2.6391</td>\n",
              "      <td>1.1939</td>\n",
              "      <td>0.0</td>\n",
              "      <td>-0.6820</td>\n",
              "      <td>-0.2653</td>\n",
              "      <td>-0.1794</td>\n",
              "      <td>-0.1339</td>\n",
              "      <td>-0.1067</td>\n",
              "      <td>-2.2436</td>\n",
              "      <td>-2.5579</td>\n",
              "      <td>0.9871</td>\n",
              "      <td>0.3144</td>\n",
              "      <td>-9.3609</td>\n",
              "    </tr>\n",
              "  </tbody>\n",
              "</table>\n",
              "</div>"
            ],
            "text/plain": [
              "          z    redshift  dered_u  dered_g  dered_r  dered_i  dered_z  \\\n",
              "id                                                                     \n",
              "0   16.9396 -8.1086e-05  23.1243  20.2578  18.9551  17.6321  16.9089   \n",
              "1   13.1689  4.5061e-03  14.9664  14.0045  13.4114  13.2363  13.1347   \n",
              "2   15.3500  4.7198e-04  16.6076  15.6866  15.4400  15.3217  15.2961   \n",
              "3   19.6346  5.8143e-06  25.3536  20.9947  20.0873  19.7947  19.5552   \n",
              "4   17.9826 -3.3247e-05  23.7714  20.4338  18.8630  18.1903  17.8759   \n",
              "\n",
              "    nObserve  airmass_u  class  d_dered_u  d_dered_g  d_dered_r  d_dered_i  \\\n",
              "id                                                                           \n",
              "0     2.9444     1.1898    0.0    -0.1397    -0.0790    -0.0544    -0.0403   \n",
              "1     0.6931     1.2533    1.0    -0.0857    -0.0574    -0.0410    -0.0322   \n",
              "2     1.0986     1.0225    0.0    -0.1787    -0.1388    -0.0963    -0.0718   \n",
              "3     1.6094     1.2054    0.0    -0.3070    -0.1941    -0.1339    -0.1003   \n",
              "4     2.6391     1.1939    0.0    -0.6820    -0.2653    -0.1794    -0.1339   \n",
              "\n",
              "    d_dered_z  d_dered_ig  d_dered_zg  d_dered_rz  d_dered_iz  d_obs_det  \n",
              "id                                                                        \n",
              "0     -0.0307     -2.6257     -3.3488      2.0462      0.7232   -15.0556  \n",
              "1     -0.0343     -0.7683     -0.8698      0.2767      0.1016    -0.3069  \n",
              "2     -0.0540     -0.3649     -0.3905      0.1440      0.0257    -0.9014  \n",
              "3     -0.0795     -1.2000     -1.4395      0.5321      0.2395    -1.3906  \n",
              "4     -0.1067     -2.2436     -2.5579      0.9871      0.3144    -9.3609  "
            ]
          },
          "metadata": {},
          "execution_count": 12
        }
      ]
    },
    {
      "cell_type": "code",
      "metadata": {
        "colab": {
          "base_uri": "https://localhost:8080/"
        },
        "id": "9rwHt-9w60OT",
        "outputId": "95e4fd95-66fd-481b-d904-64c11d80cf15"
      },
      "source": [
        "y = df[target_col].values[:320000]\n",
        "df.drop(target_col, axis=1, inplace=True)\n",
        "trn = df.iloc[:320000].values\n",
        "tst = df.iloc[320000:].values\n",
        "feature_name = df.columns.tolist()\n",
        "print(y.shape, trn.shape, tst.shape)"
      ],
      "execution_count": 13,
      "outputs": [
        {
          "output_type": "stream",
          "text": [
            "(320000,) (320000, 19) (80000, 19)\n"
          ],
          "name": "stdout"
        }
      ]
    },
    {
      "cell_type": "code",
      "metadata": {
        "id": "eenhFQUp62mn"
      },
      "source": [
        "X_trn, X_val, y_trn, y_val = train_test_split(trn, y, test_size=.2, random_state=seed)"
      ],
      "execution_count": 14,
      "outputs": []
    },
    {
      "cell_type": "code",
      "metadata": {
        "id": "Ts4cHjjR66Vc"
      },
      "source": [
        "params = {\n",
        "    \"objective\": \"multiclass\",\n",
        "    \"n_estimators\": 1000,\n",
        "    \"subsample_freq\": 1,\n",
        "    \"random_state\": seed,\n",
        "    \"n_jobs\": -1,\n",
        "}\n",
        "\n",
        "space = {\n",
        "    \"learning_rate\": hp.loguniform(\"learning_rate\", np.log(0.01), np.log(0.3)),\n",
        "    \"num_leaves\": hp.choice(\"num_leaves\", [15, 31, 63, 127]),\n",
        "    \"colsample_bytree\": hp.quniform(\"colsample_bytree\", .5, .9, 0.1),\n",
        "    \"subsample\": hp.quniform(\"subsample\", .5, .9, 0.1),\n",
        "    \"min_child_samples\": hp.choice('min_child_samples', [10, 25, 100])\n",
        "}"
      ],
      "execution_count": 15,
      "outputs": []
    },
    {
      "cell_type": "code",
      "metadata": {
        "colab": {
          "base_uri": "https://localhost:8080/"
        },
        "id": "B54On8ZH6-DE",
        "outputId": "8a2d7f85-6863-4dab-fee8-7be6dbc9d532"
      },
      "source": [
        "def objective(hyperparams):\n",
        "    model = lgb.LGBMClassifier(**params, **hyperparams)\n",
        "    model.fit(X=X_trn, y=y_trn,\n",
        "              eval_set=[(X_val, y_val)],\n",
        "              eval_metric=\"multi_logloss\",\n",
        "              early_stopping_rounds=10,\n",
        "              verbose=False)\n",
        "    score = model.best_score_[\"valid_0\"][\"multi_logloss\"]\n",
        "\n",
        "    return {'loss': score, 'status': STATUS_OK, 'model': model}\n",
        "\n",
        "trials = Trials()\n",
        "best = fmin(fn=objective, space=space, trials=trials,\n",
        "            algo=tpe.suggest, max_evals=10, verbose=1)\n",
        "\n",
        "hyperparams = space_eval(space, best)\n",
        "n_best = trials.best_trial['result']['model'].best_iteration_\n",
        "params.update(hyperparams)\n",
        "print(params)"
      ],
      "execution_count": 16,
      "outputs": [
        {
          "output_type": "stream",
          "text": [
            "100%|██████████| 10/10 [09:01<00:00, 54.17s/it, best loss: 0.16187907754975886]\n",
            "{'objective': 'multiclass', 'n_estimators': 1000, 'subsample_freq': 1, 'random_state': 42, 'n_jobs': -1, 'colsample_bytree': 0.6000000000000001, 'learning_rate': 0.0247856285183672, 'min_child_samples': 10, 'num_leaves': 127, 'subsample': 0.5}\n"
          ],
          "name": "stdout"
        }
      ]
    },
    {
      "cell_type": "code",
      "metadata": {
        "id": "y7XZmi1s7Kpa"
      },
      "source": [
        "cv = StratifiedKFold(n_splits=n_fold, shuffle=True, random_state=seed)"
      ],
      "execution_count": 18,
      "outputs": []
    },
    {
      "cell_type": "code",
      "metadata": {
        "id": "YhlYjXPo7M2k"
      },
      "source": [
        "p_val = np.zeros((trn.shape[0], n_class))\n",
        "p_tst = np.zeros((tst.shape[0], n_class))\n",
        "for i, (i_trn, i_val) in enumerate(cv.split(trn, y), 1):\n",
        "    print(f'training model for CV #{i}')\n",
        "    clf = lgb.LGBMClassifier(**params)\n",
        "    clf.fit(trn[i_trn], y[i_trn],\n",
        "            eval_set=[(trn[i_val], y[i_val])],\n",
        "            eval_metric='multiclass',\n",
        "            early_stopping_rounds=10)\n",
        "    \n",
        "    p_val[i_val, :] = clf.predict_proba(trn[i_val])\n",
        "    p_tst += clf.predict_proba(tst) / n_fold"
      ],
      "execution_count": null,
      "outputs": []
    },
    {
      "cell_type": "code",
      "metadata": {
        "colab": {
          "base_uri": "https://localhost:8080/"
        },
        "id": "7p8Cecqg7Ots",
        "outputId": "801dd2d4-0cd0-4a79-da2b-7a2b9345116f"
      },
      "source": [
        "print(f'{accuracy_score(y, np.argmax(p_val, axis=1)) * 100:.4f}%')\n",
        "print(p_val.shape, p_tst.shape)"
      ],
      "execution_count": 20,
      "outputs": [
        {
          "output_type": "stream",
          "text": [
            "93.2863%\n",
            "(320000, 3) (80000, 3)\n"
          ],
          "name": "stdout"
        }
      ]
    },
    {
      "cell_type": "code",
      "metadata": {
        "id": "QRNVwIbb7Xyp"
      },
      "source": [
        "np.savetxt(p_val_file, p_val, fmt='%.6f', delimiter=',')\n",
        "np.savetxt(p_tst_file, p_tst, fmt='%.6f', delimiter=',')"
      ],
      "execution_count": 21,
      "outputs": []
    },
    {
      "cell_type": "code",
      "metadata": {
        "colab": {
          "base_uri": "https://localhost:8080/",
          "height": 500
        },
        "id": "3oR91MI57Yxv",
        "outputId": "46d0c30f-8da6-4c5e-d0c6-29d49f34fce0"
      },
      "source": [
        "imp = pd.DataFrame({'feature': df.columns, 'importance': clf.feature_importances_})\n",
        "imp = imp.sort_values('importance').set_index('feature')\n",
        "imp.plot(kind='barh')"
      ],
      "execution_count": 22,
      "outputs": [
        {
          "output_type": "execute_result",
          "data": {
            "text/plain": [
              "<matplotlib.axes._subplots.AxesSubplot at 0x7fbbb5abf690>"
            ]
          },
          "metadata": {},
          "execution_count": 22
        },
        {
          "output_type": "display_data",
          "data": {
            "image/png": "[encoded data removed]",
            "text/plain": [
              "<Figure size 1152x576 with 1 Axes>"
            ]
          },
          "metadata": {}
        }
      ]
    },
    {
      "cell_type": "markdown",
      "metadata": {
        "id": "MJMN_pTd6x8Z"
      },
      "source": [
        "### HPO - Optuna"
      ]
    },
    {
      "cell_type": "code",
      "metadata": {
        "id": "LPqvQCs06zrp"
      },
      "source": [
        "algo_name = 'lgb_optuna'\n",
        "feature_name = 'feature'\n",
        "model_name = f'{algo_name}_{feature_name}'\n",
        "\n",
        "feature_file = feature_dir / f'{feature_name}.csv'\n",
        "p_val_file = val_dir / f'{model_name}.val.csv'\n",
        "p_tst_file = tst_dir / f'{model_name}.tst.csv'\n",
        "sub_file = sub_dir / f'{model_name}.csv'"
      ],
      "execution_count": 44,
      "outputs": []
    },
    {
      "cell_type": "code",
      "metadata": {
        "colab": {
          "base_uri": "https://localhost:8080/"
        },
        "id": "UFYbhqaXAr0Z",
        "outputId": "d4996c1d-e2ea-4359-ee35-8f76b4d5f6c3"
      },
      "source": [
        "df = pd.read_csv(feature_file, index_col=0)\n",
        "y = df[target_col].values[:320000]\n",
        "df.drop(target_col, axis=1, inplace=True)\n",
        "trn = df.iloc[:320000].values\n",
        "tst = df.iloc[320000:].values\n",
        "feature_name = df.columns.tolist()\n",
        "print(y.shape, trn.shape, tst.shape)"
      ],
      "execution_count": 45,
      "outputs": [
        {
          "output_type": "stream",
          "text": [
            "(320000,) (320000, 19) (80000, 19)\n"
          ],
          "name": "stdout"
        }
      ]
    },
    {
      "cell_type": "code",
      "metadata": {
        "id": "yoeGowxzAtbQ"
      },
      "source": [
        "X_trn, X_val, y_trn, y_val = train_test_split(trn, y, test_size=.2, random_state=seed)"
      ],
      "execution_count": 46,
      "outputs": []
    },
    {
      "cell_type": "code",
      "metadata": {
        "id": "vXMHW7jmHrjI"
      },
      "source": [
        "params = {\n",
        "    \"objective\": \"multiclass\",\n",
        "    \"metric\": \"multi_logloss\",\n",
        "    \"num_class\": 3,\n",
        "    \"n_estimators\": 1000,\n",
        "    \"subsample_freq\": 1,\n",
        "    \"lambda_l1\": 0.,\n",
        "    \"lambda_l2\": 0.,\n",
        "    \"random_state\": seed,\n",
        "    \"n_jobs\": -1,\n",
        "}"
      ],
      "execution_count": 48,
      "outputs": []
    },
    {
      "cell_type": "code",
      "metadata": {
        "id": "fTpoggLQA4ky"
      },
      "source": [
        "import optuna.integration.lightgbm as lgb\n",
        "\n",
        "dtrain = lgb.Dataset(X_trn, label=y_trn)\n",
        "dval = lgb.Dataset(X_val, label=y_val)\n",
        "\n",
        "model = lgb.train(params, dtrain, valid_sets=[dtrain, dval], verbose_eval=100, early_stopping_rounds=10)\n",
        "\n",
        "prediction = np.argmax(model.predict(X_val, num_iteration=model.best_iteration), axis=1)\n",
        "accuracy = accuracy_score(y_val, prediction)\n",
        "\n",
        "params = model.params\n",
        "print(\"Best params:\", params)\n",
        "print(\"  Accuracy = {}\".format(accuracy))\n",
        "print(\"  Params: \")\n",
        "for key, value in params.items():\n",
        "    print(\"    {}: {}\".format(key, value))"
      ],
      "execution_count": null,
      "outputs": []
    },
    {
      "cell_type": "code",
      "metadata": {
        "id": "s3nyyZApBNEQ"
      },
      "source": [
        "cv = StratifiedKFold(n_splits=n_fold, shuffle=True, random_state=seed)"
      ],
      "execution_count": 50,
      "outputs": []
    },
    {
      "cell_type": "code",
      "metadata": {
        "id": "bryYg6WpBOHi"
      },
      "source": [
        "p_val = np.zeros((trn.shape[0], n_class))\n",
        "p_tst = np.zeros((tst.shape[0], n_class))\n",
        "for i, (i_trn, i_val) in enumerate(cv.split(trn, y), 1):\n",
        "    print(f'training model for CV #{i}')\n",
        "    clf = LGBMClassifier(**trial.params)\n",
        "    clf.fit(trn[i_trn], y[i_trn],\n",
        "            eval_set=[(trn[i_val], y[i_val])],\n",
        "            eval_metric='multiclass',\n",
        "            early_stopping_rounds=10)\n",
        "    \n",
        "    p_val[i_val, :] = clf.predict_proba(trn[i_val])\n",
        "    p_tst += clf.predict_proba(tst) / n_fold"
      ],
      "execution_count": null,
      "outputs": []
    },
    {
      "cell_type": "code",
      "metadata": {
        "colab": {
          "base_uri": "https://localhost:8080/"
        },
        "id": "qilV9PE0B0dS",
        "outputId": "e8c469b8-330a-4ce6-ef1d-8fe8205e634a"
      },
      "source": [
        "print(f'{accuracy_score(y, np.argmax(p_val, axis=1)) * 100:.4f}%')\n",
        "print(p_val.shape, p_tst.shape)"
      ],
      "execution_count": 52,
      "outputs": [
        {
          "output_type": "stream",
          "text": [
            "92.8525%\n",
            "(320000, 3) (80000, 3)\n"
          ],
          "name": "stdout"
        }
      ]
    },
    {
      "cell_type": "code",
      "metadata": {
        "id": "33lAacuGIAYA"
      },
      "source": [
        "np.savetxt(p_val_file, p_val, fmt='%.6f', delimiter=',')\n",
        "np.savetxt(p_tst_file, p_tst, fmt='%.6f', delimiter=',')"
      ],
      "execution_count": 53,
      "outputs": []
    },
    {
      "cell_type": "code",
      "metadata": {
        "colab": {
          "base_uri": "https://localhost:8080/",
          "height": 506
        },
        "id": "xPNHeiexIBi5",
        "outputId": "5d4f6510-fa8b-4b3c-86e1-d9b42df9c070"
      },
      "source": [
        "imp = pd.DataFrame({'feature': df.columns, 'importance': clf.feature_importances_})\n",
        "imp = imp.sort_values('importance').set_index('feature')\n",
        "imp.plot(kind='barh')"
      ],
      "execution_count": 54,
      "outputs": [
        {
          "output_type": "execute_result",
          "data": {
            "text/plain": [
              "<matplotlib.axes._subplots.AxesSubplot at 0x7fbbb4a6f850>"
            ]
          },
          "metadata": {},
          "execution_count": 54
        },
        {
          "output_type": "display_data",
          "data": {
            "image/png": "[encoded data removed]",
            "text/plain": [
              "<Figure size 1152x576 with 1 Axes>"
            ]
          },
          "metadata": {}
        }
      ]
    },
    {
      "cell_type": "markdown",
      "metadata": {
        "id": "7qfZOAz38CxR"
      },
      "source": [
        "## 제출 파일 생성"
      ]
    },
    {
      "cell_type": "code",
      "metadata": {
        "colab": {
          "base_uri": "https://localhost:8080/"
        },
        "id": "Gr6DIrQg8Ejs",
        "outputId": "d5ddc095-f527-48da-b031-f4ed9d5c4606"
      },
      "source": [
        "sub = pd.read_csv(sample_file, index_col=0)\n",
        "print(sub.shape)\n",
        "sub[target_col] = np.argmax(p_tst, axis=1)\n",
        "sub.head()\n",
        "# sub[target_col].value_counts()\n",
        "sub.to_csv(sub_file)"
      ],
      "execution_count": 55,
      "outputs": [
        {
          "output_type": "stream",
          "text": [
            "(80000, 1)\n"
          ],
          "name": "stdout"
        }
      ]
    },
    {
      "cell_type": "code",
      "metadata": {
        "colab": {
          "base_uri": "https://localhost:8080/"
        },
        "id": "jpWIJLOr8ITQ",
        "outputId": "6d762061-8ed9-48ae-d68f-b1b676ed7ace"
      },
      "source": [
        "!zip -r sub.zip ./build/sub"
      ],
      "execution_count": 56,
      "outputs": [
        {
          "output_type": "stream",
          "text": [
            "  adding: build/sub/ (stored 0%)\n",
            "  adding: build/sub/lgb_hyperopt_feature.csv (deflated 73%)\n",
            "  adding: build/sub/lgb_optuna_feature.csv (deflated 73%)\n"
          ],
          "name": "stdout"
        }
      ]
    },
    {
      "cell_type": "code",
      "metadata": {
        "colab": {
          "base_uri": "https://localhost:8080/",
          "height": 17
        },
        "id": "MiixsEkj8KkS",
        "outputId": "6488a4ca-480e-4dbc-8f0b-749383c86c63"
      },
      "source": [
        "files.download('./sub.zip')"
      ],
      "execution_count": 57,
      "outputs": [
        {
          "output_type": "display_data",
          "data": {
            "application/javascript": [
              "\n",
              "    async function download(id, filename, size) {\n",
              "      if (!google.colab.kernel.accessAllowed) {\n",
              "        return;\n",
              "      }\n",
              "      const div = document.createElement('div');\n",
              "      const label = document.createElement('label');\n",
              "      label.textContent = `Downloading \"${filename}\": `;\n",
              "      div.appendChild(label);\n",
              "      const progress = document.createElement('progress');\n",
              "      progress.max = size;\n",
              "      div.appendChild(progress);\n",
              "      document.body.appendChild(div);\n",
              "\n",
              "      const buffers = [];\n",
              "      let downloaded = 0;\n",
              "\n",
              "      const channel = await google.colab.kernel.comms.open(id);\n",
              "      // Send a message to notify the kernel that we're ready.\n",
              "      channel.send({})\n",
              "\n",
              "      for await (const message of channel.messages) {\n",
              "        // Send a message to notify the kernel that we're ready.\n",
              "        channel.send({})\n",
              "        if (message.buffers) {\n",
              "          for (const buffer of message.buffers) {\n",
              "            buffers.push(buffer);\n",
              "            downloaded += buffer.byteLength;\n",
              "            progress.value = downloaded;\n",
              "          }\n",
              "        }\n",
              "      }\n",
              "      const blob = new Blob(buffers, {type: 'application/binary'});\n",
              "      const a = document.createElement('a');\n",
              "      a.href = window.URL.createObjectURL(blob);\n",
              "      a.download = filename;\n",
              "      div.appendChild(a);\n",
              "      a.click();\n",
              "      div.remove();\n",
              "    }\n",
              "  "
            ],
            "text/plain": [
              "<IPython.core.display.Javascript object>"
            ]
          },
          "metadata": {}
        },
        {
          "output_type": "display_data",
          "data": {
            "application/javascript": [
              "download(\"download_63d8fb39-c30e-4ba9-9ffc-b752bb6bbc3b\", \"sub.zip\", 390470)"
            ],
            "text/plain": [
              "<IPython.core.display.Javascript object>"
            ]
          },
          "metadata": {}
        }
      ]
    }
  ]
}