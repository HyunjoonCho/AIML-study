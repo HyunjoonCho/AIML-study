{
  "nbformat": 4,
  "nbformat_minor": 0,
  "metadata": {
    "colab": {
      "name": "categorical-features.ipynb",
      "provenance": [],
      "collapsed_sections": []
    },
    "kernelspec": {
      "name": "python3",
      "display_name": "Python 3"
    },
    "language_info": {
      "name": "python"
    }
  },
  "cells": [
    {
      "cell_type": "markdown",
      "metadata": {
        "id": "IHNh5LGsKoTD"
      },
      "source": [
        "## 범주형 변수 가공\n",
        "\n",
        "EDA 시에는 흔히 dataframe['col_name'].value_counts() 활용  \n",
        "범주마다 빈도가 다르고 범주의 수 자체도 다름  \n",
        "**각 경우마다 가공법이 달라진다!**\n",
        "\n",
        "시계열 변수도 pandas에서는 object(string)로 인식하기 때문에 전처리가 필수\n",
        "\n",
        "### 가공 방식  \n",
        "* Ordinal Encoding  \n",
        "  * 각 범주를 0부터 n-1의 정수로 변환 \n",
        "  * 순서가 존재하는 경우(유치원 - 초등학교 등)는 Ordinal, 순서가 없는 경우(성별) Nominal  \n",
        "  * label encoding은 원래 종속 변수에 적용하는 것이나, ordinal과 비슷하게 동작함 \n",
        "  * Cons: 한 번 출현한 범주도 각기 다른 수로 encoding됨 e.g. director col in movies \n",
        "    * Sol: 이러한 범주들을 묶어서 그룹 형성 e.g. 기타 / kaggler 모듈 활용\n",
        "* One Hot Encoding\n",
        "  * Ordinal encoding은 Tree-based 알고리즘에는 괜찮으나 LR, NN, SVM에서는 사용 불가능\n",
        "    * 입력값이 수치형 변수여야 함 - 이때 ordinal encoding의 결과가 어떠한 대소 관계나 수치상 관계를 의미하지는 않음\n",
        "  * 각각의 범주를 이진 변수로 변환\n",
        "* Target Encoding  \n",
        "  * 각 범주를 해당 범주에 속하는 종속변수의 평균값으로 변환\n",
        "  * 종속변수에 대한 정보를 갖고 학습을 진행하기 때문에 과적합에 취약 - CV 또는 Smoothing과 함께 사용  \n",
        "    * Smoothing: 빈도가 낮은 범주, 특히 한 번 등장하는 범주는 종속변수의 값을 고스란히 갖게 됨  \n",
        "    이를 막기 위해 출현 빈도를 고려하여 전체 sample의 평균에 대해 weighted average로 변환\n",
        "  * Q. 종속 변수가 없는 test set은 어떻게? \n",
        "    * 적용 불가능! \n",
        "    * TargetEncoder를 사용할 때, train set에는 fit_transform - test set에는 transform을 적용\n",
        "  * Q. 문제의 형태 - multiclass, regression 등 - 에 상관 없이 적용 가능한가? \n",
        "    * 주의가 필요함 - 단순 평균? 정수로 반올림?\n",
        "* Frequency Encoding\n",
        "  * 각 범주를 해당 범주의 빈도로 변환\n",
        "  * Label Encoding에 Grouping을 적용한 것과 효과\n",
        "* Hashing Trick  \n",
        "  * 각 범주에 hash 함수를 적용한 값을 변환 \n",
        "  * Fit 과정이 필요 없어 가볍고 빠름 - large scale에서, 범주의 수가 많을 때 유리함\n",
        "  \n"
      ]
    },
    {
      "cell_type": "code",
      "metadata": {
        "id": "BQ7yU32gKhSs"
      },
      "source": [
        "%reload_ext autoreload\n",
        "%autoreload 2\n",
        "%matplotlib inline"
      ],
      "execution_count": 1,
      "outputs": []
    },
    {
      "cell_type": "code",
      "metadata": {
        "id": "MF9L3UqSYkvu"
      },
      "source": [
        "!pip install kaggler"
      ],
      "execution_count": null,
      "outputs": []
    },
    {
      "cell_type": "code",
      "metadata": {
        "id": "vhP1n0LLYCQU"
      },
      "source": [
        "import kaggler\n",
        "from lightgbm import LGBMRegressor\n",
        "from matplotlib import rcParams, pyplot as plt\n",
        "import numpy as np\n",
        "import pandas as pd\n",
        "from pathlib import Path\n",
        "from scipy.sparse import hstack\n",
        "import seaborn as sns\n",
        "from sklearn.metrics import mean_squared_error\n",
        "from sklearn.model_selection import train_test_split\n",
        "from sklearn.linear_model import LinearRegression\n",
        "from warnings import simplefilter"
      ],
      "execution_count": 9,
      "outputs": []
    },
    {
      "cell_type": "code",
      "metadata": {
        "id": "ybTRx5eCYD4v"
      },
      "source": [
        "rcParams['figure.figsize'] = (16, 8)\n",
        "plt.style.use('fivethirtyeight')\n",
        "simplefilter('ignore')"
      ],
      "execution_count": 10,
      "outputs": []
    },
    {
      "cell_type": "code",
      "metadata": {
        "id": "cT0MQE6_YFTS"
      },
      "source": [
        "from google.colab import files\n",
        "files.upload()"
      ],
      "execution_count": null,
      "outputs": []
    },
    {
      "cell_type": "code",
      "metadata": {
        "colab": {
          "base_uri": "https://localhost:8080/"
        },
        "id": "qgsq1AGoYV2B",
        "outputId": "f4be2901-fe81-4936-8bcf-44c5876d1162"
      },
      "source": [
        "!unzip movies.zip"
      ],
      "execution_count": 3,
      "outputs": [
        {
          "output_type": "stream",
          "text": [
            "Archive:  movies.zip\n",
            "  inflating: submission.csv          \n",
            "  inflating: movies_train.csv        \n",
            "  inflating: movies_test.csv         \n"
          ],
          "name": "stdout"
        }
      ]
    },
    {
      "cell_type": "code",
      "metadata": {
        "colab": {
          "base_uri": "https://localhost:8080/"
        },
        "id": "wl3AeP-cYY-D",
        "outputId": "0d33ef46-872f-496f-8aaf-513915dcacad"
      },
      "source": [
        "!ls"
      ],
      "execution_count": 11,
      "outputs": [
        {
          "output_type": "stream",
          "text": [
            "movies_test.csv  movies_train.csv  movies.zip  sample_data  submission.csv\n"
          ],
          "name": "stdout"
        }
      ]
    },
    {
      "cell_type": "code",
      "metadata": {
        "id": "F1doB8UHYaJx"
      },
      "source": [
        "data_dir = Path('.')\n",
        "trn_file = data_dir / 'movies_train.csv'\n",
        "seed = 42\n",
        "target_col = 'box_off_num'"
      ],
      "execution_count": 12,
      "outputs": []
    },
    {
      "cell_type": "code",
      "metadata": {
        "colab": {
          "base_uri": "https://localhost:8080/",
          "height": 448
        },
        "id": "2Iu2oxtjYecS",
        "outputId": "23452de9-800d-480c-e88d-00cb0a5935f3"
      },
      "source": [
        "df = pd.read_csv(trn_file, index_col=0)\n",
        "print(df.shape)\n",
        "df.head()"
      ],
      "execution_count": 13,
      "outputs": [
        {
          "output_type": "stream",
          "text": [
            "(600, 11)\n"
          ],
          "name": "stdout"
        },
        {
          "output_type": "execute_result",
          "data": {
            "text/html": [
              "<div>\n",
              "<style scoped>\n",
              "    .dataframe tbody tr th:only-of-type {\n",
              "        vertical-align: middle;\n",
              "    }\n",
              "\n",
              "    .dataframe tbody tr th {\n",
              "        vertical-align: top;\n",
              "    }\n",
              "\n",
              "    .dataframe thead th {\n",
              "        text-align: right;\n",
              "    }\n",
              "</style>\n",
              "<table border=\"1\" class=\"dataframe\">\n",
              "  <thead>\n",
              "    <tr style=\"text-align: right;\">\n",
              "      <th></th>\n",
              "      <th>distributor</th>\n",
              "      <th>genre</th>\n",
              "      <th>release_time</th>\n",
              "      <th>time</th>\n",
              "      <th>screening_rat</th>\n",
              "      <th>director</th>\n",
              "      <th>dir_prev_bfnum</th>\n",
              "      <th>dir_prev_num</th>\n",
              "      <th>num_staff</th>\n",
              "      <th>num_actor</th>\n",
              "      <th>box_off_num</th>\n",
              "    </tr>\n",
              "    <tr>\n",
              "      <th>title</th>\n",
              "      <th></th>\n",
              "      <th></th>\n",
              "      <th></th>\n",
              "      <th></th>\n",
              "      <th></th>\n",
              "      <th></th>\n",
              "      <th></th>\n",
              "      <th></th>\n",
              "      <th></th>\n",
              "      <th></th>\n",
              "      <th></th>\n",
              "    </tr>\n",
              "  </thead>\n",
              "  <tbody>\n",
              "    <tr>\n",
              "      <th>개들의 전쟁</th>\n",
              "      <td>롯데엔터테인먼트</td>\n",
              "      <td>액션</td>\n",
              "      <td>2012-11-22</td>\n",
              "      <td>96</td>\n",
              "      <td>청소년 관람불가</td>\n",
              "      <td>조병옥</td>\n",
              "      <td>NaN</td>\n",
              "      <td>0</td>\n",
              "      <td>91</td>\n",
              "      <td>2</td>\n",
              "      <td>23398</td>\n",
              "    </tr>\n",
              "    <tr>\n",
              "      <th>내부자들</th>\n",
              "      <td>(주)쇼박스</td>\n",
              "      <td>느와르</td>\n",
              "      <td>2015-11-19</td>\n",
              "      <td>130</td>\n",
              "      <td>청소년 관람불가</td>\n",
              "      <td>우민호</td>\n",
              "      <td>1161602.50</td>\n",
              "      <td>2</td>\n",
              "      <td>387</td>\n",
              "      <td>3</td>\n",
              "      <td>7072501</td>\n",
              "    </tr>\n",
              "    <tr>\n",
              "      <th>은밀하게 위대하게</th>\n",
              "      <td>(주)쇼박스</td>\n",
              "      <td>액션</td>\n",
              "      <td>2013-06-05</td>\n",
              "      <td>123</td>\n",
              "      <td>15세 관람가</td>\n",
              "      <td>장철수</td>\n",
              "      <td>220775.25</td>\n",
              "      <td>4</td>\n",
              "      <td>343</td>\n",
              "      <td>4</td>\n",
              "      <td>6959083</td>\n",
              "    </tr>\n",
              "    <tr>\n",
              "      <th>나는 공무원이다</th>\n",
              "      <td>(주)NEW</td>\n",
              "      <td>코미디</td>\n",
              "      <td>2012-07-12</td>\n",
              "      <td>101</td>\n",
              "      <td>전체 관람가</td>\n",
              "      <td>구자홍</td>\n",
              "      <td>23894.00</td>\n",
              "      <td>2</td>\n",
              "      <td>20</td>\n",
              "      <td>6</td>\n",
              "      <td>217866</td>\n",
              "    </tr>\n",
              "    <tr>\n",
              "      <th>불량남녀</th>\n",
              "      <td>쇼박스(주)미디어플렉스</td>\n",
              "      <td>코미디</td>\n",
              "      <td>2010-11-04</td>\n",
              "      <td>108</td>\n",
              "      <td>15세 관람가</td>\n",
              "      <td>신근호</td>\n",
              "      <td>1.00</td>\n",
              "      <td>1</td>\n",
              "      <td>251</td>\n",
              "      <td>2</td>\n",
              "      <td>483387</td>\n",
              "    </tr>\n",
              "  </tbody>\n",
              "</table>\n",
              "</div>"
            ],
            "text/plain": [
              "            distributor genre release_time  ...  num_staff num_actor box_off_num\n",
              "title                                       ...                                 \n",
              "개들의 전쟁         롯데엔터테인먼트    액션   2012-11-22  ...         91         2       23398\n",
              "내부자들             (주)쇼박스   느와르   2015-11-19  ...        387         3     7072501\n",
              "은밀하게 위대하게        (주)쇼박스    액션   2013-06-05  ...        343         4     6959083\n",
              "나는 공무원이다         (주)NEW   코미디   2012-07-12  ...         20         6      217866\n",
              "불량남녀       쇼박스(주)미디어플렉스   코미디   2010-11-04  ...        251         2      483387\n",
              "\n",
              "[5 rows x 11 columns]"
            ]
          },
          "metadata": {},
          "execution_count": 13
        }
      ]
    },
    {
      "cell_type": "code",
      "metadata": {
        "colab": {
          "base_uri": "https://localhost:8080/"
        },
        "id": "tbM71dblY2Di",
        "outputId": "8a48f8fb-e14c-4bd1-aac1-705d8bbf5cf8"
      },
      "source": [
        "df.info()"
      ],
      "execution_count": 14,
      "outputs": [
        {
          "output_type": "stream",
          "text": [
            "<class 'pandas.core.frame.DataFrame'>\n",
            "Index: 600 entries, 개들의 전쟁 to 베를린\n",
            "Data columns (total 11 columns):\n",
            " #   Column          Non-Null Count  Dtype  \n",
            "---  ------          --------------  -----  \n",
            " 0   distributor     600 non-null    object \n",
            " 1   genre           600 non-null    object \n",
            " 2   release_time    600 non-null    object \n",
            " 3   time            600 non-null    int64  \n",
            " 4   screening_rat   600 non-null    object \n",
            " 5   director        600 non-null    object \n",
            " 6   dir_prev_bfnum  270 non-null    float64\n",
            " 7   dir_prev_num    600 non-null    int64  \n",
            " 8   num_staff       600 non-null    int64  \n",
            " 9   num_actor       600 non-null    int64  \n",
            " 10  box_off_num     600 non-null    int64  \n",
            "dtypes: float64(1), int64(5), object(5)\n",
            "memory usage: 56.2+ KB\n"
          ],
          "name": "stdout"
        }
      ]
    },
    {
      "cell_type": "code",
      "metadata": {
        "colab": {
          "base_uri": "https://localhost:8080/"
        },
        "id": "kTBbdZJVY5no",
        "outputId": "d5c19571-ff47-4e0d-e974-211040008663"
      },
      "source": [
        "df['release_time'] = pd.to_datetime(df['release_time'])\n",
        "print(df['release_time'].dtype)"
      ],
      "execution_count": 15,
      "outputs": [
        {
          "output_type": "stream",
          "text": [
            "datetime64[ns]\n"
          ],
          "name": "stdout"
        }
      ]
    },
    {
      "cell_type": "code",
      "metadata": {
        "colab": {
          "base_uri": "https://localhost:8080/"
        },
        "id": "vv_FKUTqY8ee",
        "outputId": "158534cc-a356-4411-ed7a-bdf6b35a435f"
      },
      "source": [
        "df.fillna(0, inplace=True)\n",
        "df.info()"
      ],
      "execution_count": 16,
      "outputs": [
        {
          "output_type": "stream",
          "text": [
            "<class 'pandas.core.frame.DataFrame'>\n",
            "Index: 600 entries, 개들의 전쟁 to 베를린\n",
            "Data columns (total 11 columns):\n",
            " #   Column          Non-Null Count  Dtype         \n",
            "---  ------          --------------  -----         \n",
            " 0   distributor     600 non-null    object        \n",
            " 1   genre           600 non-null    object        \n",
            " 2   release_time    600 non-null    datetime64[ns]\n",
            " 3   time            600 non-null    int64         \n",
            " 4   screening_rat   600 non-null    object        \n",
            " 5   director        600 non-null    object        \n",
            " 6   dir_prev_bfnum  600 non-null    float64       \n",
            " 7   dir_prev_num    600 non-null    int64         \n",
            " 8   num_staff       600 non-null    int64         \n",
            " 9   num_actor       600 non-null    int64         \n",
            " 10  box_off_num     600 non-null    int64         \n",
            "dtypes: datetime64[ns](1), float64(1), int64(5), object(4)\n",
            "memory usage: 56.2+ KB\n"
          ],
          "name": "stdout"
        }
      ]
    },
    {
      "cell_type": "code",
      "metadata": {
        "colab": {
          "base_uri": "https://localhost:8080/"
        },
        "id": "fdP-BXQcY-tV",
        "outputId": "9fe76f2b-5fad-4109-a393-23747bf98722"
      },
      "source": [
        "num_cols = [x for x in df.columns if df[x].dtype in [np.int64, np.float64] and x != target_col]\n",
        "cat_cols = ['distributor', 'genre', 'screening_rat', 'director']\n",
        "print(f'    numeric ({len(num_cols)}):\\t{num_cols}')\n",
        "print(f'categorical ({len(cat_cols)}):\\t{cat_cols}')"
      ],
      "execution_count": 17,
      "outputs": [
        {
          "output_type": "stream",
          "text": [
            "    numeric (5):\t['time', 'dir_prev_bfnum', 'dir_prev_num', 'num_staff', 'num_actor']\n",
            "categorical (4):\t['distributor', 'genre', 'screening_rat', 'director']\n"
          ],
          "name": "stdout"
        }
      ]
    },
    {
      "cell_type": "code",
      "metadata": {
        "colab": {
          "base_uri": "https://localhost:8080/"
        },
        "id": "s5SoDK7qZEzD",
        "outputId": "0824925a-7f43-41e7-9321-0057c61dbc46"
      },
      "source": [
        "print(cat_cols)"
      ],
      "execution_count": 18,
      "outputs": [
        {
          "output_type": "stream",
          "text": [
            "['distributor', 'genre', 'screening_rat', 'director']\n"
          ],
          "name": "stdout"
        }
      ]
    },
    {
      "cell_type": "code",
      "metadata": {
        "colab": {
          "base_uri": "https://localhost:8080/",
          "height": 422
        },
        "id": "f2jP7Ds8ZKtX",
        "outputId": "8d69c246-a0f9-45c8-cfd2-a5c14fb6b704"
      },
      "source": [
        "pd.DataFrame(df['distributor'].value_counts())"
      ],
      "execution_count": 19,
      "outputs": [
        {
          "output_type": "execute_result",
          "data": {
            "text/html": [
              "<div>\n",
              "<style scoped>\n",
              "    .dataframe tbody tr th:only-of-type {\n",
              "        vertical-align: middle;\n",
              "    }\n",
              "\n",
              "    .dataframe tbody tr th {\n",
              "        vertical-align: top;\n",
              "    }\n",
              "\n",
              "    .dataframe thead th {\n",
              "        text-align: right;\n",
              "    }\n",
              "</style>\n",
              "<table border=\"1\" class=\"dataframe\">\n",
              "  <thead>\n",
              "    <tr style=\"text-align: right;\">\n",
              "      <th></th>\n",
              "      <th>distributor</th>\n",
              "    </tr>\n",
              "  </thead>\n",
              "  <tbody>\n",
              "    <tr>\n",
              "      <th>CJ 엔터테인먼트</th>\n",
              "      <td>54</td>\n",
              "    </tr>\n",
              "    <tr>\n",
              "      <th>롯데엔터테인먼트</th>\n",
              "      <td>52</td>\n",
              "    </tr>\n",
              "    <tr>\n",
              "      <th>(주)NEW</th>\n",
              "      <td>30</td>\n",
              "    </tr>\n",
              "    <tr>\n",
              "      <th>(주)마운틴픽쳐스</th>\n",
              "      <td>29</td>\n",
              "    </tr>\n",
              "    <tr>\n",
              "      <th>인디스토리</th>\n",
              "      <td>26</td>\n",
              "    </tr>\n",
              "    <tr>\n",
              "      <th>...</th>\n",
              "      <td>...</td>\n",
              "    </tr>\n",
              "    <tr>\n",
              "      <th>전주국제영화제</th>\n",
              "      <td>1</td>\n",
              "    </tr>\n",
              "    <tr>\n",
              "      <th>스폰지이엔티</th>\n",
              "      <td>1</td>\n",
              "    </tr>\n",
              "    <tr>\n",
              "      <th>스크린조이</th>\n",
              "      <td>1</td>\n",
              "    </tr>\n",
              "    <tr>\n",
              "      <th>스튜디오 느림보</th>\n",
              "      <td>1</td>\n",
              "    </tr>\n",
              "    <tr>\n",
              "      <th>케이엠스타</th>\n",
              "      <td>1</td>\n",
              "    </tr>\n",
              "  </tbody>\n",
              "</table>\n",
              "<p>169 rows × 1 columns</p>\n",
              "</div>"
            ],
            "text/plain": [
              "           distributor\n",
              "CJ 엔터테인먼트           54\n",
              "롯데엔터테인먼트            52\n",
              "(주)NEW              30\n",
              "(주)마운틴픽쳐스           29\n",
              "인디스토리               26\n",
              "...                ...\n",
              "전주국제영화제              1\n",
              "스폰지이엔티               1\n",
              "스크린조이                1\n",
              "스튜디오 느림보             1\n",
              "케이엠스타                1\n",
              "\n",
              "[169 rows x 1 columns]"
            ]
          },
          "metadata": {},
          "execution_count": 19
        }
      ]
    },
    {
      "cell_type": "code",
      "metadata": {
        "colab": {
          "base_uri": "https://localhost:8080/",
          "height": 424
        },
        "id": "T1-xRr2ZZMxz",
        "outputId": "2bdba2f4-a9e8-444b-b1a9-116fb225c8e7"
      },
      "source": [
        "pd.DataFrame(df['genre'].value_counts())"
      ],
      "execution_count": 20,
      "outputs": [
        {
          "output_type": "execute_result",
          "data": {
            "text/html": [
              "<div>\n",
              "<style scoped>\n",
              "    .dataframe tbody tr th:only-of-type {\n",
              "        vertical-align: middle;\n",
              "    }\n",
              "\n",
              "    .dataframe tbody tr th {\n",
              "        vertical-align: top;\n",
              "    }\n",
              "\n",
              "    .dataframe thead th {\n",
              "        text-align: right;\n",
              "    }\n",
              "</style>\n",
              "<table border=\"1\" class=\"dataframe\">\n",
              "  <thead>\n",
              "    <tr style=\"text-align: right;\">\n",
              "      <th></th>\n",
              "      <th>genre</th>\n",
              "    </tr>\n",
              "  </thead>\n",
              "  <tbody>\n",
              "    <tr>\n",
              "      <th>드라마</th>\n",
              "      <td>221</td>\n",
              "    </tr>\n",
              "    <tr>\n",
              "      <th>다큐멘터리</th>\n",
              "      <td>93</td>\n",
              "    </tr>\n",
              "    <tr>\n",
              "      <th>멜로/로맨스</th>\n",
              "      <td>78</td>\n",
              "    </tr>\n",
              "    <tr>\n",
              "      <th>코미디</th>\n",
              "      <td>53</td>\n",
              "    </tr>\n",
              "    <tr>\n",
              "      <th>공포</th>\n",
              "      <td>42</td>\n",
              "    </tr>\n",
              "    <tr>\n",
              "      <th>액션</th>\n",
              "      <td>28</td>\n",
              "    </tr>\n",
              "    <tr>\n",
              "      <th>느와르</th>\n",
              "      <td>27</td>\n",
              "    </tr>\n",
              "    <tr>\n",
              "      <th>애니메이션</th>\n",
              "      <td>21</td>\n",
              "    </tr>\n",
              "    <tr>\n",
              "      <th>미스터리</th>\n",
              "      <td>17</td>\n",
              "    </tr>\n",
              "    <tr>\n",
              "      <th>SF</th>\n",
              "      <td>13</td>\n",
              "    </tr>\n",
              "    <tr>\n",
              "      <th>뮤지컬</th>\n",
              "      <td>5</td>\n",
              "    </tr>\n",
              "    <tr>\n",
              "      <th>서스펜스</th>\n",
              "      <td>2</td>\n",
              "    </tr>\n",
              "  </tbody>\n",
              "</table>\n",
              "</div>"
            ],
            "text/plain": [
              "        genre\n",
              "드라마       221\n",
              "다큐멘터리      93\n",
              "멜로/로맨스     78\n",
              "코미디        53\n",
              "공포         42\n",
              "액션         28\n",
              "느와르        27\n",
              "애니메이션      21\n",
              "미스터리       17\n",
              "SF         13\n",
              "뮤지컬         5\n",
              "서스펜스        2"
            ]
          },
          "metadata": {},
          "execution_count": 20
        }
      ]
    },
    {
      "cell_type": "code",
      "metadata": {
        "colab": {
          "base_uri": "https://localhost:8080/",
          "height": 174
        },
        "id": "PYKwvfJvZP-C",
        "outputId": "49ea8778-04b9-402e-e2d0-65f31869ca46"
      },
      "source": [
        "pd.DataFrame(df['screening_rat'].value_counts())"
      ],
      "execution_count": 21,
      "outputs": [
        {
          "output_type": "execute_result",
          "data": {
            "text/html": [
              "<div>\n",
              "<style scoped>\n",
              "    .dataframe tbody tr th:only-of-type {\n",
              "        vertical-align: middle;\n",
              "    }\n",
              "\n",
              "    .dataframe tbody tr th {\n",
              "        vertical-align: top;\n",
              "    }\n",
              "\n",
              "    .dataframe thead th {\n",
              "        text-align: right;\n",
              "    }\n",
              "</style>\n",
              "<table border=\"1\" class=\"dataframe\">\n",
              "  <thead>\n",
              "    <tr style=\"text-align: right;\">\n",
              "      <th></th>\n",
              "      <th>screening_rat</th>\n",
              "    </tr>\n",
              "  </thead>\n",
              "  <tbody>\n",
              "    <tr>\n",
              "      <th>청소년 관람불가</th>\n",
              "      <td>204</td>\n",
              "    </tr>\n",
              "    <tr>\n",
              "      <th>15세 관람가</th>\n",
              "      <td>202</td>\n",
              "    </tr>\n",
              "    <tr>\n",
              "      <th>12세 관람가</th>\n",
              "      <td>102</td>\n",
              "    </tr>\n",
              "    <tr>\n",
              "      <th>전체 관람가</th>\n",
              "      <td>92</td>\n",
              "    </tr>\n",
              "  </tbody>\n",
              "</table>\n",
              "</div>"
            ],
            "text/plain": [
              "          screening_rat\n",
              "청소년 관람불가            204\n",
              "15세 관람가             202\n",
              "12세 관람가             102\n",
              "전체 관람가               92"
            ]
          },
          "metadata": {},
          "execution_count": 21
        }
      ]
    },
    {
      "cell_type": "code",
      "metadata": {
        "colab": {
          "base_uri": "https://localhost:8080/",
          "height": 422
        },
        "id": "Oa7HjnkLZRhx",
        "outputId": "abb41a45-a9ec-4fd4-a7ca-f07ca1ba728e"
      },
      "source": [
        "pd.DataFrame(df['director'].value_counts())"
      ],
      "execution_count": 22,
      "outputs": [
        {
          "output_type": "execute_result",
          "data": {
            "text/html": [
              "<div>\n",
              "<style scoped>\n",
              "    .dataframe tbody tr th:only-of-type {\n",
              "        vertical-align: middle;\n",
              "    }\n",
              "\n",
              "    .dataframe tbody tr th {\n",
              "        vertical-align: top;\n",
              "    }\n",
              "\n",
              "    .dataframe thead th {\n",
              "        text-align: right;\n",
              "    }\n",
              "</style>\n",
              "<table border=\"1\" class=\"dataframe\">\n",
              "  <thead>\n",
              "    <tr style=\"text-align: right;\">\n",
              "      <th></th>\n",
              "      <th>director</th>\n",
              "    </tr>\n",
              "  </thead>\n",
              "  <tbody>\n",
              "    <tr>\n",
              "      <th>홍상수</th>\n",
              "      <td>7</td>\n",
              "    </tr>\n",
              "    <tr>\n",
              "      <th>노진수</th>\n",
              "      <td>4</td>\n",
              "    </tr>\n",
              "    <tr>\n",
              "      <th>신재호</th>\n",
              "      <td>4</td>\n",
              "    </tr>\n",
              "    <tr>\n",
              "      <th>전규환</th>\n",
              "      <td>4</td>\n",
              "    </tr>\n",
              "    <tr>\n",
              "      <th>장률</th>\n",
              "      <td>4</td>\n",
              "    </tr>\n",
              "    <tr>\n",
              "      <th>...</th>\n",
              "      <td>...</td>\n",
              "    </tr>\n",
              "    <tr>\n",
              "      <th>김일종</th>\n",
              "      <td>1</td>\n",
              "    </tr>\n",
              "    <tr>\n",
              "      <th>이현철</th>\n",
              "      <td>1</td>\n",
              "    </tr>\n",
              "    <tr>\n",
              "      <th>방은진</th>\n",
              "      <td>1</td>\n",
              "    </tr>\n",
              "    <tr>\n",
              "      <th>박헌수</th>\n",
              "      <td>1</td>\n",
              "    </tr>\n",
              "    <tr>\n",
              "      <th>강성옥</th>\n",
              "      <td>1</td>\n",
              "    </tr>\n",
              "  </tbody>\n",
              "</table>\n",
              "<p>472 rows × 1 columns</p>\n",
              "</div>"
            ],
            "text/plain": [
              "     director\n",
              "홍상수         7\n",
              "노진수         4\n",
              "신재호         4\n",
              "전규환         4\n",
              "장률          4\n",
              "..        ...\n",
              "김일종         1\n",
              "이현철         1\n",
              "방은진         1\n",
              "박헌수         1\n",
              "강성옥         1\n",
              "\n",
              "[472 rows x 1 columns]"
            ]
          },
          "metadata": {},
          "execution_count": 22
        }
      ]
    },
    {
      "cell_type": "code",
      "metadata": {
        "colab": {
          "base_uri": "https://localhost:8080/",
          "height": 299
        },
        "id": "RD-dvYLkZU-U",
        "outputId": "d21c7f21-ad9f-4253-cce4-dbda47c92fba"
      },
      "source": [
        "df[['dir_prev_bfnum', 'dir_prev_num', 'num_staff', 'num_actor']] = df[['dir_prev_bfnum', 'dir_prev_num', 'num_staff', 'num_actor']].apply(np.log1p)\n",
        "df[num_cols].describe()"
      ],
      "execution_count": 23,
      "outputs": [
        {
          "output_type": "execute_result",
          "data": {
            "text/html": [
              "<div>\n",
              "<style scoped>\n",
              "    .dataframe tbody tr th:only-of-type {\n",
              "        vertical-align: middle;\n",
              "    }\n",
              "\n",
              "    .dataframe tbody tr th {\n",
              "        vertical-align: top;\n",
              "    }\n",
              "\n",
              "    .dataframe thead th {\n",
              "        text-align: right;\n",
              "    }\n",
              "</style>\n",
              "<table border=\"1\" class=\"dataframe\">\n",
              "  <thead>\n",
              "    <tr style=\"text-align: right;\">\n",
              "      <th></th>\n",
              "      <th>time</th>\n",
              "      <th>dir_prev_bfnum</th>\n",
              "      <th>dir_prev_num</th>\n",
              "      <th>num_staff</th>\n",
              "      <th>num_actor</th>\n",
              "    </tr>\n",
              "  </thead>\n",
              "  <tbody>\n",
              "    <tr>\n",
              "      <th>count</th>\n",
              "      <td>600.000000</td>\n",
              "      <td>600.000000</td>\n",
              "      <td>600.000000</td>\n",
              "      <td>600.000000</td>\n",
              "      <td>600.000000</td>\n",
              "    </tr>\n",
              "    <tr>\n",
              "      <th>mean</th>\n",
              "      <td>100.863333</td>\n",
              "      <td>5.305796</td>\n",
              "      <td>0.462197</td>\n",
              "      <td>4.026352</td>\n",
              "      <td>1.446130</td>\n",
              "    </tr>\n",
              "    <tr>\n",
              "      <th>std</th>\n",
              "      <td>18.097528</td>\n",
              "      <td>6.254561</td>\n",
              "      <td>0.555570</td>\n",
              "      <td>1.789517</td>\n",
              "      <td>0.446256</td>\n",
              "    </tr>\n",
              "    <tr>\n",
              "      <th>min</th>\n",
              "      <td>45.000000</td>\n",
              "      <td>0.000000</td>\n",
              "      <td>0.000000</td>\n",
              "      <td>0.000000</td>\n",
              "      <td>0.000000</td>\n",
              "    </tr>\n",
              "    <tr>\n",
              "      <th>25%</th>\n",
              "      <td>89.000000</td>\n",
              "      <td>0.000000</td>\n",
              "      <td>0.000000</td>\n",
              "      <td>2.890372</td>\n",
              "      <td>1.098612</td>\n",
              "    </tr>\n",
              "    <tr>\n",
              "      <th>50%</th>\n",
              "      <td>100.000000</td>\n",
              "      <td>0.000000</td>\n",
              "      <td>0.000000</td>\n",
              "      <td>4.424829</td>\n",
              "      <td>1.386294</td>\n",
              "    </tr>\n",
              "    <tr>\n",
              "      <th>75%</th>\n",
              "      <td>114.000000</td>\n",
              "      <td>12.837611</td>\n",
              "      <td>1.098612</td>\n",
              "      <td>5.579730</td>\n",
              "      <td>1.609438</td>\n",
              "    </tr>\n",
              "    <tr>\n",
              "      <th>max</th>\n",
              "      <td>180.000000</td>\n",
              "      <td>16.684279</td>\n",
              "      <td>1.791759</td>\n",
              "      <td>6.768493</td>\n",
              "      <td>3.258097</td>\n",
              "    </tr>\n",
              "  </tbody>\n",
              "</table>\n",
              "</div>"
            ],
            "text/plain": [
              "             time  dir_prev_bfnum  dir_prev_num   num_staff   num_actor\n",
              "count  600.000000      600.000000    600.000000  600.000000  600.000000\n",
              "mean   100.863333        5.305796      0.462197    4.026352    1.446130\n",
              "std     18.097528        6.254561      0.555570    1.789517    0.446256\n",
              "min     45.000000        0.000000      0.000000    0.000000    0.000000\n",
              "25%     89.000000        0.000000      0.000000    2.890372    1.098612\n",
              "50%    100.000000        0.000000      0.000000    4.424829    1.386294\n",
              "75%    114.000000       12.837611      1.098612    5.579730    1.609438\n",
              "max    180.000000       16.684279      1.791759    6.768493    3.258097"
            ]
          },
          "metadata": {},
          "execution_count": 23
        }
      ]
    },
    {
      "cell_type": "code",
      "metadata": {
        "colab": {
          "base_uri": "https://localhost:8080/",
          "height": 429
        },
        "id": "hxqGKATmZZao",
        "outputId": "41416246-d4b6-4aa2-fad4-ef26bef884fe"
      },
      "source": [
        "df['year'] = df['release_time'].dt.year\n",
        "df['month'] = df['release_time'].dt.month\n",
        "df.head()"
      ],
      "execution_count": 24,
      "outputs": [
        {
          "output_type": "execute_result",
          "data": {
            "text/html": [
              "<div>\n",
              "<style scoped>\n",
              "    .dataframe tbody tr th:only-of-type {\n",
              "        vertical-align: middle;\n",
              "    }\n",
              "\n",
              "    .dataframe tbody tr th {\n",
              "        vertical-align: top;\n",
              "    }\n",
              "\n",
              "    .dataframe thead th {\n",
              "        text-align: right;\n",
              "    }\n",
              "</style>\n",
              "<table border=\"1\" class=\"dataframe\">\n",
              "  <thead>\n",
              "    <tr style=\"text-align: right;\">\n",
              "      <th></th>\n",
              "      <th>distributor</th>\n",
              "      <th>genre</th>\n",
              "      <th>release_time</th>\n",
              "      <th>time</th>\n",
              "      <th>screening_rat</th>\n",
              "      <th>director</th>\n",
              "      <th>dir_prev_bfnum</th>\n",
              "      <th>dir_prev_num</th>\n",
              "      <th>num_staff</th>\n",
              "      <th>num_actor</th>\n",
              "      <th>box_off_num</th>\n",
              "      <th>year</th>\n",
              "      <th>month</th>\n",
              "    </tr>\n",
              "    <tr>\n",
              "      <th>title</th>\n",
              "      <th></th>\n",
              "      <th></th>\n",
              "      <th></th>\n",
              "      <th></th>\n",
              "      <th></th>\n",
              "      <th></th>\n",
              "      <th></th>\n",
              "      <th></th>\n",
              "      <th></th>\n",
              "      <th></th>\n",
              "      <th></th>\n",
              "      <th></th>\n",
              "      <th></th>\n",
              "    </tr>\n",
              "  </thead>\n",
              "  <tbody>\n",
              "    <tr>\n",
              "      <th>개들의 전쟁</th>\n",
              "      <td>롯데엔터테인먼트</td>\n",
              "      <td>액션</td>\n",
              "      <td>2012-11-22</td>\n",
              "      <td>96</td>\n",
              "      <td>청소년 관람불가</td>\n",
              "      <td>조병옥</td>\n",
              "      <td>0.000000</td>\n",
              "      <td>0.000000</td>\n",
              "      <td>4.521789</td>\n",
              "      <td>1.098612</td>\n",
              "      <td>23398</td>\n",
              "      <td>2012</td>\n",
              "      <td>11</td>\n",
              "    </tr>\n",
              "    <tr>\n",
              "      <th>내부자들</th>\n",
              "      <td>(주)쇼박스</td>\n",
              "      <td>느와르</td>\n",
              "      <td>2015-11-19</td>\n",
              "      <td>130</td>\n",
              "      <td>청소년 관람불가</td>\n",
              "      <td>우민호</td>\n",
              "      <td>13.965312</td>\n",
              "      <td>1.098612</td>\n",
              "      <td>5.961005</td>\n",
              "      <td>1.386294</td>\n",
              "      <td>7072501</td>\n",
              "      <td>2015</td>\n",
              "      <td>11</td>\n",
              "    </tr>\n",
              "    <tr>\n",
              "      <th>은밀하게 위대하게</th>\n",
              "      <td>(주)쇼박스</td>\n",
              "      <td>액션</td>\n",
              "      <td>2013-06-05</td>\n",
              "      <td>123</td>\n",
              "      <td>15세 관람가</td>\n",
              "      <td>장철수</td>\n",
              "      <td>12.304905</td>\n",
              "      <td>1.609438</td>\n",
              "      <td>5.840642</td>\n",
              "      <td>1.609438</td>\n",
              "      <td>6959083</td>\n",
              "      <td>2013</td>\n",
              "      <td>6</td>\n",
              "    </tr>\n",
              "    <tr>\n",
              "      <th>나는 공무원이다</th>\n",
              "      <td>(주)NEW</td>\n",
              "      <td>코미디</td>\n",
              "      <td>2012-07-12</td>\n",
              "      <td>101</td>\n",
              "      <td>전체 관람가</td>\n",
              "      <td>구자홍</td>\n",
              "      <td>10.081425</td>\n",
              "      <td>1.098612</td>\n",
              "      <td>3.044522</td>\n",
              "      <td>1.945910</td>\n",
              "      <td>217866</td>\n",
              "      <td>2012</td>\n",
              "      <td>7</td>\n",
              "    </tr>\n",
              "    <tr>\n",
              "      <th>불량남녀</th>\n",
              "      <td>쇼박스(주)미디어플렉스</td>\n",
              "      <td>코미디</td>\n",
              "      <td>2010-11-04</td>\n",
              "      <td>108</td>\n",
              "      <td>15세 관람가</td>\n",
              "      <td>신근호</td>\n",
              "      <td>0.693147</td>\n",
              "      <td>0.693147</td>\n",
              "      <td>5.529429</td>\n",
              "      <td>1.098612</td>\n",
              "      <td>483387</td>\n",
              "      <td>2010</td>\n",
              "      <td>11</td>\n",
              "    </tr>\n",
              "  </tbody>\n",
              "</table>\n",
              "</div>"
            ],
            "text/plain": [
              "            distributor genre release_time  ...  box_off_num  year month\n",
              "title                                       ...                         \n",
              "개들의 전쟁         롯데엔터테인먼트    액션   2012-11-22  ...        23398  2012    11\n",
              "내부자들             (주)쇼박스   느와르   2015-11-19  ...      7072501  2015    11\n",
              "은밀하게 위대하게        (주)쇼박스    액션   2013-06-05  ...      6959083  2013     6\n",
              "나는 공무원이다         (주)NEW   코미디   2012-07-12  ...       217866  2012     7\n",
              "불량남녀       쇼박스(주)미디어플렉스   코미디   2010-11-04  ...       483387  2010    11\n",
              "\n",
              "[5 rows x 13 columns]"
            ]
          },
          "metadata": {},
          "execution_count": 24
        }
      ]
    },
    {
      "cell_type": "code",
      "metadata": {
        "colab": {
          "base_uri": "https://localhost:8080/"
        },
        "id": "3u9CoJm6Zcgq",
        "outputId": "f870f2d8-14ed-4003-b1f2-813e7c908e9c"
      },
      "source": [
        "num_cols += ['year', 'month']\n",
        "print(num_cols)"
      ],
      "execution_count": 25,
      "outputs": [
        {
          "output_type": "stream",
          "text": [
            "['time', 'dir_prev_bfnum', 'dir_prev_num', 'num_staff', 'num_actor', 'year', 'month']\n"
          ],
          "name": "stdout"
        }
      ]
    },
    {
      "cell_type": "code",
      "metadata": {
        "colab": {
          "base_uri": "https://localhost:8080/"
        },
        "id": "_4l_ek5dZgiL",
        "outputId": "2564a38b-9491-46bd-8f7d-5b307891339e"
      },
      "source": [
        "features = num_cols + cat_cols\n",
        "print(features)"
      ],
      "execution_count": 26,
      "outputs": [
        {
          "output_type": "stream",
          "text": [
            "['time', 'dir_prev_bfnum', 'dir_prev_num', 'num_staff', 'num_actor', 'year', 'month', 'distributor', 'genre', 'screening_rat', 'director']\n"
          ],
          "name": "stdout"
        }
      ]
    },
    {
      "cell_type": "code",
      "metadata": {
        "id": "PAnHKJ6EZieo"
      },
      "source": [
        "rmse = lambda y, p: np.sqrt(mean_squared_error(y, p))\n",
        "rmsle = lambda y, p: np.sqrt(mean_squared_error(np.log1p(y), np.log1p(p)))"
      ],
      "execution_count": 27,
      "outputs": []
    },
    {
      "cell_type": "code",
      "metadata": {
        "colab": {
          "base_uri": "https://localhost:8080/",
          "height": 237
        },
        "id": "zZnssOBSZle6",
        "outputId": "efc741d6-59de-4cb3-fd6d-929651f1b5ca"
      },
      "source": [
        "from sklearn.preprocessing import OrdinalEncoder\n",
        "df_cat = df.copy()\n",
        "oe = OrdinalEncoder()\n",
        "df_cat[cat_cols] = oe.fit_transform(df[cat_cols])\n",
        "df_cat[cat_cols].head()"
      ],
      "execution_count": 28,
      "outputs": [
        {
          "output_type": "execute_result",
          "data": {
            "text/html": [
              "<div>\n",
              "<style scoped>\n",
              "    .dataframe tbody tr th:only-of-type {\n",
              "        vertical-align: middle;\n",
              "    }\n",
              "\n",
              "    .dataframe tbody tr th {\n",
              "        vertical-align: top;\n",
              "    }\n",
              "\n",
              "    .dataframe thead th {\n",
              "        text-align: right;\n",
              "    }\n",
              "</style>\n",
              "<table border=\"1\" class=\"dataframe\">\n",
              "  <thead>\n",
              "    <tr style=\"text-align: right;\">\n",
              "      <th></th>\n",
              "      <th>distributor</th>\n",
              "      <th>genre</th>\n",
              "      <th>screening_rat</th>\n",
              "      <th>director</th>\n",
              "    </tr>\n",
              "    <tr>\n",
              "      <th>title</th>\n",
              "      <th></th>\n",
              "      <th></th>\n",
              "      <th></th>\n",
              "      <th></th>\n",
              "    </tr>\n",
              "  </thead>\n",
              "  <tbody>\n",
              "    <tr>\n",
              "      <th>개들의 전쟁</th>\n",
              "      <td>80.0</td>\n",
              "      <td>10.0</td>\n",
              "      <td>3.0</td>\n",
              "      <td>393.0</td>\n",
              "    </tr>\n",
              "    <tr>\n",
              "      <th>내부자들</th>\n",
              "      <td>21.0</td>\n",
              "      <td>2.0</td>\n",
              "      <td>3.0</td>\n",
              "      <td>252.0</td>\n",
              "    </tr>\n",
              "    <tr>\n",
              "      <th>은밀하게 위대하게</th>\n",
              "      <td>21.0</td>\n",
              "      <td>10.0</td>\n",
              "      <td>1.0</td>\n",
              "      <td>357.0</td>\n",
              "    </tr>\n",
              "    <tr>\n",
              "      <th>나는 공무원이다</th>\n",
              "      <td>6.0</td>\n",
              "      <td>11.0</td>\n",
              "      <td>2.0</td>\n",
              "      <td>17.0</td>\n",
              "    </tr>\n",
              "    <tr>\n",
              "      <th>불량남녀</th>\n",
              "      <td>96.0</td>\n",
              "      <td>11.0</td>\n",
              "      <td>1.0</td>\n",
              "      <td>218.0</td>\n",
              "    </tr>\n",
              "  </tbody>\n",
              "</table>\n",
              "</div>"
            ],
            "text/plain": [
              "           distributor  genre  screening_rat  director\n",
              "title                                                 \n",
              "개들의 전쟁            80.0   10.0            3.0     393.0\n",
              "내부자들              21.0    2.0            3.0     252.0\n",
              "은밀하게 위대하게         21.0   10.0            1.0     357.0\n",
              "나는 공무원이다           6.0   11.0            2.0      17.0\n",
              "불량남녀              96.0   11.0            1.0     218.0"
            ]
          },
          "metadata": {},
          "execution_count": 28
        }
      ]
    },
    {
      "cell_type": "code",
      "metadata": {
        "colab": {
          "base_uri": "https://localhost:8080/"
        },
        "id": "6Ydh08Y6ZnWG",
        "outputId": "84ec9c44-c0d1-426c-c97d-01852d0b4639"
      },
      "source": [
        "trn, tst = train_test_split(df_cat, test_size=.2, random_state=seed)\n",
        "clf = LGBMRegressor(random_state=seed)\n",
        "clf.fit(trn[features], np.log1p(trn[target_col]))\n",
        "p = np.expm1(clf.predict(tst[features]))\n",
        "print(f' RMSE:\\t{rmse(tst[target_col], p):12.2f}')\n",
        "print(f'RMSLE:\\t{rmsle(tst[target_col], p):12.2f}')"
      ],
      "execution_count": 29,
      "outputs": [
        {
          "output_type": "stream",
          "text": [
            " RMSE:\t  1412591.02\n",
            "RMSLE:\t        1.98\n"
          ],
          "name": "stdout"
        }
      ]
    },
    {
      "cell_type": "code",
      "metadata": {
        "colab": {
          "base_uri": "https://localhost:8080/",
          "height": 237
        },
        "id": "vTkuS4RMZs3t",
        "outputId": "69eea9d9-9b48-4a1f-f80e-b4d7672e9e2c"
      },
      "source": [
        "from kaggler.preprocessing import LabelEncoder\n",
        "df_cat = df.copy()\n",
        "le = LabelEncoder(min_obs=2)\n",
        "df_cat[cat_cols] = le.fit_transform(df[cat_cols])\n",
        "df_cat[cat_cols].head()"
      ],
      "execution_count": 30,
      "outputs": [
        {
          "output_type": "execute_result",
          "data": {
            "text/html": [
              "<div>\n",
              "<style scoped>\n",
              "    .dataframe tbody tr th:only-of-type {\n",
              "        vertical-align: middle;\n",
              "    }\n",
              "\n",
              "    .dataframe tbody tr th {\n",
              "        vertical-align: top;\n",
              "    }\n",
              "\n",
              "    .dataframe thead th {\n",
              "        text-align: right;\n",
              "    }\n",
              "</style>\n",
              "<table border=\"1\" class=\"dataframe\">\n",
              "  <thead>\n",
              "    <tr style=\"text-align: right;\">\n",
              "      <th></th>\n",
              "      <th>distributor</th>\n",
              "      <th>genre</th>\n",
              "      <th>screening_rat</th>\n",
              "      <th>director</th>\n",
              "    </tr>\n",
              "    <tr>\n",
              "      <th>title</th>\n",
              "      <th></th>\n",
              "      <th></th>\n",
              "      <th></th>\n",
              "      <th></th>\n",
              "    </tr>\n",
              "  </thead>\n",
              "  <tbody>\n",
              "    <tr>\n",
              "      <th>개들의 전쟁</th>\n",
              "      <td>2</td>\n",
              "      <td>5</td>\n",
              "      <td>0</td>\n",
              "      <td>0</td>\n",
              "    </tr>\n",
              "    <tr>\n",
              "      <th>내부자들</th>\n",
              "      <td>6</td>\n",
              "      <td>6</td>\n",
              "      <td>0</td>\n",
              "      <td>6</td>\n",
              "    </tr>\n",
              "    <tr>\n",
              "      <th>은밀하게 위대하게</th>\n",
              "      <td>6</td>\n",
              "      <td>5</td>\n",
              "      <td>1</td>\n",
              "      <td>0</td>\n",
              "    </tr>\n",
              "    <tr>\n",
              "      <th>나는 공무원이다</th>\n",
              "      <td>3</td>\n",
              "      <td>3</td>\n",
              "      <td>3</td>\n",
              "      <td>0</td>\n",
              "    </tr>\n",
              "    <tr>\n",
              "      <th>불량남녀</th>\n",
              "      <td>63</td>\n",
              "      <td>3</td>\n",
              "      <td>1</td>\n",
              "      <td>0</td>\n",
              "    </tr>\n",
              "  </tbody>\n",
              "</table>\n",
              "</div>"
            ],
            "text/plain": [
              "           distributor  genre  screening_rat  director\n",
              "title                                                 \n",
              "개들의 전쟁               2      5              0         0\n",
              "내부자들                 6      6              0         6\n",
              "은밀하게 위대하게            6      5              1         0\n",
              "나는 공무원이다             3      3              3         0\n",
              "불량남녀                63      3              1         0"
            ]
          },
          "metadata": {},
          "execution_count": 30
        }
      ]
    },
    {
      "cell_type": "code",
      "metadata": {
        "colab": {
          "base_uri": "https://localhost:8080/"
        },
        "id": "ZJnIJUABZy3Y",
        "outputId": "862c8265-0385-4a3b-c500-09f51e320cb2"
      },
      "source": [
        "trn, tst = train_test_split(df_cat, test_size=.2, random_state=seed)\n",
        "clf = LGBMRegressor(random_state=seed)\n",
        "clf.fit(trn[features], np.log1p(trn[target_col]))\n",
        "p = np.expm1(clf.predict(tst[features]))\n",
        "print(f' RMSE:\\t{rmse(tst[target_col], p):12.2f}')\n",
        "print(f'RMSLE:\\t{rmsle(tst[target_col], p):12.2f}')"
      ],
      "execution_count": 31,
      "outputs": [
        {
          "output_type": "stream",
          "text": [
            " RMSE:\t  1177611.72\n",
            "RMSLE:\t        1.99\n"
          ],
          "name": "stdout"
        }
      ]
    },
    {
      "cell_type": "code",
      "metadata": {
        "colab": {
          "base_uri": "https://localhost:8080/"
        },
        "id": "xkjaf5PRZ3pf",
        "outputId": "58e0c677-cf40-494a-9ca9-4dd4422d3867"
      },
      "source": [
        "from sklearn.preprocessing import OneHotEncoder\n",
        "ohe = OneHotEncoder()\n",
        "X = hstack((df[num_cols],\n",
        "            ohe.fit_transform(df[cat_cols])))\n",
        "print(X.shape)"
      ],
      "execution_count": 32,
      "outputs": [
        {
          "output_type": "stream",
          "text": [
            "(600, 664)\n"
          ],
          "name": "stdout"
        }
      ]
    },
    {
      "cell_type": "code",
      "metadata": {
        "colab": {
          "base_uri": "https://localhost:8080/"
        },
        "id": "Hju8O_hQZ7ff",
        "outputId": "28d10557-1d32-4368-a38e-4ea166c16a3e"
      },
      "source": [
        "X_trn, X_tst, y_trn, y_tst = train_test_split(X, df[target_col], test_size=.2, random_state=seed)\n",
        "clf = LGBMRegressor(random_state=seed)\n",
        "clf.fit(X_trn, np.log1p(y_trn))\n",
        "p = np.expm1(clf.predict(X_tst))\n",
        "print(f' RMSE:\\t{rmse(tst[target_col], p):12.2f}')\n",
        "print(f'RMSLE:\\t{rmsle(tst[target_col], p):12.2f}')"
      ],
      "execution_count": 33,
      "outputs": [
        {
          "output_type": "stream",
          "text": [
            " RMSE:\t  1239343.52\n",
            "RMSLE:\t        1.99\n"
          ],
          "name": "stdout"
        }
      ]
    },
    {
      "cell_type": "code",
      "metadata": {
        "colab": {
          "base_uri": "https://localhost:8080/"
        },
        "id": "78QWTSk2aFr0",
        "outputId": "5c9d3d33-ec8a-4ff8-e69f-56bbea3e5983"
      },
      "source": [
        "from kaggler.preprocessing import OneHotEncoder\n",
        "ohe = OneHotEncoder(min_obs=2)\n",
        "ohe.fit(df[cat_cols])\n",
        "X = hstack((df[num_cols],\n",
        "            ohe.fit_transform(df[cat_cols])))\n",
        "print(X.shape)"
      ],
      "execution_count": 40,
      "outputs": [
        {
          "output_type": "stream",
          "text": [
            "(600, 187)\n"
          ],
          "name": "stdout"
        }
      ]
    },
    {
      "cell_type": "code",
      "metadata": {
        "colab": {
          "base_uri": "https://localhost:8080/"
        },
        "id": "yyDMxcRMbIGD",
        "outputId": "a3c59e1e-8898-4c95-b2e4-0aa99ed8bcde"
      },
      "source": [
        "X_trn, X_tst, y_trn, y_tst = train_test_split(X, df[target_col], test_size=.2, random_state=seed)\n",
        "clf = LGBMRegressor(random_state=seed)\n",
        "clf.fit(X_trn, np.log1p(y_trn))\n",
        "p = np.expm1(clf.predict(X_tst))\n",
        "print(f' RMSE:\\t{rmse(tst[target_col], p):12.2f}')\n",
        "print(f'RMSLE:\\t{rmsle(tst[target_col], p):12.2f}')"
      ],
      "execution_count": 41,
      "outputs": [
        {
          "output_type": "stream",
          "text": [
            " RMSE:\t  1183708.39\n",
            "RMSLE:\t        1.96\n"
          ],
          "name": "stdout"
        }
      ]
    },
    {
      "cell_type": "code",
      "metadata": {
        "colab": {
          "base_uri": "https://localhost:8080/",
          "height": 237
        },
        "id": "FbBYfjLabKN-",
        "outputId": "3c73d10b-3168-4f30-b31f-f9acfdcbb468"
      },
      "source": [
        "from kaggler.preprocessing import TargetEncoder\n",
        "trn, tst = train_test_split(df, test_size=.2, random_state=seed)\n",
        "te = TargetEncoder(cv=None)\n",
        "trn[cat_cols] = te.fit_transform(trn[cat_cols], trn[target_col])\n",
        "tst[cat_cols] = te.transform(tst[cat_cols])\n",
        "trn[cat_cols].head()"
      ],
      "execution_count": 42,
      "outputs": [
        {
          "output_type": "execute_result",
          "data": {
            "text/html": [
              "<div>\n",
              "<style scoped>\n",
              "    .dataframe tbody tr th:only-of-type {\n",
              "        vertical-align: middle;\n",
              "    }\n",
              "\n",
              "    .dataframe tbody tr th {\n",
              "        vertical-align: top;\n",
              "    }\n",
              "\n",
              "    .dataframe thead th {\n",
              "        text-align: right;\n",
              "    }\n",
              "</style>\n",
              "<table border=\"1\" class=\"dataframe\">\n",
              "  <thead>\n",
              "    <tr style=\"text-align: right;\">\n",
              "      <th></th>\n",
              "      <th>distributor</th>\n",
              "      <th>genre</th>\n",
              "      <th>screening_rat</th>\n",
              "      <th>director</th>\n",
              "    </tr>\n",
              "    <tr>\n",
              "      <th>title</th>\n",
              "      <th></th>\n",
              "      <th></th>\n",
              "      <th></th>\n",
              "      <th></th>\n",
              "    </tr>\n",
              "  </thead>\n",
              "  <tbody>\n",
              "    <tr>\n",
              "      <th>돼지의 왕</th>\n",
              "      <td>721746.077154</td>\n",
              "      <td>1.998008e+05</td>\n",
              "      <td>3.511182e+05</td>\n",
              "      <td>723283.709843</td>\n",
              "    </tr>\n",
              "    <tr>\n",
              "      <th>청춘그루브</th>\n",
              "      <td>723430.057925</td>\n",
              "      <td>6.093409e+05</td>\n",
              "      <td>1.289088e+06</td>\n",
              "      <td>723430.057925</td>\n",
              "    </tr>\n",
              "    <tr>\n",
              "      <th>행복한 울릉인</th>\n",
              "      <td>722860.857509</td>\n",
              "      <td>7.472685e+04</td>\n",
              "      <td>1.529000e+05</td>\n",
              "      <td>723430.082604</td>\n",
              "    </tr>\n",
              "    <tr>\n",
              "      <th>옥희의 영화</th>\n",
              "      <td>718805.251941</td>\n",
              "      <td>6.093409e+05</td>\n",
              "      <td>3.511182e+05</td>\n",
              "      <td>711379.735399</td>\n",
              "    </tr>\n",
              "    <tr>\n",
              "      <th>권법형사 : 차이나타운</th>\n",
              "      <td>90921.244145</td>\n",
              "      <td>2.212935e+06</td>\n",
              "      <td>3.511182e+05</td>\n",
              "      <td>723429.982531</td>\n",
              "    </tr>\n",
              "  </tbody>\n",
              "</table>\n",
              "</div>"
            ],
            "text/plain": [
              "                distributor         genre  screening_rat       director\n",
              "title                                                                  \n",
              "돼지의 왕         721746.077154  1.998008e+05   3.511182e+05  723283.709843\n",
              "청춘그루브         723430.057925  6.093409e+05   1.289088e+06  723430.057925\n",
              "행복한 울릉인       722860.857509  7.472685e+04   1.529000e+05  723430.082604\n",
              "옥희의 영화        718805.251941  6.093409e+05   3.511182e+05  711379.735399\n",
              "권법형사 : 차이나타운   90921.244145  2.212935e+06   3.511182e+05  723429.982531"
            ]
          },
          "metadata": {},
          "execution_count": 42
        }
      ]
    },
    {
      "cell_type": "code",
      "metadata": {
        "colab": {
          "base_uri": "https://localhost:8080/"
        },
        "id": "dTpxsDfbbOOA",
        "outputId": "045ce4a3-b603-4a4a-f089-d4c486527291"
      },
      "source": [
        "clf = LGBMRegressor(random_state=seed)\n",
        "clf.fit(trn[features], np.log1p(trn[target_col]))\n",
        "p = np.expm1(clf.predict(tst[features]))\n",
        "print(f' RMSE:\\t{rmse(tst[target_col], p):12.2f}')\n",
        "print(f'RMSLE:\\t{rmsle(tst[target_col], p):12.2f}')"
      ],
      "execution_count": 43,
      "outputs": [
        {
          "output_type": "stream",
          "text": [
            " RMSE:\t  1271836.20\n",
            "RMSLE:\t        3.40\n"
          ],
          "name": "stdout"
        }
      ]
    },
    {
      "cell_type": "code",
      "metadata": {
        "colab": {
          "base_uri": "https://localhost:8080/",
          "height": 237
        },
        "id": "wrpBuGdLbQgs",
        "outputId": "3a26877b-3417-4684-e20b-45a79bda397e"
      },
      "source": [
        "trn, tst = train_test_split(df, test_size=.2, random_state=seed)\n",
        "te = TargetEncoder()\n",
        "trn[cat_cols] = te.fit_transform(trn[cat_cols], trn[target_col])\n",
        "tst[cat_cols] = te.transform(tst[cat_cols])\n",
        "trn[cat_cols].head()"
      ],
      "execution_count": 44,
      "outputs": [
        {
          "output_type": "execute_result",
          "data": {
            "text/html": [
              "<div>\n",
              "<style scoped>\n",
              "    .dataframe tbody tr th:only-of-type {\n",
              "        vertical-align: middle;\n",
              "    }\n",
              "\n",
              "    .dataframe tbody tr th {\n",
              "        vertical-align: top;\n",
              "    }\n",
              "\n",
              "    .dataframe thead th {\n",
              "        text-align: right;\n",
              "    }\n",
              "</style>\n",
              "<table border=\"1\" class=\"dataframe\">\n",
              "  <thead>\n",
              "    <tr style=\"text-align: right;\">\n",
              "      <th></th>\n",
              "      <th>distributor</th>\n",
              "      <th>genre</th>\n",
              "      <th>screening_rat</th>\n",
              "      <th>director</th>\n",
              "    </tr>\n",
              "    <tr>\n",
              "      <th>title</th>\n",
              "      <th></th>\n",
              "      <th></th>\n",
              "      <th></th>\n",
              "      <th></th>\n",
              "    </tr>\n",
              "  </thead>\n",
              "  <tbody>\n",
              "    <tr>\n",
              "      <th>돼지의 왕</th>\n",
              "      <td>723277.447850</td>\n",
              "      <td>267982.096480</td>\n",
              "      <td>348028.101562</td>\n",
              "      <td>723432.730281</td>\n",
              "    </tr>\n",
              "    <tr>\n",
              "      <th>청춘그루브</th>\n",
              "      <td>742425.489583</td>\n",
              "      <td>742425.489583</td>\n",
              "      <td>742425.489583</td>\n",
              "      <td>742425.489583</td>\n",
              "    </tr>\n",
              "    <tr>\n",
              "      <th>행복한 울릉인</th>\n",
              "      <td>768901.203125</td>\n",
              "      <td>10425.029522</td>\n",
              "      <td>122162.823956</td>\n",
              "      <td>768901.203125</td>\n",
              "    </tr>\n",
              "    <tr>\n",
              "      <th>옥희의 영화</th>\n",
              "      <td>722877.805490</td>\n",
              "      <td>813347.509259</td>\n",
              "      <td>380361.663366</td>\n",
              "      <td>721858.927057</td>\n",
              "    </tr>\n",
              "    <tr>\n",
              "      <th>권법형사 : 차이나타운</th>\n",
              "      <td>722864.097814</td>\n",
              "      <td>727096.433397</td>\n",
              "      <td>115692.865474</td>\n",
              "      <td>597129.065104</td>\n",
              "    </tr>\n",
              "  </tbody>\n",
              "</table>\n",
              "</div>"
            ],
            "text/plain": [
              "                distributor          genre  screening_rat       director\n",
              "title                                                                   \n",
              "돼지의 왕         723277.447850  267982.096480  348028.101562  723432.730281\n",
              "청춘그루브         742425.489583  742425.489583  742425.489583  742425.489583\n",
              "행복한 울릉인       768901.203125   10425.029522  122162.823956  768901.203125\n",
              "옥희의 영화        722877.805490  813347.509259  380361.663366  721858.927057\n",
              "권법형사 : 차이나타운  722864.097814  727096.433397  115692.865474  597129.065104"
            ]
          },
          "metadata": {},
          "execution_count": 44
        }
      ]
    },
    {
      "cell_type": "code",
      "metadata": {
        "colab": {
          "base_uri": "https://localhost:8080/"
        },
        "id": "0jlzbBdAbTMs",
        "outputId": "f9f4d8c0-f227-482a-efd9-7967aff1187f"
      },
      "source": [
        "clf = LGBMRegressor(random_state=seed)\n",
        "clf.fit(trn[features], np.log1p(trn[target_col]))\n",
        "p = np.expm1(clf.predict(tst[features]))\n",
        "print(f' RMSE:\\t{rmse(tst[target_col], p):12.2f}')\n",
        "print(f'RMSLE:\\t{rmsle(tst[target_col], p):12.2f}')"
      ],
      "execution_count": 45,
      "outputs": [
        {
          "output_type": "stream",
          "text": [
            " RMSE:\t  1529036.45\n",
            "RMSLE:\t        2.12\n"
          ],
          "name": "stdout"
        }
      ]
    },
    {
      "cell_type": "code",
      "metadata": {
        "colab": {
          "base_uri": "https://localhost:8080/",
          "height": 237
        },
        "id": "ufLslMXObX8n",
        "outputId": "090f101f-3845-4cbb-b4d1-a2b276555a8c"
      },
      "source": [
        "from kaggler.preprocessing import FrequencyEncoder\n",
        "df_cat = df.copy()\n",
        "fe = FrequencyEncoder()\n",
        "df_cat[cat_cols] = fe.fit_transform(df[cat_cols])\n",
        "df_cat[cat_cols].head()"
      ],
      "execution_count": 46,
      "outputs": [
        {
          "output_type": "execute_result",
          "data": {
            "text/html": [
              "<div>\n",
              "<style scoped>\n",
              "    .dataframe tbody tr th:only-of-type {\n",
              "        vertical-align: middle;\n",
              "    }\n",
              "\n",
              "    .dataframe tbody tr th {\n",
              "        vertical-align: top;\n",
              "    }\n",
              "\n",
              "    .dataframe thead th {\n",
              "        text-align: right;\n",
              "    }\n",
              "</style>\n",
              "<table border=\"1\" class=\"dataframe\">\n",
              "  <thead>\n",
              "    <tr style=\"text-align: right;\">\n",
              "      <th></th>\n",
              "      <th>distributor</th>\n",
              "      <th>genre</th>\n",
              "      <th>screening_rat</th>\n",
              "      <th>director</th>\n",
              "    </tr>\n",
              "    <tr>\n",
              "      <th>title</th>\n",
              "      <th></th>\n",
              "      <th></th>\n",
              "      <th></th>\n",
              "      <th></th>\n",
              "    </tr>\n",
              "  </thead>\n",
              "  <tbody>\n",
              "    <tr>\n",
              "      <th>개들의 전쟁</th>\n",
              "      <td>52</td>\n",
              "      <td>28</td>\n",
              "      <td>204</td>\n",
              "      <td>1</td>\n",
              "    </tr>\n",
              "    <tr>\n",
              "      <th>내부자들</th>\n",
              "      <td>26</td>\n",
              "      <td>27</td>\n",
              "      <td>204</td>\n",
              "      <td>4</td>\n",
              "    </tr>\n",
              "    <tr>\n",
              "      <th>은밀하게 위대하게</th>\n",
              "      <td>26</td>\n",
              "      <td>28</td>\n",
              "      <td>202</td>\n",
              "      <td>1</td>\n",
              "    </tr>\n",
              "    <tr>\n",
              "      <th>나는 공무원이다</th>\n",
              "      <td>30</td>\n",
              "      <td>53</td>\n",
              "      <td>92</td>\n",
              "      <td>1</td>\n",
              "    </tr>\n",
              "    <tr>\n",
              "      <th>불량남녀</th>\n",
              "      <td>2</td>\n",
              "      <td>53</td>\n",
              "      <td>202</td>\n",
              "      <td>1</td>\n",
              "    </tr>\n",
              "  </tbody>\n",
              "</table>\n",
              "</div>"
            ],
            "text/plain": [
              "           distributor  genre  screening_rat  director\n",
              "title                                                 \n",
              "개들의 전쟁              52     28            204         1\n",
              "내부자들                26     27            204         4\n",
              "은밀하게 위대하게           26     28            202         1\n",
              "나는 공무원이다            30     53             92         1\n",
              "불량남녀                 2     53            202         1"
            ]
          },
          "metadata": {},
          "execution_count": 46
        }
      ]
    },
    {
      "cell_type": "code",
      "metadata": {
        "colab": {
          "base_uri": "https://localhost:8080/"
        },
        "id": "6t_d5tfXba3S",
        "outputId": "e77049c9-883d-4d4e-85c4-867f3af34d84"
      },
      "source": [
        "trn, tst = train_test_split(df_cat, test_size=.2, random_state=seed)\n",
        "clf = LGBMRegressor(random_state=seed)\n",
        "clf.fit(trn[features], np.log1p(trn[target_col]))\n",
        "p = np.expm1(clf.predict(tst[features]))\n",
        "print(f' RMSE:\\t{rmse(tst[target_col], p):12.2f}')\n",
        "print(f'RMSLE:\\t{rmsle(tst[target_col], p):12.2f}')"
      ],
      "execution_count": 47,
      "outputs": [
        {
          "output_type": "stream",
          "text": [
            " RMSE:\t  1258846.99\n",
            "RMSLE:\t        1.96\n"
          ],
          "name": "stdout"
        }
      ]
    },
    {
      "cell_type": "code",
      "metadata": {
        "id": "GGxVv5_qbd1S",
        "outputId": "dbb6df69-aaf5-40db-bcc9-6b3e390fe212",
        "colab": {
          "base_uri": "https://localhost:8080/"
        }
      },
      "source": [
        "from sklearn.feature_extraction import FeatureHasher\n",
        "fh = FeatureHasher(n_features=128, input_type='string')\n",
        "X = hstack([df[num_cols]] + [fh.fit_transform(df[col]) for col in cat_cols])\n",
        "print(X.shape)"
      ],
      "execution_count": 48,
      "outputs": [
        {
          "output_type": "stream",
          "text": [
            "(600, 519)\n"
          ],
          "name": "stdout"
        }
      ]
    },
    {
      "cell_type": "code",
      "metadata": {
        "id": "K-OJM7jJbfpd",
        "outputId": "88b626ca-de05-433c-b7e3-56b512662264",
        "colab": {
          "base_uri": "https://localhost:8080/"
        }
      },
      "source": [
        "X_trn, X_tst, y_trn, y_tst = train_test_split(X, df[target_col], test_size=.2, random_state=seed)\n",
        "clf = LGBMRegressor(random_state=seed)\n",
        "clf.fit(X_trn, np.log1p(y_trn))\n",
        "p = np.expm1(clf.predict(X_tst))\n",
        "print(f' RMSE:\\t{rmse(tst[target_col], p):12.2f}')\n",
        "print(f'RMSLE:\\t{rmsle(tst[target_col], p):12.2f}')"
      ],
      "execution_count": 49,
      "outputs": [
        {
          "output_type": "stream",
          "text": [
            " RMSE:\t  1261559.18\n",
            "RMSLE:\t        1.95\n"
          ],
          "name": "stdout"
        }
      ]
    }
  ]
}