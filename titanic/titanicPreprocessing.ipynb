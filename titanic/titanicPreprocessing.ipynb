{
  "nbformat": 4,
  "nbformat_minor": 0,
  "metadata": {
    "colab": {
      "name": "titanicPreprocessing.ipynb",
      "provenance": []
    },
    "kernelspec": {
      "name": "python3",
      "display_name": "Python 3"
    },
    "language_info": {
      "name": "python"
    }
  },
  "cells": [
    {
      "cell_type": "markdown",
      "metadata": {
        "id": "_ULDaI4_gOL2"
      },
      "source": [
        "## 전처리\n",
        "\n",
        "### EDA\n",
        "* Fare, Survived의 상관 관계 - 생존자들의 평균 요금이 높음\n",
        "* Age, Survived - 미세하지만 어림\n",
        "* SibSp, Parch의 corr이 0.4로 비교적 높음\n",
        "\n",
        "### 어떻게 전처리하지?\n",
        "* sex - make_dummies, 0 - 1로 처리?\n",
        "* SibSp + Parch? 둘을 구분하는게 큰 의미가 있는가? 차라리 동승자 col 하나로?\n",
        "* 이름 내에 Mr, Mrs, Master 등의 접두어 포함\n",
        "* Cabin, Embarked 등은 묶어서?\n",
        "* 멱함수 분포는 log를 취한다\n",
        "\n",
        "### 빠진 데이터는 어떻게?\n",
        "* 각 데이터의 평균치로 대체?\n",
        "* 나머지 column과의 correlation?\n",
        "* Age; 이름의 Mr, Mrs 등을 이용해서 세분화?\n",
        "* Cabin; 204/891, 차라리 drop?\n",
        "* Embarked; 우선은 제일 많은 S로 채움\n"
      ]
    },
    {
      "cell_type": "code",
      "metadata": {
        "id": "AuPxeTuXb93Z"
      },
      "source": [
        "from google.colab import files\n",
        "files.upload()"
      ],
      "execution_count": null,
      "outputs": []
    },
    {
      "cell_type": "code",
      "metadata": {
        "colab": {
          "base_uri": "https://localhost:8080/"
        },
        "id": "wEON1iYa6LHC",
        "outputId": "8978e237-f6b0-4217-bab2-a4b0d82eaa47"
      },
      "source": [
        "!unzip titanic_data.zip"
      ],
      "execution_count": 2,
      "outputs": [
        {
          "output_type": "stream",
          "text": [
            "Archive:  titanic_data.zip\n",
            "  inflating: submission.csv          \n",
            "  inflating: test.csv                \n",
            "  inflating: train.csv               \n"
          ],
          "name": "stdout"
        }
      ]
    },
    {
      "cell_type": "code",
      "metadata": {
        "colab": {
          "base_uri": "https://localhost:8080/"
        },
        "id": "BGlQET566O8U",
        "outputId": "455a0357-bedb-4f1d-e1bf-7badb24d0e97"
      },
      "source": [
        "!ls"
      ],
      "execution_count": 6,
      "outputs": [
        {
          "output_type": "stream",
          "text": [
            "sample_data  submission.csv  test.csv  titanic_data.zip  train.csv\n"
          ],
          "name": "stdout"
        }
      ]
    },
    {
      "cell_type": "code",
      "metadata": {
        "id": "AoAgrOT16QIx"
      },
      "source": [
        "from matplotlib import pyplot as plt\n",
        "from matplotlib import rcParams\n",
        "import numpy as np\n",
        "from pathlib import Path\n",
        "import pandas as pd\n",
        "import seaborn as sns # prettify graph\n",
        "import warnings"
      ],
      "execution_count": 4,
      "outputs": []
    },
    {
      "cell_type": "code",
      "metadata": {
        "id": "qbJEwQ5g6Thz"
      },
      "source": [
        "rcParams['figure.figsize'] = (16, 8)\n",
        "plt.style.use('fivethirtyeight')\n",
        "pd.set_option('max_columns', 100)\n",
        "pd.set_option(\"display.precision\", 4)\n",
        "warnings.simplefilter('ignore')"
      ],
      "execution_count": 5,
      "outputs": []
    },
    {
      "cell_type": "code",
      "metadata": {
        "id": "H198Bi426VpN"
      },
      "source": [
        "data_dir = Path('.')\n",
        "trn_file = data_dir / 'train.csv'\n",
        "tst_file = data_dir / 'test.csv'\n",
        "feature_file = data_dir / 'feature.csv'\n",
        "seed = 42"
      ],
      "execution_count": 7,
      "outputs": []
    },
    {
      "cell_type": "code",
      "metadata": {
        "colab": {
          "base_uri": "https://localhost:8080/"
        },
        "id": "pGc8JlbT6blB",
        "outputId": "7b534390-0dfb-4e2c-c631-007739e4768a"
      },
      "source": [
        "trn = pd.read_csv(trn_file, index_col=0)\n",
        "tst = pd.read_csv(tst_file, index_col=0)\n",
        "print(trn.shape, tst.shape)"
      ],
      "execution_count": 10,
      "outputs": [
        {
          "output_type": "stream",
          "text": [
            "(891, 11) (418, 10)\n"
          ],
          "name": "stdout"
        }
      ]
    },
    {
      "cell_type": "code",
      "metadata": {
        "colab": {
          "base_uri": "https://localhost:8080/"
        },
        "id": "6R1oF3un63Nc",
        "outputId": "15fbef36-a9b7-49eb-9115-a68db08139d8"
      },
      "source": [
        "trn['Embarked'].value_counts().sort_index()"
      ],
      "execution_count": 13,
      "outputs": [
        {
          "output_type": "execute_result",
          "data": {
            "text/plain": [
              "C    168\n",
              "Q     77\n",
              "S    644\n",
              "Name: Embarked, dtype: int64"
            ]
          },
          "metadata": {
            "tags": []
          },
          "execution_count": 13
        }
      ]
    },
    {
      "cell_type": "code",
      "metadata": {
        "colab": {
          "base_uri": "https://localhost:8080/"
        },
        "id": "H6UJmVNJ9HrI",
        "outputId": "ba5ce2cb-d3e3-4d7d-a3b1-b8e8cdb3ca14"
      },
      "source": [
        "trn.info()"
      ],
      "execution_count": 14,
      "outputs": [
        {
          "output_type": "stream",
          "text": [
            "<class 'pandas.core.frame.DataFrame'>\n",
            "Int64Index: 891 entries, 1 to 891\n",
            "Data columns (total 11 columns):\n",
            " #   Column    Non-Null Count  Dtype  \n",
            "---  ------    --------------  -----  \n",
            " 0   Survived  891 non-null    int64  \n",
            " 1   Pclass    891 non-null    int64  \n",
            " 2   Name      891 non-null    object \n",
            " 3   Sex       891 non-null    object \n",
            " 4   Age       714 non-null    float64\n",
            " 5   SibSp     891 non-null    int64  \n",
            " 6   Parch     891 non-null    int64  \n",
            " 7   Ticket    891 non-null    object \n",
            " 8   Fare      891 non-null    float64\n",
            " 9   Cabin     204 non-null    object \n",
            " 10  Embarked  889 non-null    object \n",
            "dtypes: float64(2), int64(4), object(5)\n",
            "memory usage: 83.5+ KB\n"
          ],
          "name": "stdout"
        }
      ]
    },
    {
      "cell_type": "code",
      "metadata": {
        "colab": {
          "base_uri": "https://localhost:8080/"
        },
        "id": "xu3b4nhp-A1r",
        "outputId": "a1597d20-eae4-4477-9633-43a23cf7bbf1"
      },
      "source": [
        "tst.info()"
      ],
      "execution_count": 16,
      "outputs": [
        {
          "output_type": "stream",
          "text": [
            "<class 'pandas.core.frame.DataFrame'>\n",
            "Int64Index: 418 entries, 892 to 1309\n",
            "Data columns (total 10 columns):\n",
            " #   Column    Non-Null Count  Dtype  \n",
            "---  ------    --------------  -----  \n",
            " 0   Pclass    418 non-null    int64  \n",
            " 1   Name      418 non-null    object \n",
            " 2   Sex       418 non-null    object \n",
            " 3   Age       332 non-null    float64\n",
            " 4   SibSp     418 non-null    int64  \n",
            " 5   Parch     418 non-null    int64  \n",
            " 6   Ticket    418 non-null    object \n",
            " 7   Fare      417 non-null    float64\n",
            " 8   Cabin     91 non-null     object \n",
            " 9   Embarked  418 non-null    object \n",
            "dtypes: float64(2), int64(3), object(5)\n",
            "memory usage: 35.9+ KB\n"
          ],
          "name": "stdout"
        }
      ]
    },
    {
      "cell_type": "code",
      "metadata": {
        "colab": {
          "base_uri": "https://localhost:8080/",
          "height": 253
        },
        "id": "TAywsYVB--XR",
        "outputId": "418c5cd8-4781-425a-d121-547362c310e4"
      },
      "source": [
        "feats = pd.concat([trn, tst], axis=0)\n",
        "print(feats.shape)\n",
        "feats.tail()"
      ],
      "execution_count": 18,
      "outputs": [
        {
          "output_type": "stream",
          "text": [
            "(1309, 11)\n"
          ],
          "name": "stdout"
        },
        {
          "output_type": "execute_result",
          "data": {
            "text/html": [
              "<div>\n",
              "<style scoped>\n",
              "    .dataframe tbody tr th:only-of-type {\n",
              "        vertical-align: middle;\n",
              "    }\n",
              "\n",
              "    .dataframe tbody tr th {\n",
              "        vertical-align: top;\n",
              "    }\n",
              "\n",
              "    .dataframe thead th {\n",
              "        text-align: right;\n",
              "    }\n",
              "</style>\n",
              "<table border=\"1\" class=\"dataframe\">\n",
              "  <thead>\n",
              "    <tr style=\"text-align: right;\">\n",
              "      <th></th>\n",
              "      <th>Survived</th>\n",
              "      <th>Pclass</th>\n",
              "      <th>Name</th>\n",
              "      <th>Sex</th>\n",
              "      <th>Age</th>\n",
              "      <th>SibSp</th>\n",
              "      <th>Parch</th>\n",
              "      <th>Ticket</th>\n",
              "      <th>Fare</th>\n",
              "      <th>Cabin</th>\n",
              "      <th>Embarked</th>\n",
              "    </tr>\n",
              "    <tr>\n",
              "      <th>PassengerId</th>\n",
              "      <th></th>\n",
              "      <th></th>\n",
              "      <th></th>\n",
              "      <th></th>\n",
              "      <th></th>\n",
              "      <th></th>\n",
              "      <th></th>\n",
              "      <th></th>\n",
              "      <th></th>\n",
              "      <th></th>\n",
              "      <th></th>\n",
              "    </tr>\n",
              "  </thead>\n",
              "  <tbody>\n",
              "    <tr>\n",
              "      <th>1305</th>\n",
              "      <td>NaN</td>\n",
              "      <td>3</td>\n",
              "      <td>Spector, Mr. Woolf</td>\n",
              "      <td>male</td>\n",
              "      <td>NaN</td>\n",
              "      <td>0</td>\n",
              "      <td>0</td>\n",
              "      <td>A.5. 3236</td>\n",
              "      <td>8.0500</td>\n",
              "      <td>NaN</td>\n",
              "      <td>S</td>\n",
              "    </tr>\n",
              "    <tr>\n",
              "      <th>1306</th>\n",
              "      <td>NaN</td>\n",
              "      <td>1</td>\n",
              "      <td>Oliva y Ocana, Dona. Fermina</td>\n",
              "      <td>female</td>\n",
              "      <td>39.0</td>\n",
              "      <td>0</td>\n",
              "      <td>0</td>\n",
              "      <td>PC 17758</td>\n",
              "      <td>108.9000</td>\n",
              "      <td>C105</td>\n",
              "      <td>C</td>\n",
              "    </tr>\n",
              "    <tr>\n",
              "      <th>1307</th>\n",
              "      <td>NaN</td>\n",
              "      <td>3</td>\n",
              "      <td>Saether, Mr. Simon Sivertsen</td>\n",
              "      <td>male</td>\n",
              "      <td>38.5</td>\n",
              "      <td>0</td>\n",
              "      <td>0</td>\n",
              "      <td>SOTON/O.Q. 3101262</td>\n",
              "      <td>7.2500</td>\n",
              "      <td>NaN</td>\n",
              "      <td>S</td>\n",
              "    </tr>\n",
              "    <tr>\n",
              "      <th>1308</th>\n",
              "      <td>NaN</td>\n",
              "      <td>3</td>\n",
              "      <td>Ware, Mr. Frederick</td>\n",
              "      <td>male</td>\n",
              "      <td>NaN</td>\n",
              "      <td>0</td>\n",
              "      <td>0</td>\n",
              "      <td>359309</td>\n",
              "      <td>8.0500</td>\n",
              "      <td>NaN</td>\n",
              "      <td>S</td>\n",
              "    </tr>\n",
              "    <tr>\n",
              "      <th>1309</th>\n",
              "      <td>NaN</td>\n",
              "      <td>3</td>\n",
              "      <td>Peter, Master. Michael J</td>\n",
              "      <td>male</td>\n",
              "      <td>NaN</td>\n",
              "      <td>1</td>\n",
              "      <td>1</td>\n",
              "      <td>2668</td>\n",
              "      <td>22.3583</td>\n",
              "      <td>NaN</td>\n",
              "      <td>C</td>\n",
              "    </tr>\n",
              "  </tbody>\n",
              "</table>\n",
              "</div>"
            ],
            "text/plain": [
              "             Survived  Pclass                          Name     Sex   Age  \\\n",
              "PassengerId                                                                 \n",
              "1305              NaN       3            Spector, Mr. Woolf    male   NaN   \n",
              "1306              NaN       1  Oliva y Ocana, Dona. Fermina  female  39.0   \n",
              "1307              NaN       3  Saether, Mr. Simon Sivertsen    male  38.5   \n",
              "1308              NaN       3           Ware, Mr. Frederick    male   NaN   \n",
              "1309              NaN       3      Peter, Master. Michael J    male   NaN   \n",
              "\n",
              "             SibSp  Parch              Ticket      Fare Cabin Embarked  \n",
              "PassengerId                                                             \n",
              "1305             0      0           A.5. 3236    8.0500   NaN        S  \n",
              "1306             0      0            PC 17758  108.9000  C105        C  \n",
              "1307             0      0  SOTON/O.Q. 3101262    7.2500   NaN        S  \n",
              "1308             0      0              359309    8.0500   NaN        S  \n",
              "1309             1      1                2668   22.3583   NaN        C  "
            ]
          },
          "metadata": {
            "tags": []
          },
          "execution_count": 18
        }
      ]
    },
    {
      "cell_type": "code",
      "metadata": {
        "colab": {
          "base_uri": "https://localhost:8080/"
        },
        "id": "MCgYRrg3_NwV",
        "outputId": "219d198e-5b29-483e-e3d3-9acb56cca4a3"
      },
      "source": [
        "feats.info()"
      ],
      "execution_count": 19,
      "outputs": [
        {
          "output_type": "stream",
          "text": [
            "<class 'pandas.core.frame.DataFrame'>\n",
            "Int64Index: 1309 entries, 1 to 1309\n",
            "Data columns (total 11 columns):\n",
            " #   Column    Non-Null Count  Dtype  \n",
            "---  ------    --------------  -----  \n",
            " 0   Survived  891 non-null    float64\n",
            " 1   Pclass    1309 non-null   int64  \n",
            " 2   Name      1309 non-null   object \n",
            " 3   Sex       1309 non-null   object \n",
            " 4   Age       1046 non-null   float64\n",
            " 5   SibSp     1309 non-null   int64  \n",
            " 6   Parch     1309 non-null   int64  \n",
            " 7   Ticket    1309 non-null   object \n",
            " 8   Fare      1308 non-null   float64\n",
            " 9   Cabin     295 non-null    object \n",
            " 10  Embarked  1307 non-null   object \n",
            "dtypes: float64(3), int64(3), object(5)\n",
            "memory usage: 122.7+ KB\n"
          ],
          "name": "stdout"
        }
      ]
    },
    {
      "cell_type": "code",
      "metadata": {
        "colab": {
          "base_uri": "https://localhost:8080/",
          "height": 235
        },
        "id": "HWMfLOFn_Qm9",
        "outputId": "a92680cb-d614-45c7-c470-381a4498bb28"
      },
      "source": [
        "feats.Survived.fillna(-1, inplace=True)\n",
        "feats.tail()"
      ],
      "execution_count": 20,
      "outputs": [
        {
          "output_type": "execute_result",
          "data": {
            "text/html": [
              "<div>\n",
              "<style scoped>\n",
              "    .dataframe tbody tr th:only-of-type {\n",
              "        vertical-align: middle;\n",
              "    }\n",
              "\n",
              "    .dataframe tbody tr th {\n",
              "        vertical-align: top;\n",
              "    }\n",
              "\n",
              "    .dataframe thead th {\n",
              "        text-align: right;\n",
              "    }\n",
              "</style>\n",
              "<table border=\"1\" class=\"dataframe\">\n",
              "  <thead>\n",
              "    <tr style=\"text-align: right;\">\n",
              "      <th></th>\n",
              "      <th>Survived</th>\n",
              "      <th>Pclass</th>\n",
              "      <th>Name</th>\n",
              "      <th>Sex</th>\n",
              "      <th>Age</th>\n",
              "      <th>SibSp</th>\n",
              "      <th>Parch</th>\n",
              "      <th>Ticket</th>\n",
              "      <th>Fare</th>\n",
              "      <th>Cabin</th>\n",
              "      <th>Embarked</th>\n",
              "    </tr>\n",
              "    <tr>\n",
              "      <th>PassengerId</th>\n",
              "      <th></th>\n",
              "      <th></th>\n",
              "      <th></th>\n",
              "      <th></th>\n",
              "      <th></th>\n",
              "      <th></th>\n",
              "      <th></th>\n",
              "      <th></th>\n",
              "      <th></th>\n",
              "      <th></th>\n",
              "      <th></th>\n",
              "    </tr>\n",
              "  </thead>\n",
              "  <tbody>\n",
              "    <tr>\n",
              "      <th>1305</th>\n",
              "      <td>-1.0</td>\n",
              "      <td>3</td>\n",
              "      <td>Spector, Mr. Woolf</td>\n",
              "      <td>male</td>\n",
              "      <td>NaN</td>\n",
              "      <td>0</td>\n",
              "      <td>0</td>\n",
              "      <td>A.5. 3236</td>\n",
              "      <td>8.0500</td>\n",
              "      <td>NaN</td>\n",
              "      <td>S</td>\n",
              "    </tr>\n",
              "    <tr>\n",
              "      <th>1306</th>\n",
              "      <td>-1.0</td>\n",
              "      <td>1</td>\n",
              "      <td>Oliva y Ocana, Dona. Fermina</td>\n",
              "      <td>female</td>\n",
              "      <td>39.0</td>\n",
              "      <td>0</td>\n",
              "      <td>0</td>\n",
              "      <td>PC 17758</td>\n",
              "      <td>108.9000</td>\n",
              "      <td>C105</td>\n",
              "      <td>C</td>\n",
              "    </tr>\n",
              "    <tr>\n",
              "      <th>1307</th>\n",
              "      <td>-1.0</td>\n",
              "      <td>3</td>\n",
              "      <td>Saether, Mr. Simon Sivertsen</td>\n",
              "      <td>male</td>\n",
              "      <td>38.5</td>\n",
              "      <td>0</td>\n",
              "      <td>0</td>\n",
              "      <td>SOTON/O.Q. 3101262</td>\n",
              "      <td>7.2500</td>\n",
              "      <td>NaN</td>\n",
              "      <td>S</td>\n",
              "    </tr>\n",
              "    <tr>\n",
              "      <th>1308</th>\n",
              "      <td>-1.0</td>\n",
              "      <td>3</td>\n",
              "      <td>Ware, Mr. Frederick</td>\n",
              "      <td>male</td>\n",
              "      <td>NaN</td>\n",
              "      <td>0</td>\n",
              "      <td>0</td>\n",
              "      <td>359309</td>\n",
              "      <td>8.0500</td>\n",
              "      <td>NaN</td>\n",
              "      <td>S</td>\n",
              "    </tr>\n",
              "    <tr>\n",
              "      <th>1309</th>\n",
              "      <td>-1.0</td>\n",
              "      <td>3</td>\n",
              "      <td>Peter, Master. Michael J</td>\n",
              "      <td>male</td>\n",
              "      <td>NaN</td>\n",
              "      <td>1</td>\n",
              "      <td>1</td>\n",
              "      <td>2668</td>\n",
              "      <td>22.3583</td>\n",
              "      <td>NaN</td>\n",
              "      <td>C</td>\n",
              "    </tr>\n",
              "  </tbody>\n",
              "</table>\n",
              "</div>"
            ],
            "text/plain": [
              "             Survived  Pclass                          Name     Sex   Age  \\\n",
              "PassengerId                                                                 \n",
              "1305             -1.0       3            Spector, Mr. Woolf    male   NaN   \n",
              "1306             -1.0       1  Oliva y Ocana, Dona. Fermina  female  39.0   \n",
              "1307             -1.0       3  Saether, Mr. Simon Sivertsen    male  38.5   \n",
              "1308             -1.0       3           Ware, Mr. Frederick    male   NaN   \n",
              "1309             -1.0       3      Peter, Master. Michael J    male   NaN   \n",
              "\n",
              "             SibSp  Parch              Ticket      Fare Cabin Embarked  \n",
              "PassengerId                                                             \n",
              "1305             0      0           A.5. 3236    8.0500   NaN        S  \n",
              "1306             0      0            PC 17758  108.9000  C105        C  \n",
              "1307             0      0  SOTON/O.Q. 3101262    7.2500   NaN        S  \n",
              "1308             0      0              359309    8.0500   NaN        S  \n",
              "1309             1      1                2668   22.3583   NaN        C  "
            ]
          },
          "metadata": {
            "tags": []
          },
          "execution_count": 20
        }
      ]
    },
    {
      "cell_type": "code",
      "metadata": {
        "colab": {
          "base_uri": "https://localhost:8080/"
        },
        "id": "7khwud0j_V_D",
        "outputId": "cb2d5110-2d49-4ee7-ed53-11d6f1395441"
      },
      "source": [
        "feats.info()"
      ],
      "execution_count": 21,
      "outputs": [
        {
          "output_type": "stream",
          "text": [
            "<class 'pandas.core.frame.DataFrame'>\n",
            "Int64Index: 1309 entries, 1 to 1309\n",
            "Data columns (total 11 columns):\n",
            " #   Column    Non-Null Count  Dtype  \n",
            "---  ------    --------------  -----  \n",
            " 0   Survived  1309 non-null   float64\n",
            " 1   Pclass    1309 non-null   int64  \n",
            " 2   Name      1309 non-null   object \n",
            " 3   Sex       1309 non-null   object \n",
            " 4   Age       1046 non-null   float64\n",
            " 5   SibSp     1309 non-null   int64  \n",
            " 6   Parch     1309 non-null   int64  \n",
            " 7   Ticket    1309 non-null   object \n",
            " 8   Fare      1308 non-null   float64\n",
            " 9   Cabin     295 non-null    object \n",
            " 10  Embarked  1307 non-null   object \n",
            "dtypes: float64(3), int64(3), object(5)\n",
            "memory usage: 122.7+ KB\n"
          ],
          "name": "stdout"
        }
      ]
    },
    {
      "cell_type": "code",
      "metadata": {
        "colab": {
          "base_uri": "https://localhost:8080/",
          "height": 111
        },
        "id": "LWwmHEatAn8P",
        "outputId": "732294b0-4e7a-4f39-eff1-c65022b7f5d4"
      },
      "source": [
        "feats.loc[feats['Fare'].isnull()]"
      ],
      "execution_count": 28,
      "outputs": [
        {
          "output_type": "execute_result",
          "data": {
            "text/html": [
              "<div>\n",
              "<style scoped>\n",
              "    .dataframe tbody tr th:only-of-type {\n",
              "        vertical-align: middle;\n",
              "    }\n",
              "\n",
              "    .dataframe tbody tr th {\n",
              "        vertical-align: top;\n",
              "    }\n",
              "\n",
              "    .dataframe thead th {\n",
              "        text-align: right;\n",
              "    }\n",
              "</style>\n",
              "<table border=\"1\" class=\"dataframe\">\n",
              "  <thead>\n",
              "    <tr style=\"text-align: right;\">\n",
              "      <th></th>\n",
              "      <th>Survived</th>\n",
              "      <th>Pclass</th>\n",
              "      <th>Name</th>\n",
              "      <th>Sex</th>\n",
              "      <th>Age</th>\n",
              "      <th>SibSp</th>\n",
              "      <th>Parch</th>\n",
              "      <th>Ticket</th>\n",
              "      <th>Fare</th>\n",
              "      <th>Cabin</th>\n",
              "      <th>Embarked</th>\n",
              "    </tr>\n",
              "    <tr>\n",
              "      <th>PassengerId</th>\n",
              "      <th></th>\n",
              "      <th></th>\n",
              "      <th></th>\n",
              "      <th></th>\n",
              "      <th></th>\n",
              "      <th></th>\n",
              "      <th></th>\n",
              "      <th></th>\n",
              "      <th></th>\n",
              "      <th></th>\n",
              "      <th></th>\n",
              "    </tr>\n",
              "  </thead>\n",
              "  <tbody>\n",
              "    <tr>\n",
              "      <th>1044</th>\n",
              "      <td>-1.0</td>\n",
              "      <td>3</td>\n",
              "      <td>Storey, Mr. Thomas</td>\n",
              "      <td>male</td>\n",
              "      <td>60.5</td>\n",
              "      <td>0</td>\n",
              "      <td>0</td>\n",
              "      <td>3701</td>\n",
              "      <td>NaN</td>\n",
              "      <td>NaN</td>\n",
              "      <td>S</td>\n",
              "    </tr>\n",
              "  </tbody>\n",
              "</table>\n",
              "</div>"
            ],
            "text/plain": [
              "             Survived  Pclass                Name   Sex   Age  SibSp  Parch  \\\n",
              "PassengerId                                                                   \n",
              "1044             -1.0       3  Storey, Mr. Thomas  male  60.5      0      0   \n",
              "\n",
              "            Ticket  Fare Cabin Embarked  \n",
              "PassengerId                              \n",
              "1044          3701   NaN   NaN        S  "
            ]
          },
          "metadata": {
            "tags": []
          },
          "execution_count": 28
        }
      ]
    },
    {
      "cell_type": "code",
      "metadata": {
        "colab": {
          "base_uri": "https://localhost:8080/"
        },
        "id": "iKuamV-PCSBT",
        "outputId": "9ae5f205-2010-4644-ead1-006e94106c73"
      },
      "source": [
        "print(feats['Fare'].mean())"
      ],
      "execution_count": 29,
      "outputs": [
        {
          "output_type": "stream",
          "text": [
            "33.2954792813456\n"
          ],
          "name": "stdout"
        }
      ]
    },
    {
      "cell_type": "code",
      "metadata": {
        "id": "H0N2EssZCcrt"
      },
      "source": [
        "feats.Fare.fillna(feats.Fare.mean(), inplace=True)"
      ],
      "execution_count": 30,
      "outputs": []
    },
    {
      "cell_type": "code",
      "metadata": {
        "colab": {
          "base_uri": "https://localhost:8080/"
        },
        "id": "Lpx2FIqPClyU",
        "outputId": "9ddd148d-c0ff-4525-a085-e3a7e4770ea5"
      },
      "source": [
        "feats.info()"
      ],
      "execution_count": 32,
      "outputs": [
        {
          "output_type": "stream",
          "text": [
            "<class 'pandas.core.frame.DataFrame'>\n",
            "Int64Index: 1309 entries, 1 to 1309\n",
            "Data columns (total 11 columns):\n",
            " #   Column    Non-Null Count  Dtype  \n",
            "---  ------    --------------  -----  \n",
            " 0   Survived  1309 non-null   float64\n",
            " 1   Pclass    1309 non-null   int64  \n",
            " 2   Name      1309 non-null   object \n",
            " 3   Sex       1309 non-null   object \n",
            " 4   Age       1046 non-null   float64\n",
            " 5   SibSp     1309 non-null   int64  \n",
            " 6   Parch     1309 non-null   int64  \n",
            " 7   Ticket    1309 non-null   object \n",
            " 8   Fare      1309 non-null   float64\n",
            " 9   Cabin     295 non-null    object \n",
            " 10  Embarked  1307 non-null   object \n",
            "dtypes: float64(3), int64(3), object(5)\n",
            "memory usage: 122.7+ KB\n"
          ],
          "name": "stdout"
        }
      ]
    },
    {
      "cell_type": "code",
      "metadata": {
        "colab": {
          "base_uri": "https://localhost:8080/",
          "height": 533
        },
        "id": "xBpT0nDi_gGA",
        "outputId": "7fc09603-3bd4-4a7c-cfae-49cbf1a0beee"
      },
      "source": [
        "feats.Fare.hist()"
      ],
      "execution_count": 33,
      "outputs": [
        {
          "output_type": "execute_result",
          "data": {
            "text/plain": [
              "<matplotlib.axes._subplots.AxesSubplot at 0x7f38128efed0>"
            ]
          },
          "metadata": {
            "tags": []
          },
          "execution_count": 33
        },
        {
          "output_type": "display_data",
          "data": {
            "image/png": "[encoded data removed]",
            "text/plain": [
              "<Figure size 1152x576 with 1 Axes>"
            ]
          },
          "metadata": {
            "tags": []
          }
        }
      ]
    },
    {
      "cell_type": "code",
      "metadata": {
        "id": "eT1AhvISCphk"
      },
      "source": [
        "feats['Fare'] = feats['Fare'].apply(np.log1p)"
      ],
      "execution_count": 34,
      "outputs": []
    },
    {
      "cell_type": "code",
      "metadata": {
        "colab": {
          "base_uri": "https://localhost:8080/",
          "height": 533
        },
        "id": "WSN3DIQMC3jq",
        "outputId": "c900c6e1-5a00-4dcb-8ca7-9e67cab38927"
      },
      "source": [
        "feats['Fare'].hist(bins=30)"
      ],
      "execution_count": 37,
      "outputs": [
        {
          "output_type": "execute_result",
          "data": {
            "text/plain": [
              "<matplotlib.axes._subplots.AxesSubplot at 0x7f381256aa10>"
            ]
          },
          "metadata": {
            "tags": []
          },
          "execution_count": 37
        },
        {
          "output_type": "display_data",
          "data": {
            "image/png": "[encoded data removed]",
            "text/plain": [
              "<Figure size 1152x576 with 1 Axes>"
            ]
          },
          "metadata": {
            "tags": []
          }
        }
      ]
    },
    {
      "cell_type": "code",
      "metadata": {
        "colab": {
          "base_uri": "https://localhost:8080/"
        },
        "id": "XdcppMKgC7ZP",
        "outputId": "2285d64a-10aa-4dad-fb51-8e4a81d4a1d6"
      },
      "source": [
        "feats.info()"
      ],
      "execution_count": 38,
      "outputs": [
        {
          "output_type": "stream",
          "text": [
            "<class 'pandas.core.frame.DataFrame'>\n",
            "Int64Index: 1309 entries, 1 to 1309\n",
            "Data columns (total 11 columns):\n",
            " #   Column    Non-Null Count  Dtype  \n",
            "---  ------    --------------  -----  \n",
            " 0   Survived  1309 non-null   float64\n",
            " 1   Pclass    1309 non-null   int64  \n",
            " 2   Name      1309 non-null   object \n",
            " 3   Sex       1309 non-null   object \n",
            " 4   Age       1046 non-null   float64\n",
            " 5   SibSp     1309 non-null   int64  \n",
            " 6   Parch     1309 non-null   int64  \n",
            " 7   Ticket    1309 non-null   object \n",
            " 8   Fare      1309 non-null   float64\n",
            " 9   Cabin     295 non-null    object \n",
            " 10  Embarked  1307 non-null   object \n",
            "dtypes: float64(3), int64(3), object(5)\n",
            "memory usage: 122.7+ KB\n"
          ],
          "name": "stdout"
        }
      ]
    },
    {
      "cell_type": "code",
      "metadata": {
        "id": "7OETYc_BHBrs"
      },
      "source": [
        "feats['Companion'] = feats['SibSp'] + feats['Parch']"
      ],
      "execution_count": 39,
      "outputs": []
    },
    {
      "cell_type": "code",
      "metadata": {
        "colab": {
          "base_uri": "https://localhost:8080/"
        },
        "id": "rLY94U1MH3gw",
        "outputId": "5e2edf4c-9861-4810-d864-6e006947e9ed"
      },
      "source": [
        "feats.info()"
      ],
      "execution_count": 40,
      "outputs": [
        {
          "output_type": "stream",
          "text": [
            "<class 'pandas.core.frame.DataFrame'>\n",
            "Int64Index: 1309 entries, 1 to 1309\n",
            "Data columns (total 12 columns):\n",
            " #   Column     Non-Null Count  Dtype  \n",
            "---  ------     --------------  -----  \n",
            " 0   Survived   1309 non-null   float64\n",
            " 1   Pclass     1309 non-null   int64  \n",
            " 2   Name       1309 non-null   object \n",
            " 3   Sex        1309 non-null   object \n",
            " 4   Age        1046 non-null   float64\n",
            " 5   SibSp      1309 non-null   int64  \n",
            " 6   Parch      1309 non-null   int64  \n",
            " 7   Ticket     1309 non-null   object \n",
            " 8   Fare       1309 non-null   float64\n",
            " 9   Cabin      295 non-null    object \n",
            " 10  Embarked   1307 non-null   object \n",
            " 11  Companion  1309 non-null   int64  \n",
            "dtypes: float64(3), int64(4), object(5)\n",
            "memory usage: 132.9+ KB\n"
          ],
          "name": "stdout"
        }
      ]
    },
    {
      "cell_type": "code",
      "metadata": {
        "colab": {
          "base_uri": "https://localhost:8080/",
          "height": 141
        },
        "id": "fH-g4-RZH548",
        "outputId": "76e36fa2-ff5f-4c24-85bb-5b4cddc7bb99"
      },
      "source": [
        "feats.loc[feats['Embarked'].isnull()]"
      ],
      "execution_count": 41,
      "outputs": [
        {
          "output_type": "execute_result",
          "data": {
            "text/html": [
              "<div>\n",
              "<style scoped>\n",
              "    .dataframe tbody tr th:only-of-type {\n",
              "        vertical-align: middle;\n",
              "    }\n",
              "\n",
              "    .dataframe tbody tr th {\n",
              "        vertical-align: top;\n",
              "    }\n",
              "\n",
              "    .dataframe thead th {\n",
              "        text-align: right;\n",
              "    }\n",
              "</style>\n",
              "<table border=\"1\" class=\"dataframe\">\n",
              "  <thead>\n",
              "    <tr style=\"text-align: right;\">\n",
              "      <th></th>\n",
              "      <th>Survived</th>\n",
              "      <th>Pclass</th>\n",
              "      <th>Name</th>\n",
              "      <th>Sex</th>\n",
              "      <th>Age</th>\n",
              "      <th>SibSp</th>\n",
              "      <th>Parch</th>\n",
              "      <th>Ticket</th>\n",
              "      <th>Fare</th>\n",
              "      <th>Cabin</th>\n",
              "      <th>Embarked</th>\n",
              "      <th>Companion</th>\n",
              "    </tr>\n",
              "    <tr>\n",
              "      <th>PassengerId</th>\n",
              "      <th></th>\n",
              "      <th></th>\n",
              "      <th></th>\n",
              "      <th></th>\n",
              "      <th></th>\n",
              "      <th></th>\n",
              "      <th></th>\n",
              "      <th></th>\n",
              "      <th></th>\n",
              "      <th></th>\n",
              "      <th></th>\n",
              "      <th></th>\n",
              "    </tr>\n",
              "  </thead>\n",
              "  <tbody>\n",
              "    <tr>\n",
              "      <th>62</th>\n",
              "      <td>1.0</td>\n",
              "      <td>1</td>\n",
              "      <td>Icard, Miss. Amelie</td>\n",
              "      <td>female</td>\n",
              "      <td>38.0</td>\n",
              "      <td>0</td>\n",
              "      <td>0</td>\n",
              "      <td>113572</td>\n",
              "      <td>4.3944</td>\n",
              "      <td>B28</td>\n",
              "      <td>NaN</td>\n",
              "      <td>0</td>\n",
              "    </tr>\n",
              "    <tr>\n",
              "      <th>830</th>\n",
              "      <td>1.0</td>\n",
              "      <td>1</td>\n",
              "      <td>Stone, Mrs. George Nelson (Martha Evelyn)</td>\n",
              "      <td>female</td>\n",
              "      <td>62.0</td>\n",
              "      <td>0</td>\n",
              "      <td>0</td>\n",
              "      <td>113572</td>\n",
              "      <td>4.3944</td>\n",
              "      <td>B28</td>\n",
              "      <td>NaN</td>\n",
              "      <td>0</td>\n",
              "    </tr>\n",
              "  </tbody>\n",
              "</table>\n",
              "</div>"
            ],
            "text/plain": [
              "             Survived  Pclass                                       Name  \\\n",
              "PassengerId                                                                \n",
              "62                1.0       1                        Icard, Miss. Amelie   \n",
              "830               1.0       1  Stone, Mrs. George Nelson (Martha Evelyn)   \n",
              "\n",
              "                Sex   Age  SibSp  Parch  Ticket    Fare Cabin Embarked  \\\n",
              "PassengerId                                                              \n",
              "62           female  38.0      0      0  113572  4.3944   B28      NaN   \n",
              "830          female  62.0      0      0  113572  4.3944   B28      NaN   \n",
              "\n",
              "             Companion  \n",
              "PassengerId             \n",
              "62                   0  \n",
              "830                  0  "
            ]
          },
          "metadata": {
            "tags": []
          },
          "execution_count": 41
        }
      ]
    },
    {
      "cell_type": "code",
      "metadata": {
        "id": "6vRkHGAhIIxT"
      },
      "source": [
        "feats['Embarked'].fillna('S', inplace=True)"
      ],
      "execution_count": 42,
      "outputs": []
    },
    {
      "cell_type": "code",
      "metadata": {
        "colab": {
          "base_uri": "https://localhost:8080/"
        },
        "id": "y1AgChxNIX1K",
        "outputId": "d15b93d3-2669-4e53-cd72-b759498646f0"
      },
      "source": [
        "feats.info()"
      ],
      "execution_count": 43,
      "outputs": [
        {
          "output_type": "stream",
          "text": [
            "<class 'pandas.core.frame.DataFrame'>\n",
            "Int64Index: 1309 entries, 1 to 1309\n",
            "Data columns (total 12 columns):\n",
            " #   Column     Non-Null Count  Dtype  \n",
            "---  ------     --------------  -----  \n",
            " 0   Survived   1309 non-null   float64\n",
            " 1   Pclass     1309 non-null   int64  \n",
            " 2   Name       1309 non-null   object \n",
            " 3   Sex        1309 non-null   object \n",
            " 4   Age        1046 non-null   float64\n",
            " 5   SibSp      1309 non-null   int64  \n",
            " 6   Parch      1309 non-null   int64  \n",
            " 7   Ticket     1309 non-null   object \n",
            " 8   Fare       1309 non-null   float64\n",
            " 9   Cabin      295 non-null    object \n",
            " 10  Embarked   1309 non-null   object \n",
            " 11  Companion  1309 non-null   int64  \n",
            "dtypes: float64(3), int64(4), object(5)\n",
            "memory usage: 132.9+ KB\n"
          ],
          "name": "stdout"
        }
      ]
    },
    {
      "cell_type": "code",
      "metadata": {
        "colab": {
          "base_uri": "https://localhost:8080/",
          "height": 533
        },
        "id": "qqptB4l0Iakn",
        "outputId": "67f19e33-6951-4f11-8fe2-3ea000c76712"
      },
      "source": [
        "feats['Companion'].hist(bins=30)"
      ],
      "execution_count": 44,
      "outputs": [
        {
          "output_type": "execute_result",
          "data": {
            "text/plain": [
              "<matplotlib.axes._subplots.AxesSubplot at 0x7f38121c4f90>"
            ]
          },
          "metadata": {
            "tags": []
          },
          "execution_count": 44
        },
        {
          "output_type": "display_data",
          "data": {
            "image/png": "[encoded data removed]",
            "text/plain": [
              "<Figure size 1152x576 with 1 Axes>"
            ]
          },
          "metadata": {
            "tags": []
          }
        }
      ]
    },
    {
      "cell_type": "code",
      "metadata": {
        "id": "JqkZGr3MKaEx"
      },
      "source": [
        "#feats['Companion'] = feats['Companion'].apply(np.log1p) ; applied twice but still power-form"
      ],
      "execution_count": 50,
      "outputs": []
    },
    {
      "cell_type": "code",
      "metadata": {
        "colab": {
          "base_uri": "https://localhost:8080/",
          "height": 533
        },
        "id": "RwJUVBmcKe4x",
        "outputId": "ef6276a5-f025-4612-84be-6ff958d507d8"
      },
      "source": [
        "feats['Companion'].hist(bins=30)"
      ],
      "execution_count": 51,
      "outputs": [
        {
          "output_type": "execute_result",
          "data": {
            "text/plain": [
              "<matplotlib.axes._subplots.AxesSubplot at 0x7f381254ef90>"
            ]
          },
          "metadata": {
            "tags": []
          },
          "execution_count": 51
        },
        {
          "output_type": "display_data",
          "data": {
            "image/png": "[encoded data removed]",
            "text/plain": [
              "<Figure size 1152x576 with 1 Axes>"
            ]
          },
          "metadata": {
            "tags": []
          }
        }
      ]
    },
    {
      "cell_type": "code",
      "metadata": {
        "colab": {
          "base_uri": "https://localhost:8080/"
        },
        "id": "JtEsOFyvKoVy",
        "outputId": "92cd5843-0510-4bd1-9441-0921e077df70"
      },
      "source": [
        "feats.info()"
      ],
      "execution_count": 52,
      "outputs": [
        {
          "output_type": "stream",
          "text": [
            "<class 'pandas.core.frame.DataFrame'>\n",
            "Int64Index: 1309 entries, 1 to 1309\n",
            "Data columns (total 12 columns):\n",
            " #   Column     Non-Null Count  Dtype  \n",
            "---  ------     --------------  -----  \n",
            " 0   Survived   1309 non-null   float64\n",
            " 1   Pclass     1309 non-null   int64  \n",
            " 2   Name       1309 non-null   object \n",
            " 3   Sex        1309 non-null   object \n",
            " 4   Age        1046 non-null   float64\n",
            " 5   SibSp      1309 non-null   int64  \n",
            " 6   Parch      1309 non-null   int64  \n",
            " 7   Ticket     1309 non-null   object \n",
            " 8   Fare       1309 non-null   float64\n",
            " 9   Cabin      295 non-null    object \n",
            " 10  Embarked   1309 non-null   object \n",
            " 11  Companion  1309 non-null   float64\n",
            "dtypes: float64(4), int64(3), object(5)\n",
            "memory usage: 132.9+ KB\n"
          ],
          "name": "stdout"
        }
      ]
    },
    {
      "cell_type": "code",
      "metadata": {
        "colab": {
          "base_uri": "https://localhost:8080/",
          "height": 448
        },
        "id": "82yJK2wbK9z2",
        "outputId": "6010c555-36bd-416a-936e-9b10fe83114b"
      },
      "source": [
        "feats.loc[feats['Age'].isnull()]"
      ],
      "execution_count": 53,
      "outputs": [
        {
          "output_type": "execute_result",
          "data": {
            "text/html": [
              "<div>\n",
              "<style scoped>\n",
              "    .dataframe tbody tr th:only-of-type {\n",
              "        vertical-align: middle;\n",
              "    }\n",
              "\n",
              "    .dataframe tbody tr th {\n",
              "        vertical-align: top;\n",
              "    }\n",
              "\n",
              "    .dataframe thead th {\n",
              "        text-align: right;\n",
              "    }\n",
              "</style>\n",
              "<table border=\"1\" class=\"dataframe\">\n",
              "  <thead>\n",
              "    <tr style=\"text-align: right;\">\n",
              "      <th></th>\n",
              "      <th>Survived</th>\n",
              "      <th>Pclass</th>\n",
              "      <th>Name</th>\n",
              "      <th>Sex</th>\n",
              "      <th>Age</th>\n",
              "      <th>SibSp</th>\n",
              "      <th>Parch</th>\n",
              "      <th>Ticket</th>\n",
              "      <th>Fare</th>\n",
              "      <th>Cabin</th>\n",
              "      <th>Embarked</th>\n",
              "      <th>Companion</th>\n",
              "    </tr>\n",
              "    <tr>\n",
              "      <th>PassengerId</th>\n",
              "      <th></th>\n",
              "      <th></th>\n",
              "      <th></th>\n",
              "      <th></th>\n",
              "      <th></th>\n",
              "      <th></th>\n",
              "      <th></th>\n",
              "      <th></th>\n",
              "      <th></th>\n",
              "      <th></th>\n",
              "      <th></th>\n",
              "      <th></th>\n",
              "    </tr>\n",
              "  </thead>\n",
              "  <tbody>\n",
              "    <tr>\n",
              "      <th>6</th>\n",
              "      <td>0.0</td>\n",
              "      <td>3</td>\n",
              "      <td>Moran, Mr. James</td>\n",
              "      <td>male</td>\n",
              "      <td>NaN</td>\n",
              "      <td>0</td>\n",
              "      <td>0</td>\n",
              "      <td>330877</td>\n",
              "      <td>2.2469</td>\n",
              "      <td>NaN</td>\n",
              "      <td>Q</td>\n",
              "      <td>0.0</td>\n",
              "    </tr>\n",
              "    <tr>\n",
              "      <th>18</th>\n",
              "      <td>1.0</td>\n",
              "      <td>2</td>\n",
              "      <td>Williams, Mr. Charles Eugene</td>\n",
              "      <td>male</td>\n",
              "      <td>NaN</td>\n",
              "      <td>0</td>\n",
              "      <td>0</td>\n",
              "      <td>244373</td>\n",
              "      <td>2.6391</td>\n",
              "      <td>NaN</td>\n",
              "      <td>S</td>\n",
              "      <td>0.0</td>\n",
              "    </tr>\n",
              "    <tr>\n",
              "      <th>20</th>\n",
              "      <td>1.0</td>\n",
              "      <td>3</td>\n",
              "      <td>Masselmani, Mrs. Fatima</td>\n",
              "      <td>female</td>\n",
              "      <td>NaN</td>\n",
              "      <td>0</td>\n",
              "      <td>0</td>\n",
              "      <td>2649</td>\n",
              "      <td>2.1072</td>\n",
              "      <td>NaN</td>\n",
              "      <td>C</td>\n",
              "      <td>0.0</td>\n",
              "    </tr>\n",
              "    <tr>\n",
              "      <th>27</th>\n",
              "      <td>0.0</td>\n",
              "      <td>3</td>\n",
              "      <td>Emir, Mr. Farred Chehab</td>\n",
              "      <td>male</td>\n",
              "      <td>NaN</td>\n",
              "      <td>0</td>\n",
              "      <td>0</td>\n",
              "      <td>2631</td>\n",
              "      <td>2.1072</td>\n",
              "      <td>NaN</td>\n",
              "      <td>C</td>\n",
              "      <td>0.0</td>\n",
              "    </tr>\n",
              "    <tr>\n",
              "      <th>29</th>\n",
              "      <td>1.0</td>\n",
              "      <td>3</td>\n",
              "      <td>O'Dwyer, Miss. Ellen \"Nellie\"</td>\n",
              "      <td>female</td>\n",
              "      <td>NaN</td>\n",
              "      <td>0</td>\n",
              "      <td>0</td>\n",
              "      <td>330959</td>\n",
              "      <td>2.1837</td>\n",
              "      <td>NaN</td>\n",
              "      <td>Q</td>\n",
              "      <td>0.0</td>\n",
              "    </tr>\n",
              "    <tr>\n",
              "      <th>...</th>\n",
              "      <td>...</td>\n",
              "      <td>...</td>\n",
              "      <td>...</td>\n",
              "      <td>...</td>\n",
              "      <td>...</td>\n",
              "      <td>...</td>\n",
              "      <td>...</td>\n",
              "      <td>...</td>\n",
              "      <td>...</td>\n",
              "      <td>...</td>\n",
              "      <td>...</td>\n",
              "      <td>...</td>\n",
              "    </tr>\n",
              "    <tr>\n",
              "      <th>1300</th>\n",
              "      <td>-1.0</td>\n",
              "      <td>3</td>\n",
              "      <td>Riordan, Miss. Johanna Hannah\"\"</td>\n",
              "      <td>female</td>\n",
              "      <td>NaN</td>\n",
              "      <td>0</td>\n",
              "      <td>0</td>\n",
              "      <td>334915</td>\n",
              "      <td>2.1657</td>\n",
              "      <td>NaN</td>\n",
              "      <td>Q</td>\n",
              "      <td>0.0</td>\n",
              "    </tr>\n",
              "    <tr>\n",
              "      <th>1302</th>\n",
              "      <td>-1.0</td>\n",
              "      <td>3</td>\n",
              "      <td>Naughton, Miss. Hannah</td>\n",
              "      <td>female</td>\n",
              "      <td>NaN</td>\n",
              "      <td>0</td>\n",
              "      <td>0</td>\n",
              "      <td>365237</td>\n",
              "      <td>2.1691</td>\n",
              "      <td>NaN</td>\n",
              "      <td>Q</td>\n",
              "      <td>0.0</td>\n",
              "    </tr>\n",
              "    <tr>\n",
              "      <th>1305</th>\n",
              "      <td>-1.0</td>\n",
              "      <td>3</td>\n",
              "      <td>Spector, Mr. Woolf</td>\n",
              "      <td>male</td>\n",
              "      <td>NaN</td>\n",
              "      <td>0</td>\n",
              "      <td>0</td>\n",
              "      <td>A.5. 3236</td>\n",
              "      <td>2.2028</td>\n",
              "      <td>NaN</td>\n",
              "      <td>S</td>\n",
              "      <td>0.0</td>\n",
              "    </tr>\n",
              "    <tr>\n",
              "      <th>1308</th>\n",
              "      <td>-1.0</td>\n",
              "      <td>3</td>\n",
              "      <td>Ware, Mr. Frederick</td>\n",
              "      <td>male</td>\n",
              "      <td>NaN</td>\n",
              "      <td>0</td>\n",
              "      <td>0</td>\n",
              "      <td>359309</td>\n",
              "      <td>2.2028</td>\n",
              "      <td>NaN</td>\n",
              "      <td>S</td>\n",
              "      <td>0.0</td>\n",
              "    </tr>\n",
              "    <tr>\n",
              "      <th>1309</th>\n",
              "      <td>-1.0</td>\n",
              "      <td>3</td>\n",
              "      <td>Peter, Master. Michael J</td>\n",
              "      <td>male</td>\n",
              "      <td>NaN</td>\n",
              "      <td>1</td>\n",
              "      <td>1</td>\n",
              "      <td>2668</td>\n",
              "      <td>3.1510</td>\n",
              "      <td>NaN</td>\n",
              "      <td>C</td>\n",
              "      <td>2.0</td>\n",
              "    </tr>\n",
              "  </tbody>\n",
              "</table>\n",
              "<p>263 rows × 12 columns</p>\n",
              "</div>"
            ],
            "text/plain": [
              "             Survived  Pclass                             Name     Sex  Age  \\\n",
              "PassengerId                                                                   \n",
              "6                 0.0       3                 Moran, Mr. James    male  NaN   \n",
              "18                1.0       2     Williams, Mr. Charles Eugene    male  NaN   \n",
              "20                1.0       3          Masselmani, Mrs. Fatima  female  NaN   \n",
              "27                0.0       3          Emir, Mr. Farred Chehab    male  NaN   \n",
              "29                1.0       3    O'Dwyer, Miss. Ellen \"Nellie\"  female  NaN   \n",
              "...               ...     ...                              ...     ...  ...   \n",
              "1300             -1.0       3  Riordan, Miss. Johanna Hannah\"\"  female  NaN   \n",
              "1302             -1.0       3           Naughton, Miss. Hannah  female  NaN   \n",
              "1305             -1.0       3               Spector, Mr. Woolf    male  NaN   \n",
              "1308             -1.0       3              Ware, Mr. Frederick    male  NaN   \n",
              "1309             -1.0       3         Peter, Master. Michael J    male  NaN   \n",
              "\n",
              "             SibSp  Parch     Ticket    Fare Cabin Embarked  Companion  \n",
              "PassengerId                                                             \n",
              "6                0      0     330877  2.2469   NaN        Q        0.0  \n",
              "18               0      0     244373  2.6391   NaN        S        0.0  \n",
              "20               0      0       2649  2.1072   NaN        C        0.0  \n",
              "27               0      0       2631  2.1072   NaN        C        0.0  \n",
              "29               0      0     330959  2.1837   NaN        Q        0.0  \n",
              "...            ...    ...        ...     ...   ...      ...        ...  \n",
              "1300             0      0     334915  2.1657   NaN        Q        0.0  \n",
              "1302             0      0     365237  2.1691   NaN        Q        0.0  \n",
              "1305             0      0  A.5. 3236  2.2028   NaN        S        0.0  \n",
              "1308             0      0     359309  2.2028   NaN        S        0.0  \n",
              "1309             1      1       2668  3.1510   NaN        C        2.0  \n",
              "\n",
              "[263 rows x 12 columns]"
            ]
          },
          "metadata": {
            "tags": []
          },
          "execution_count": 53
        }
      ]
    },
    {
      "cell_type": "code",
      "metadata": {
        "id": "pCWGYSvULEBp"
      },
      "source": [
        "feats['Age'].fillna(feats['Age'].mean(),inplace=True)"
      ],
      "execution_count": 54,
      "outputs": []
    },
    {
      "cell_type": "code",
      "metadata": {
        "colab": {
          "base_uri": "https://localhost:8080/"
        },
        "id": "CLw-1IiWLJuO",
        "outputId": "32179140-bafd-47c8-cd95-225bd03894c1"
      },
      "source": [
        "feats.info()"
      ],
      "execution_count": 55,
      "outputs": [
        {
          "output_type": "stream",
          "text": [
            "<class 'pandas.core.frame.DataFrame'>\n",
            "Int64Index: 1309 entries, 1 to 1309\n",
            "Data columns (total 12 columns):\n",
            " #   Column     Non-Null Count  Dtype  \n",
            "---  ------     --------------  -----  \n",
            " 0   Survived   1309 non-null   float64\n",
            " 1   Pclass     1309 non-null   int64  \n",
            " 2   Name       1309 non-null   object \n",
            " 3   Sex        1309 non-null   object \n",
            " 4   Age        1309 non-null   float64\n",
            " 5   SibSp      1309 non-null   int64  \n",
            " 6   Parch      1309 non-null   int64  \n",
            " 7   Ticket     1309 non-null   object \n",
            " 8   Fare       1309 non-null   float64\n",
            " 9   Cabin      295 non-null    object \n",
            " 10  Embarked   1309 non-null   object \n",
            " 11  Companion  1309 non-null   float64\n",
            "dtypes: float64(4), int64(3), object(5)\n",
            "memory usage: 132.9+ KB\n"
          ],
          "name": "stdout"
        }
      ]
    },
    {
      "cell_type": "code",
      "metadata": {
        "id": "u9ZlcP73LJrI"
      },
      "source": [
        "feats.drop(['Cabin'], axis=1,inplace=True)"
      ],
      "execution_count": 56,
      "outputs": []
    },
    {
      "cell_type": "code",
      "metadata": {
        "colab": {
          "base_uri": "https://localhost:8080/"
        },
        "id": "4obiFjkVLSun",
        "outputId": "d89f4ba7-37c6-4897-f300-c79e4f7b82f9"
      },
      "source": [
        "feats.info()"
      ],
      "execution_count": 57,
      "outputs": [
        {
          "output_type": "stream",
          "text": [
            "<class 'pandas.core.frame.DataFrame'>\n",
            "Int64Index: 1309 entries, 1 to 1309\n",
            "Data columns (total 11 columns):\n",
            " #   Column     Non-Null Count  Dtype  \n",
            "---  ------     --------------  -----  \n",
            " 0   Survived   1309 non-null   float64\n",
            " 1   Pclass     1309 non-null   int64  \n",
            " 2   Name       1309 non-null   object \n",
            " 3   Sex        1309 non-null   object \n",
            " 4   Age        1309 non-null   float64\n",
            " 5   SibSp      1309 non-null   int64  \n",
            " 6   Parch      1309 non-null   int64  \n",
            " 7   Ticket     1309 non-null   object \n",
            " 8   Fare       1309 non-null   float64\n",
            " 9   Embarked   1309 non-null   object \n",
            " 10  Companion  1309 non-null   float64\n",
            "dtypes: float64(4), int64(3), object(4)\n",
            "memory usage: 122.7+ KB\n"
          ],
          "name": "stdout"
        }
      ]
    },
    {
      "cell_type": "code",
      "metadata": {
        "colab": {
          "base_uri": "https://localhost:8080/",
          "height": 182
        },
        "id": "Koz8mkvkLUWU",
        "outputId": "02501d42-a502-41f7-9b26-5178da391f14"
      },
      "source": [
        "feats.corr().style.background_gradient()"
      ],
      "execution_count": 58,
      "outputs": [
        {
          "output_type": "execute_result",
          "data": {
            "text/html": [
              "<style  type=\"text/css\" >\n",
              "#T_9a74fa86_fb3b_11eb_b12b_0242ac1c0002row0_col0,#T_9a74fa86_fb3b_11eb_b12b_0242ac1c0002row1_col1,#T_9a74fa86_fb3b_11eb_b12b_0242ac1c0002row2_col2,#T_9a74fa86_fb3b_11eb_b12b_0242ac1c0002row3_col3,#T_9a74fa86_fb3b_11eb_b12b_0242ac1c0002row4_col4,#T_9a74fa86_fb3b_11eb_b12b_0242ac1c0002row5_col5,#T_9a74fa86_fb3b_11eb_b12b_0242ac1c0002row6_col6{\n",
              "            background-color:  #023858;\n",
              "            color:  #f1f1f1;\n",
              "        }#T_9a74fa86_fb3b_11eb_b12b_0242ac1c0002row0_col1{\n",
              "            background-color:  #b5c4df;\n",
              "            color:  #000000;\n",
              "        }#T_9a74fa86_fb3b_11eb_b12b_0242ac1c0002row0_col2{\n",
              "            background-color:  #d3d4e7;\n",
              "            color:  #000000;\n",
              "        }#T_9a74fa86_fb3b_11eb_b12b_0242ac1c0002row0_col3{\n",
              "            background-color:  #e2dfee;\n",
              "            color:  #000000;\n",
              "        }#T_9a74fa86_fb3b_11eb_b12b_0242ac1c0002row0_col4{\n",
              "            background-color:  #e8e4f0;\n",
              "            color:  #000000;\n",
              "        }#T_9a74fa86_fb3b_11eb_b12b_0242ac1c0002row0_col5{\n",
              "            background-color:  #7dacd1;\n",
              "            color:  #000000;\n",
              "        }#T_9a74fa86_fb3b_11eb_b12b_0242ac1c0002row0_col6{\n",
              "            background-color:  #dfddec;\n",
              "            color:  #000000;\n",
              "        }#T_9a74fa86_fb3b_11eb_b12b_0242ac1c0002row1_col0,#T_9a74fa86_fb3b_11eb_b12b_0242ac1c0002row1_col2,#T_9a74fa86_fb3b_11eb_b12b_0242ac1c0002row1_col5,#T_9a74fa86_fb3b_11eb_b12b_0242ac1c0002row2_col3,#T_9a74fa86_fb3b_11eb_b12b_0242ac1c0002row2_col4,#T_9a74fa86_fb3b_11eb_b12b_0242ac1c0002row2_col6,#T_9a74fa86_fb3b_11eb_b12b_0242ac1c0002row5_col1{\n",
              "            background-color:  #fff7fb;\n",
              "            color:  #000000;\n",
              "        }#T_9a74fa86_fb3b_11eb_b12b_0242ac1c0002row1_col3{\n",
              "            background-color:  #d9d8ea;\n",
              "            color:  #000000;\n",
              "        }#T_9a74fa86_fb3b_11eb_b12b_0242ac1c0002row1_col4{\n",
              "            background-color:  #ebe6f2;\n",
              "            color:  #000000;\n",
              "        }#T_9a74fa86_fb3b_11eb_b12b_0242ac1c0002row1_col6{\n",
              "            background-color:  #dad9ea;\n",
              "            color:  #000000;\n",
              "        }#T_9a74fa86_fb3b_11eb_b12b_0242ac1c0002row2_col0{\n",
              "            background-color:  #f4eef6;\n",
              "            color:  #000000;\n",
              "        }#T_9a74fa86_fb3b_11eb_b12b_0242ac1c0002row2_col1{\n",
              "            background-color:  #dedcec;\n",
              "            color:  #000000;\n",
              "        }#T_9a74fa86_fb3b_11eb_b12b_0242ac1c0002row2_col5{\n",
              "            background-color:  #6fa7ce;\n",
              "            color:  #000000;\n",
              "        }#T_9a74fa86_fb3b_11eb_b12b_0242ac1c0002row3_col0,#T_9a74fa86_fb3b_11eb_b12b_0242ac1c0002row6_col2{\n",
              "            background-color:  #ede7f2;\n",
              "            color:  #000000;\n",
              "        }#T_9a74fa86_fb3b_11eb_b12b_0242ac1c0002row3_col1{\n",
              "            background-color:  #8bb2d4;\n",
              "            color:  #000000;\n",
              "        }#T_9a74fa86_fb3b_11eb_b12b_0242ac1c0002row3_col2{\n",
              "            background-color:  #ece7f2;\n",
              "            color:  #000000;\n",
              "        }#T_9a74fa86_fb3b_11eb_b12b_0242ac1c0002row3_col4{\n",
              "            background-color:  #89b1d4;\n",
              "            color:  #000000;\n",
              "        }#T_9a74fa86_fb3b_11eb_b12b_0242ac1c0002row3_col5{\n",
              "            background-color:  #4697c4;\n",
              "            color:  #000000;\n",
              "        }#T_9a74fa86_fb3b_11eb_b12b_0242ac1c0002row3_col6,#T_9a74fa86_fb3b_11eb_b12b_0242ac1c0002row6_col3{\n",
              "            background-color:  #045788;\n",
              "            color:  #f1f1f1;\n",
              "        }#T_9a74fa86_fb3b_11eb_b12b_0242ac1c0002row4_col0{\n",
              "            background-color:  #e9e5f1;\n",
              "            color:  #000000;\n",
              "        }#T_9a74fa86_fb3b_11eb_b12b_0242ac1c0002row4_col1{\n",
              "            background-color:  #96b6d7;\n",
              "            color:  #000000;\n",
              "        }#T_9a74fa86_fb3b_11eb_b12b_0242ac1c0002row4_col2{\n",
              "            background-color:  #e1dfed;\n",
              "            color:  #000000;\n",
              "        }#T_9a74fa86_fb3b_11eb_b12b_0242ac1c0002row4_col3{\n",
              "            background-color:  #7eadd1;\n",
              "            color:  #000000;\n",
              "        }#T_9a74fa86_fb3b_11eb_b12b_0242ac1c0002row4_col5{\n",
              "            background-color:  #4295c3;\n",
              "            color:  #000000;\n",
              "        }#T_9a74fa86_fb3b_11eb_b12b_0242ac1c0002row4_col6{\n",
              "            background-color:  #04629a;\n",
              "            color:  #f1f1f1;\n",
              "        }#T_9a74fa86_fb3b_11eb_b12b_0242ac1c0002row5_col0{\n",
              "            background-color:  #d7d6e9;\n",
              "            color:  #000000;\n",
              "        }#T_9a74fa86_fb3b_11eb_b12b_0242ac1c0002row5_col2{\n",
              "            background-color:  #9ebad9;\n",
              "            color:  #000000;\n",
              "        }#T_9a74fa86_fb3b_11eb_b12b_0242ac1c0002row5_col3{\n",
              "            background-color:  #94b6d7;\n",
              "            color:  #000000;\n",
              "        }#T_9a74fa86_fb3b_11eb_b12b_0242ac1c0002row5_col4{\n",
              "            background-color:  #9cb9d9;\n",
              "            color:  #000000;\n",
              "        }#T_9a74fa86_fb3b_11eb_b12b_0242ac1c0002row5_col6{\n",
              "            background-color:  #7bacd1;\n",
              "            color:  #000000;\n",
              "        }#T_9a74fa86_fb3b_11eb_b12b_0242ac1c0002row6_col0{\n",
              "            background-color:  #eae6f1;\n",
              "            color:  #000000;\n",
              "        }#T_9a74fa86_fb3b_11eb_b12b_0242ac1c0002row6_col1{\n",
              "            background-color:  #8eb3d5;\n",
              "            color:  #000000;\n",
              "        }#T_9a74fa86_fb3b_11eb_b12b_0242ac1c0002row6_col4{\n",
              "            background-color:  #04649e;\n",
              "            color:  #f1f1f1;\n",
              "        }#T_9a74fa86_fb3b_11eb_b12b_0242ac1c0002row6_col5{\n",
              "            background-color:  #328dbf;\n",
              "            color:  #000000;\n",
              "        }</style><table id=\"T_9a74fa86_fb3b_11eb_b12b_0242ac1c0002\" ><thead>    <tr>        <th class=\"blank level0\" ></th>        <th class=\"col_heading level0 col0\" >Survived</th>        <th class=\"col_heading level0 col1\" >Pclass</th>        <th class=\"col_heading level0 col2\" >Age</th>        <th class=\"col_heading level0 col3\" >SibSp</th>        <th class=\"col_heading level0 col4\" >Parch</th>        <th class=\"col_heading level0 col5\" >Fare</th>        <th class=\"col_heading level0 col6\" >Companion</th>    </tr></thead><tbody>\n",
              "                <tr>\n",
              "                        <th id=\"T_9a74fa86_fb3b_11eb_b12b_0242ac1c0002level0_row0\" class=\"row_heading level0 row0\" >Survived</th>\n",
              "                        <td id=\"T_9a74fa86_fb3b_11eb_b12b_0242ac1c0002row0_col0\" class=\"data row0 col0\" >1.0000</td>\n",
              "                        <td id=\"T_9a74fa86_fb3b_11eb_b12b_0242ac1c0002row0_col1\" class=\"data row0 col1\" >-0.1268</td>\n",
              "                        <td id=\"T_9a74fa86_fb3b_11eb_b12b_0242ac1c0002row0_col2\" class=\"data row0 col2\" >-0.0450</td>\n",
              "                        <td id=\"T_9a74fa86_fb3b_11eb_b12b_0242ac1c0002row0_col3\" class=\"data row0 col3\" >0.0125</td>\n",
              "                        <td id=\"T_9a74fa86_fb3b_11eb_b12b_0242ac1c0002row0_col4\" class=\"data row0 col4\" >0.0282</td>\n",
              "                        <td id=\"T_9a74fa86_fb3b_11eb_b12b_0242ac1c0002row0_col5\" class=\"data row0 col5\" >0.1213</td>\n",
              "                        <td id=\"T_9a74fa86_fb3b_11eb_b12b_0242ac1c0002row0_col6\" class=\"data row0 col6\" >0.0236</td>\n",
              "            </tr>\n",
              "            <tr>\n",
              "                        <th id=\"T_9a74fa86_fb3b_11eb_b12b_0242ac1c0002level0_row1\" class=\"row_heading level0 row1\" >Pclass</th>\n",
              "                        <td id=\"T_9a74fa86_fb3b_11eb_b12b_0242ac1c0002row1_col0\" class=\"data row1 col0\" >-0.1268</td>\n",
              "                        <td id=\"T_9a74fa86_fb3b_11eb_b12b_0242ac1c0002row1_col1\" class=\"data row1 col1\" >1.0000</td>\n",
              "                        <td id=\"T_9a74fa86_fb3b_11eb_b12b_0242ac1c0002row1_col2\" class=\"data row1 col2\" >-0.3664</td>\n",
              "                        <td id=\"T_9a74fa86_fb3b_11eb_b12b_0242ac1c0002row1_col3\" class=\"data row1 col3\" >0.0608</td>\n",
              "                        <td id=\"T_9a74fa86_fb3b_11eb_b12b_0242ac1c0002row1_col4\" class=\"data row1 col4\" >0.0183</td>\n",
              "                        <td id=\"T_9a74fa86_fb3b_11eb_b12b_0242ac1c0002row1_col5\" class=\"data row1 col5\" >-0.6853</td>\n",
              "                        <td id=\"T_9a74fa86_fb3b_11eb_b12b_0242ac1c0002row1_col6\" class=\"data row1 col6\" >0.0500</td>\n",
              "            </tr>\n",
              "            <tr>\n",
              "                        <th id=\"T_9a74fa86_fb3b_11eb_b12b_0242ac1c0002level0_row2\" class=\"row_heading level0 row2\" >Age</th>\n",
              "                        <td id=\"T_9a74fa86_fb3b_11eb_b12b_0242ac1c0002row2_col0\" class=\"data row2 col0\" >-0.0450</td>\n",
              "                        <td id=\"T_9a74fa86_fb3b_11eb_b12b_0242ac1c0002row2_col1\" class=\"data row2 col1\" >-0.3664</td>\n",
              "                        <td id=\"T_9a74fa86_fb3b_11eb_b12b_0242ac1c0002row2_col2\" class=\"data row2 col2\" >1.0000</td>\n",
              "                        <td id=\"T_9a74fa86_fb3b_11eb_b12b_0242ac1c0002row2_col3\" class=\"data row2 col3\" >-0.1907</td>\n",
              "                        <td id=\"T_9a74fa86_fb3b_11eb_b12b_0242ac1c0002row2_col4\" class=\"data row2 col4\" >-0.1309</td>\n",
              "                        <td id=\"T_9a74fa86_fb3b_11eb_b12b_0242ac1c0002row2_col5\" class=\"data row2 col5\" >0.1742</td>\n",
              "                        <td id=\"T_9a74fa86_fb3b_11eb_b12b_0242ac1c0002row2_col6\" class=\"data row2 col6\" >-0.1970</td>\n",
              "            </tr>\n",
              "            <tr>\n",
              "                        <th id=\"T_9a74fa86_fb3b_11eb_b12b_0242ac1c0002level0_row3\" class=\"row_heading level0 row3\" >SibSp</th>\n",
              "                        <td id=\"T_9a74fa86_fb3b_11eb_b12b_0242ac1c0002row3_col0\" class=\"data row3 col0\" >0.0125</td>\n",
              "                        <td id=\"T_9a74fa86_fb3b_11eb_b12b_0242ac1c0002row3_col1\" class=\"data row3 col1\" >0.0608</td>\n",
              "                        <td id=\"T_9a74fa86_fb3b_11eb_b12b_0242ac1c0002row3_col2\" class=\"data row3 col2\" >-0.1907</td>\n",
              "                        <td id=\"T_9a74fa86_fb3b_11eb_b12b_0242ac1c0002row3_col3\" class=\"data row3 col3\" >1.0000</td>\n",
              "                        <td id=\"T_9a74fa86_fb3b_11eb_b12b_0242ac1c0002row3_col4\" class=\"data row3 col4\" >0.3736</td>\n",
              "                        <td id=\"T_9a74fa86_fb3b_11eb_b12b_0242ac1c0002row3_col5\" class=\"data row3 col5\" >0.3113</td>\n",
              "                        <td id=\"T_9a74fa86_fb3b_11eb_b12b_0242ac1c0002row3_col6\" class=\"data row3 col6\" >0.8620</td>\n",
              "            </tr>\n",
              "            <tr>\n",
              "                        <th id=\"T_9a74fa86_fb3b_11eb_b12b_0242ac1c0002level0_row4\" class=\"row_heading level0 row4\" >Parch</th>\n",
              "                        <td id=\"T_9a74fa86_fb3b_11eb_b12b_0242ac1c0002row4_col0\" class=\"data row4 col0\" >0.0282</td>\n",
              "                        <td id=\"T_9a74fa86_fb3b_11eb_b12b_0242ac1c0002row4_col1\" class=\"data row4 col1\" >0.0183</td>\n",
              "                        <td id=\"T_9a74fa86_fb3b_11eb_b12b_0242ac1c0002row4_col2\" class=\"data row4 col2\" >-0.1309</td>\n",
              "                        <td id=\"T_9a74fa86_fb3b_11eb_b12b_0242ac1c0002row4_col3\" class=\"data row4 col3\" >0.3736</td>\n",
              "                        <td id=\"T_9a74fa86_fb3b_11eb_b12b_0242ac1c0002row4_col4\" class=\"data row4 col4\" >1.0000</td>\n",
              "                        <td id=\"T_9a74fa86_fb3b_11eb_b12b_0242ac1c0002row4_col5\" class=\"data row4 col5\" >0.3233</td>\n",
              "                        <td id=\"T_9a74fa86_fb3b_11eb_b12b_0242ac1c0002row4_col6\" class=\"data row4 col6\" >0.7923</td>\n",
              "            </tr>\n",
              "            <tr>\n",
              "                        <th id=\"T_9a74fa86_fb3b_11eb_b12b_0242ac1c0002level0_row5\" class=\"row_heading level0 row5\" >Fare</th>\n",
              "                        <td id=\"T_9a74fa86_fb3b_11eb_b12b_0242ac1c0002row5_col0\" class=\"data row5 col0\" >0.1213</td>\n",
              "                        <td id=\"T_9a74fa86_fb3b_11eb_b12b_0242ac1c0002row5_col1\" class=\"data row5 col1\" >-0.6853</td>\n",
              "                        <td id=\"T_9a74fa86_fb3b_11eb_b12b_0242ac1c0002row5_col2\" class=\"data row5 col2\" >0.1742</td>\n",
              "                        <td id=\"T_9a74fa86_fb3b_11eb_b12b_0242ac1c0002row5_col3\" class=\"data row5 col3\" >0.3113</td>\n",
              "                        <td id=\"T_9a74fa86_fb3b_11eb_b12b_0242ac1c0002row5_col4\" class=\"data row5 col4\" >0.3233</td>\n",
              "                        <td id=\"T_9a74fa86_fb3b_11eb_b12b_0242ac1c0002row5_col5\" class=\"data row5 col5\" >1.0000</td>\n",
              "                        <td id=\"T_9a74fa86_fb3b_11eb_b12b_0242ac1c0002row5_col6\" class=\"data row5 col6\" >0.3815</td>\n",
              "            </tr>\n",
              "            <tr>\n",
              "                        <th id=\"T_9a74fa86_fb3b_11eb_b12b_0242ac1c0002level0_row6\" class=\"row_heading level0 row6\" >Companion</th>\n",
              "                        <td id=\"T_9a74fa86_fb3b_11eb_b12b_0242ac1c0002row6_col0\" class=\"data row6 col0\" >0.0236</td>\n",
              "                        <td id=\"T_9a74fa86_fb3b_11eb_b12b_0242ac1c0002row6_col1\" class=\"data row6 col1\" >0.0500</td>\n",
              "                        <td id=\"T_9a74fa86_fb3b_11eb_b12b_0242ac1c0002row6_col2\" class=\"data row6 col2\" >-0.1970</td>\n",
              "                        <td id=\"T_9a74fa86_fb3b_11eb_b12b_0242ac1c0002row6_col3\" class=\"data row6 col3\" >0.8620</td>\n",
              "                        <td id=\"T_9a74fa86_fb3b_11eb_b12b_0242ac1c0002row6_col4\" class=\"data row6 col4\" >0.7923</td>\n",
              "                        <td id=\"T_9a74fa86_fb3b_11eb_b12b_0242ac1c0002row6_col5\" class=\"data row6 col5\" >0.3815</td>\n",
              "                        <td id=\"T_9a74fa86_fb3b_11eb_b12b_0242ac1c0002row6_col6\" class=\"data row6 col6\" >1.0000</td>\n",
              "            </tr>\n",
              "    </tbody></table>"
            ],
            "text/plain": [
              "<pandas.io.formats.style.Styler at 0x7f3810eb3f90>"
            ]
          },
          "metadata": {
            "tags": []
          },
          "execution_count": 58
        }
      ]
    },
    {
      "cell_type": "code",
      "metadata": {
        "id": "n9qYFjjtLbaY"
      },
      "source": [
        "feats.to_csv(feature_file)"
      ],
      "execution_count": 59,
      "outputs": []
    },
    {
      "cell_type": "code",
      "metadata": {
        "colab": {
          "base_uri": "https://localhost:8080/"
        },
        "id": "ygowNBRRLmUH",
        "outputId": "8bd7e5ba-f385-46bf-9fd2-242e783b48b9"
      },
      "source": [
        "!ls -alF"
      ],
      "execution_count": 60,
      "outputs": [
        {
          "output_type": "stream",
          "text": [
            "total 264\n",
            "drwxr-xr-x 1 root root   4096 Aug 12 07:05 ./\n",
            "drwxr-xr-x 1 root root   4096 Aug 12 05:42 ../\n",
            "drwxr-xr-x 4 root root   4096 Jul 16 13:19 .config/\n",
            "-rw-r--r-- 1 root root 122364 Aug 12 07:05 feature.csv\n",
            "drwxr-xr-x 1 root root   4096 Jul 16 13:20 sample_data/\n",
            "-rw-r--r-- 1 root root   3258 Nov 19  2019 submission.csv\n",
            "-rw-r--r-- 1 root root  28629 Nov 18  2019 test.csv\n",
            "-rw-r--r-- 1 root root  34348 Aug 12 05:49 titanic_data.zip\n",
            "-rw-r--r-- 1 root root  61194 Nov 18  2019 train.csv\n"
          ],
          "name": "stdout"
        }
      ]
    },
    {
      "cell_type": "code",
      "metadata": {
        "colab": {
          "base_uri": "https://localhost:8080/",
          "height": 17
        },
        "id": "SM7ILkuHLpSJ",
        "outputId": "73463dd1-d15d-462a-cbb1-e03e974206ff"
      },
      "source": [
        "files.download(feature_file)"
      ],
      "execution_count": 61,
      "outputs": [
        {
          "output_type": "display_data",
          "data": {
            "application/javascript": [
              "\n",
              "    async function download(id, filename, size) {\n",
              "      if (!google.colab.kernel.accessAllowed) {\n",
              "        return;\n",
              "      }\n",
              "      const div = document.createElement('div');\n",
              "      const label = document.createElement('label');\n",
              "      label.textContent = `Downloading \"${filename}\": `;\n",
              "      div.appendChild(label);\n",
              "      const progress = document.createElement('progress');\n",
              "      progress.max = size;\n",
              "      div.appendChild(progress);\n",
              "      document.body.appendChild(div);\n",
              "\n",
              "      const buffers = [];\n",
              "      let downloaded = 0;\n",
              "\n",
              "      const channel = await google.colab.kernel.comms.open(id);\n",
              "      // Send a message to notify the kernel that we're ready.\n",
              "      channel.send({})\n",
              "\n",
              "      for await (const message of channel.messages) {\n",
              "        // Send a message to notify the kernel that we're ready.\n",
              "        channel.send({})\n",
              "        if (message.buffers) {\n",
              "          for (const buffer of message.buffers) {\n",
              "            buffers.push(buffer);\n",
              "            downloaded += buffer.byteLength;\n",
              "            progress.value = downloaded;\n",
              "          }\n",
              "        }\n",
              "      }\n",
              "      const blob = new Blob(buffers, {type: 'application/binary'});\n",
              "      const a = document.createElement('a');\n",
              "      a.href = window.URL.createObjectURL(blob);\n",
              "      a.download = filename;\n",
              "      div.appendChild(a);\n",
              "      a.click();\n",
              "      div.remove();\n",
              "    }\n",
              "  "
            ],
            "text/plain": [
              "<IPython.core.display.Javascript object>"
            ]
          },
          "metadata": {
            "tags": []
          }
        },
        {
          "output_type": "display_data",
          "data": {
            "application/javascript": [
              "download(\"download_c5629847-c8e5-4bf5-b3ae-9f055bdde4e5\", \"feature.csv\", 122364)"
            ],
            "text/plain": [
              "<IPython.core.display.Javascript object>"
            ]
          },
          "metadata": {
            "tags": []
          }
        }
      ]
    }
  ]
}