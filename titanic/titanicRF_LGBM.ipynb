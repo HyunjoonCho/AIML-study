{
  "nbformat": 4,
  "nbformat_minor": 2,
  "metadata": {
    "colab": {
      "name": "titanicRF-LGBM.ipynb",
      "provenance": []
    },
    "kernelspec": {
      "name": "python3",
      "display_name": "Python 3"
    },
    "language_info": {
      "name": "python"
    }
  },
  "cells": [
    {
      "cell_type": "code",
      "execution_count": null,
      "source": [
        "from google.colab import files\r\n",
        "files.upload()"
      ],
      "outputs": [],
      "metadata": {
        "id": "A799Dd74LWuW"
      }
    },
    {
      "cell_type": "code",
      "execution_count": 2,
      "source": [
        "from matplotlib import pyplot as plt\r\n",
        "from matplotlib import rcParams\r\n",
        "import numpy as np\r\n",
        "from pathlib import Path\r\n",
        "import pandas as pd\r\n",
        "from sklearn.ensemble import RandomForestClassifier\r\n",
        "from sklearn.metrics import accuracy_score\r\n",
        "from sklearn.model_selection import train_test_split\r\n",
        "import seaborn as sns\r\n",
        "import warnings\r\n",
        "\r\n",
        "rcParams['figure.figsize'] = (16, 8)\r\n",
        "plt.style.use('fivethirtyeight')\r\n",
        "pd.set_option('max_columns', 100)\r\n",
        "pd.set_option(\"display.precision\", 4)\r\n",
        "warnings.simplefilter('ignore')"
      ],
      "outputs": [],
      "metadata": {
        "id": "TR5RjWFSLlfv"
      }
    },
    {
      "cell_type": "code",
      "execution_count": 3,
      "source": [
        "!unzip data.zip"
      ],
      "outputs": [
        {
          "output_type": "stream",
          "name": "stdout",
          "text": [
            "Archive:  data.zip\n",
            "  inflating: feature.csv             \n",
            "  inflating: feature2.csv            \n",
            "  inflating: submission.csv          \n",
            "  inflating: test.csv                \n",
            "  inflating: train.csv               \n"
          ]
        }
      ],
      "metadata": {
        "colab": {
          "base_uri": "https://localhost:8080/"
        },
        "id": "HP-dqpwWLsLo",
        "outputId": "88954607-8f79-4b3a-80bd-b01d6ddcb2ca"
      }
    },
    {
      "cell_type": "code",
      "execution_count": 25,
      "source": [
        "data_dir = Path('.')\r\n",
        "sub_dir = Path('./sub')\r\n",
        "\r\n",
        "trn_file = data_dir / 'train.csv'\r\n",
        "tst_file = data_dir / 'test.csv'\r\n",
        "sample_file = data_dir / 'submission.csv'\r\n",
        "\r\n",
        "target_col = 'Survived'\r\n",
        "seed = 42"
      ],
      "outputs": [],
      "metadata": {
        "id": "cTGSyf8dLvP-"
      }
    },
    {
      "cell_type": "code",
      "execution_count": 26,
      "source": [
        "feature_file = data_dir / 'feature2.csv'\r\n",
        "feat = pd.read_csv(feature_file, index_col=0)\r\n",
        "feat.head()"
      ],
      "outputs": [
        {
          "output_type": "execute_result",
          "data": {
            "text/plain": [
              "             Survived  Pclass  \\\n",
              "PassengerId                     \n",
              "1                 0.0       3   \n",
              "2                 1.0       1   \n",
              "3                 1.0       3   \n",
              "4                 1.0       1   \n",
              "5                 0.0       3   \n",
              "\n",
              "                                                          Name  Sex   Age  \\\n",
              "PassengerId                                                                 \n",
              "1                                      Braund, Mr. Owen Harris    1  22.0   \n",
              "2            Cumings, Mrs. John Bradley (Florence Briggs Th...    0  38.0   \n",
              "3                                       Heikkinen, Miss. Laina    0  26.0   \n",
              "4                 Futrelle, Mrs. Jacques Heath (Lily May Peel)    0  35.0   \n",
              "5                                     Allen, Mr. William Henry    1  35.0   \n",
              "\n",
              "             SibSp  Parch            Ticket    Fare Embarked  Companion  \\\n",
              "PassengerId                                                               \n",
              "1                1      0         A/5 21171  2.1102        S        1.0   \n",
              "2                1      0          PC 17599  4.2806        C        1.0   \n",
              "3                0      0  STON/O2. 3101282  2.1889        S        0.0   \n",
              "4                1      0            113803  3.9908        S        1.0   \n",
              "5                0      0            373450  2.2028        S        0.0   \n",
              "\n",
              "             EmbarkedC  EmbarkedQ  EmbarkedS  \n",
              "PassengerId                                   \n",
              "1                    0          0          1  \n",
              "2                    1          0          0  \n",
              "3                    0          0          1  \n",
              "4                    0          0          1  \n",
              "5                    0          0          1  "
            ],
            "text/html": [
              "<div>\n",
              "<style scoped>\n",
              "    .dataframe tbody tr th:only-of-type {\n",
              "        vertical-align: middle;\n",
              "    }\n",
              "\n",
              "    .dataframe tbody tr th {\n",
              "        vertical-align: top;\n",
              "    }\n",
              "\n",
              "    .dataframe thead th {\n",
              "        text-align: right;\n",
              "    }\n",
              "</style>\n",
              "<table border=\"1\" class=\"dataframe\">\n",
              "  <thead>\n",
              "    <tr style=\"text-align: right;\">\n",
              "      <th></th>\n",
              "      <th>Survived</th>\n",
              "      <th>Pclass</th>\n",
              "      <th>Name</th>\n",
              "      <th>Sex</th>\n",
              "      <th>Age</th>\n",
              "      <th>SibSp</th>\n",
              "      <th>Parch</th>\n",
              "      <th>Ticket</th>\n",
              "      <th>Fare</th>\n",
              "      <th>Embarked</th>\n",
              "      <th>Companion</th>\n",
              "      <th>EmbarkedC</th>\n",
              "      <th>EmbarkedQ</th>\n",
              "      <th>EmbarkedS</th>\n",
              "    </tr>\n",
              "    <tr>\n",
              "      <th>PassengerId</th>\n",
              "      <th></th>\n",
              "      <th></th>\n",
              "      <th></th>\n",
              "      <th></th>\n",
              "      <th></th>\n",
              "      <th></th>\n",
              "      <th></th>\n",
              "      <th></th>\n",
              "      <th></th>\n",
              "      <th></th>\n",
              "      <th></th>\n",
              "      <th></th>\n",
              "      <th></th>\n",
              "      <th></th>\n",
              "    </tr>\n",
              "  </thead>\n",
              "  <tbody>\n",
              "    <tr>\n",
              "      <th>1</th>\n",
              "      <td>0.0</td>\n",
              "      <td>3</td>\n",
              "      <td>Braund, Mr. Owen Harris</td>\n",
              "      <td>1</td>\n",
              "      <td>22.0</td>\n",
              "      <td>1</td>\n",
              "      <td>0</td>\n",
              "      <td>A/5 21171</td>\n",
              "      <td>2.1102</td>\n",
              "      <td>S</td>\n",
              "      <td>1.0</td>\n",
              "      <td>0</td>\n",
              "      <td>0</td>\n",
              "      <td>1</td>\n",
              "    </tr>\n",
              "    <tr>\n",
              "      <th>2</th>\n",
              "      <td>1.0</td>\n",
              "      <td>1</td>\n",
              "      <td>Cumings, Mrs. John Bradley (Florence Briggs Th...</td>\n",
              "      <td>0</td>\n",
              "      <td>38.0</td>\n",
              "      <td>1</td>\n",
              "      <td>0</td>\n",
              "      <td>PC 17599</td>\n",
              "      <td>4.2806</td>\n",
              "      <td>C</td>\n",
              "      <td>1.0</td>\n",
              "      <td>1</td>\n",
              "      <td>0</td>\n",
              "      <td>0</td>\n",
              "    </tr>\n",
              "    <tr>\n",
              "      <th>3</th>\n",
              "      <td>1.0</td>\n",
              "      <td>3</td>\n",
              "      <td>Heikkinen, Miss. Laina</td>\n",
              "      <td>0</td>\n",
              "      <td>26.0</td>\n",
              "      <td>0</td>\n",
              "      <td>0</td>\n",
              "      <td>STON/O2. 3101282</td>\n",
              "      <td>2.1889</td>\n",
              "      <td>S</td>\n",
              "      <td>0.0</td>\n",
              "      <td>0</td>\n",
              "      <td>0</td>\n",
              "      <td>1</td>\n",
              "    </tr>\n",
              "    <tr>\n",
              "      <th>4</th>\n",
              "      <td>1.0</td>\n",
              "      <td>1</td>\n",
              "      <td>Futrelle, Mrs. Jacques Heath (Lily May Peel)</td>\n",
              "      <td>0</td>\n",
              "      <td>35.0</td>\n",
              "      <td>1</td>\n",
              "      <td>0</td>\n",
              "      <td>113803</td>\n",
              "      <td>3.9908</td>\n",
              "      <td>S</td>\n",
              "      <td>1.0</td>\n",
              "      <td>0</td>\n",
              "      <td>0</td>\n",
              "      <td>1</td>\n",
              "    </tr>\n",
              "    <tr>\n",
              "      <th>5</th>\n",
              "      <td>0.0</td>\n",
              "      <td>3</td>\n",
              "      <td>Allen, Mr. William Henry</td>\n",
              "      <td>1</td>\n",
              "      <td>35.0</td>\n",
              "      <td>0</td>\n",
              "      <td>0</td>\n",
              "      <td>373450</td>\n",
              "      <td>2.2028</td>\n",
              "      <td>S</td>\n",
              "      <td>0.0</td>\n",
              "      <td>0</td>\n",
              "      <td>0</td>\n",
              "      <td>1</td>\n",
              "    </tr>\n",
              "  </tbody>\n",
              "</table>\n",
              "</div>"
            ]
          },
          "metadata": {
            "tags": []
          },
          "execution_count": 26
        }
      ],
      "metadata": {
        "colab": {
          "base_uri": "https://localhost:8080/",
          "height": 235
        },
        "id": "j9mKzw8DL4V-",
        "outputId": "576cc0b2-0bce-40bf-8680-295da04f2bb4"
      }
    },
    {
      "cell_type": "code",
      "execution_count": 27,
      "source": [
        "feat.drop(['Name','Ticket', 'Embarked'], axis=1, inplace=True) # Name and Ticket requires preprocessing"
      ],
      "outputs": [],
      "metadata": {
        "id": "YBXKmmXDMEzu"
      }
    },
    {
      "cell_type": "code",
      "execution_count": 28,
      "source": [
        "feat.head()"
      ],
      "outputs": [
        {
          "output_type": "execute_result",
          "data": {
            "text/plain": [
              "             Survived  Pclass  Sex   Age  SibSp  Parch    Fare  Companion  \\\n",
              "PassengerId                                                                 \n",
              "1                 0.0       3    1  22.0      1      0  2.1102        1.0   \n",
              "2                 1.0       1    0  38.0      1      0  4.2806        1.0   \n",
              "3                 1.0       3    0  26.0      0      0  2.1889        0.0   \n",
              "4                 1.0       1    0  35.0      1      0  3.9908        1.0   \n",
              "5                 0.0       3    1  35.0      0      0  2.2028        0.0   \n",
              "\n",
              "             EmbarkedC  EmbarkedQ  EmbarkedS  \n",
              "PassengerId                                   \n",
              "1                    0          0          1  \n",
              "2                    1          0          0  \n",
              "3                    0          0          1  \n",
              "4                    0          0          1  \n",
              "5                    0          0          1  "
            ],
            "text/html": [
              "<div>\n",
              "<style scoped>\n",
              "    .dataframe tbody tr th:only-of-type {\n",
              "        vertical-align: middle;\n",
              "    }\n",
              "\n",
              "    .dataframe tbody tr th {\n",
              "        vertical-align: top;\n",
              "    }\n",
              "\n",
              "    .dataframe thead th {\n",
              "        text-align: right;\n",
              "    }\n",
              "</style>\n",
              "<table border=\"1\" class=\"dataframe\">\n",
              "  <thead>\n",
              "    <tr style=\"text-align: right;\">\n",
              "      <th></th>\n",
              "      <th>Survived</th>\n",
              "      <th>Pclass</th>\n",
              "      <th>Sex</th>\n",
              "      <th>Age</th>\n",
              "      <th>SibSp</th>\n",
              "      <th>Parch</th>\n",
              "      <th>Fare</th>\n",
              "      <th>Companion</th>\n",
              "      <th>EmbarkedC</th>\n",
              "      <th>EmbarkedQ</th>\n",
              "      <th>EmbarkedS</th>\n",
              "    </tr>\n",
              "    <tr>\n",
              "      <th>PassengerId</th>\n",
              "      <th></th>\n",
              "      <th></th>\n",
              "      <th></th>\n",
              "      <th></th>\n",
              "      <th></th>\n",
              "      <th></th>\n",
              "      <th></th>\n",
              "      <th></th>\n",
              "      <th></th>\n",
              "      <th></th>\n",
              "      <th></th>\n",
              "    </tr>\n",
              "  </thead>\n",
              "  <tbody>\n",
              "    <tr>\n",
              "      <th>1</th>\n",
              "      <td>0.0</td>\n",
              "      <td>3</td>\n",
              "      <td>1</td>\n",
              "      <td>22.0</td>\n",
              "      <td>1</td>\n",
              "      <td>0</td>\n",
              "      <td>2.1102</td>\n",
              "      <td>1.0</td>\n",
              "      <td>0</td>\n",
              "      <td>0</td>\n",
              "      <td>1</td>\n",
              "    </tr>\n",
              "    <tr>\n",
              "      <th>2</th>\n",
              "      <td>1.0</td>\n",
              "      <td>1</td>\n",
              "      <td>0</td>\n",
              "      <td>38.0</td>\n",
              "      <td>1</td>\n",
              "      <td>0</td>\n",
              "      <td>4.2806</td>\n",
              "      <td>1.0</td>\n",
              "      <td>1</td>\n",
              "      <td>0</td>\n",
              "      <td>0</td>\n",
              "    </tr>\n",
              "    <tr>\n",
              "      <th>3</th>\n",
              "      <td>1.0</td>\n",
              "      <td>3</td>\n",
              "      <td>0</td>\n",
              "      <td>26.0</td>\n",
              "      <td>0</td>\n",
              "      <td>0</td>\n",
              "      <td>2.1889</td>\n",
              "      <td>0.0</td>\n",
              "      <td>0</td>\n",
              "      <td>0</td>\n",
              "      <td>1</td>\n",
              "    </tr>\n",
              "    <tr>\n",
              "      <th>4</th>\n",
              "      <td>1.0</td>\n",
              "      <td>1</td>\n",
              "      <td>0</td>\n",
              "      <td>35.0</td>\n",
              "      <td>1</td>\n",
              "      <td>0</td>\n",
              "      <td>3.9908</td>\n",
              "      <td>1.0</td>\n",
              "      <td>0</td>\n",
              "      <td>0</td>\n",
              "      <td>1</td>\n",
              "    </tr>\n",
              "    <tr>\n",
              "      <th>5</th>\n",
              "      <td>0.0</td>\n",
              "      <td>3</td>\n",
              "      <td>1</td>\n",
              "      <td>35.0</td>\n",
              "      <td>0</td>\n",
              "      <td>0</td>\n",
              "      <td>2.2028</td>\n",
              "      <td>0.0</td>\n",
              "      <td>0</td>\n",
              "      <td>0</td>\n",
              "      <td>1</td>\n",
              "    </tr>\n",
              "  </tbody>\n",
              "</table>\n",
              "</div>"
            ]
          },
          "metadata": {
            "tags": []
          },
          "execution_count": 28
        }
      ],
      "metadata": {
        "colab": {
          "base_uri": "https://localhost:8080/",
          "height": 235
        },
        "id": "n3J0dqDgMOwd",
        "outputId": "13fd9b51-378c-45f9-96a5-6ec3096a0f90"
      }
    },
    {
      "cell_type": "code",
      "execution_count": 29,
      "source": [
        "train_set_size = 891\r\n",
        "y = feat[target_col].values[:train_set_size]\r\n",
        "feat.drop(target_col, axis=1, inplace=True)\r\n",
        "trn = feat.iloc[:train_set_size]\r\n",
        "tst = feat.iloc[train_set_size:]\r\n",
        "feature_name = feat.columns.tolist()\r\n",
        "print(y.shape, trn.shape, tst.shape)"
      ],
      "outputs": [
        {
          "output_type": "stream",
          "name": "stdout",
          "text": [
            "(891,) (891, 10) (418, 10)\n"
          ]
        }
      ],
      "metadata": {
        "colab": {
          "base_uri": "https://localhost:8080/"
        },
        "id": "ICXbKFWsMQVA",
        "outputId": "f3df579c-76c5-40e0-d264-bad11f839032"
      }
    },
    {
      "cell_type": "code",
      "execution_count": 30,
      "source": [
        "X_trn, X_val, y_trn, y_val = train_test_split(trn, y, test_size=.2, random_state=seed)\r\n",
        "print(X_trn.shape, X_val.shape, y_trn.shape, y_val.shape)"
      ],
      "outputs": [
        {
          "output_type": "stream",
          "name": "stdout",
          "text": [
            "(712, 10) (179, 10) (712,) (179,)\n"
          ]
        }
      ],
      "metadata": {
        "colab": {
          "base_uri": "https://localhost:8080/"
        },
        "id": "NYh2k1B4Mq51",
        "outputId": "725a5888-3dfa-4c05-9e6e-54caadcc9427"
      }
    },
    {
      "cell_type": "markdown",
      "source": [
        "### Random Forest"
      ],
      "metadata": {
        "id": "i99I20eLOFvk"
      }
    },
    {
      "cell_type": "code",
      "execution_count": 31,
      "source": [
        "algo_name = 'rf'\r\n",
        "model_name = f'{algo_name}_{feature_name}'\r\n",
        "sub_file = sub_dir / f'{model_name}.csv' \r\n",
        "print(sub_file)"
      ],
      "outputs": [
        {
          "output_type": "stream",
          "name": "stdout",
          "text": [
            "sub/rf_['Pclass', 'Sex', 'Age', 'SibSp', 'Parch', 'Fare', 'Companion', 'EmbarkedC', 'EmbarkedQ', 'EmbarkedS'].csv\n"
          ]
        }
      ],
      "metadata": {
        "colab": {
          "base_uri": "https://localhost:8080/"
        },
        "id": "PutI3t6IM3cX",
        "outputId": "9182118b-12fa-4d4d-a4ee-a68f4592ad02"
      }
    },
    {
      "cell_type": "code",
      "execution_count": 32,
      "source": [
        "clf = RandomForestClassifier(n_estimators=100,\r\n",
        "                             min_samples_leaf=10,\r\n",
        "                             max_features='auto',\r\n",
        "                             max_samples=.5,\r\n",
        "                             random_state=seed,\r\n",
        "                             n_jobs=-1)\r\n",
        "clf.fit(X_trn, y_trn)\r\n",
        "p_val = clf.predict(X_val)\r\n",
        "p_tst = clf.predict(tst)"
      ],
      "outputs": [],
      "metadata": {
        "id": "f9eMVIGCNOLx"
      }
    },
    {
      "cell_type": "code",
      "execution_count": 33,
      "source": [
        "print(f'{accuracy_score(y_val, p_val) * 100:.4f}%')"
      ],
      "outputs": [
        {
          "output_type": "stream",
          "name": "stdout",
          "text": [
            "81.5642%\n"
          ]
        }
      ],
      "metadata": {
        "colab": {
          "base_uri": "https://localhost:8080/"
        },
        "id": "WnotmXNWNS4F",
        "outputId": "8bc2fe36-27c0-4870-b31c-99480d2341de"
      }
    },
    {
      "cell_type": "code",
      "execution_count": 34,
      "source": [
        "imp = pd.DataFrame({'feature': trn.columns, 'importance': clf.feature_importances_})\r\n",
        "imp = imp.sort_values('importance').set_index('feature')\r\n",
        "imp.plot(kind='barh')"
      ],
      "outputs": [
        {
          "output_type": "execute_result",
          "data": {
            "text/plain": [
              "<matplotlib.axes._subplots.AxesSubplot at 0x7f40d3e3a1d0>"
            ]
          },
          "metadata": {
            "tags": []
          },
          "execution_count": 34
        },
        {
          "output_type": "display_data",
          "data": {
            "text/plain": [
              "<Figure size 1152x576 with 1 Axes>"
            ],
            "image/png": "[encoded data removed]"
          },
          "metadata": {
            "tags": []
          }
        }
      ],
      "metadata": {
        "colab": {
          "base_uri": "https://localhost:8080/",
          "height": 533
        },
        "id": "DM7wlkq0OBNi",
        "outputId": "c604d8a4-8c64-4915-ebce-05239dcf7c3d"
      }
    },
    {
      "cell_type": "markdown",
      "source": [
        "### Light GBM"
      ],
      "metadata": {
        "id": "fgqdvwx8OI8j"
      }
    },
    {
      "cell_type": "code",
      "execution_count": 40,
      "source": [
        "algo_name = 'lgbm'\r\n",
        "model_name = f'{algo_name}_{feature_name}' # {feature_name} 사용하면 파일명이 지나치게 길어져 제출시 에러 발생\r\n",
        "sub_file = sub_dir / f'{model_name}.csv'\r\n",
        "print(sub_file)"
      ],
      "outputs": [
        {
          "output_type": "stream",
          "name": "stdout",
          "text": [
            "sub/lgb_['Pclass', 'Sex', 'Age', 'SibSp', 'Parch', 'Fare', 'Companion', 'EmbarkedC', 'EmbarkedQ', 'EmbarkedS'].csv\n"
          ]
        }
      ],
      "metadata": {
        "colab": {
          "base_uri": "https://localhost:8080/"
        },
        "id": "akpT9T87OETL",
        "outputId": "7cf4d93f-bcd2-4c25-a323-52c9c8251fb2"
      }
    },
    {
      "cell_type": "code",
      "execution_count": 42,
      "source": [
        "import lightgbm as lgb\r\n",
        "clf = lgb.LGBMClassifier(objective='binary',\r\n",
        "                         n_estimators=1000,\r\n",
        "                         num_leaves=64,\r\n",
        "                         learning_rate=0.1,\r\n",
        "                         min_child_samples=10,\r\n",
        "                         subsample=.5,\r\n",
        "                         subsample_freq=1,\r\n",
        "                         colsample_bytree=.8,\r\n",
        "                         random_state=seed,\r\n",
        "                         n_jobs=-1)\r\n",
        "clf.fit(X_trn, y_trn,\r\n",
        "        eval_set=[(X_val, y_val)],\r\n",
        "        eval_metric='binary',\r\n",
        "        early_stopping_rounds=10)\r\n",
        "p_val = clf.predict(X_val)\r\n",
        "p_tst = clf.predict(tst)"
      ],
      "outputs": [
        {
          "output_type": "stream",
          "name": "stdout",
          "text": [
            "[1]\tvalid_0's binary_logloss: 0.641904\n",
            "Training until validation scores don't improve for 10 rounds.\n",
            "[2]\tvalid_0's binary_logloss: 0.60704\n",
            "[3]\tvalid_0's binary_logloss: 0.578104\n",
            "[4]\tvalid_0's binary_logloss: 0.553382\n",
            "[5]\tvalid_0's binary_logloss: 0.531899\n",
            "[6]\tvalid_0's binary_logloss: 0.515221\n",
            "[7]\tvalid_0's binary_logloss: 0.508985\n",
            "[8]\tvalid_0's binary_logloss: 0.496375\n",
            "[9]\tvalid_0's binary_logloss: 0.489475\n",
            "[10]\tvalid_0's binary_logloss: 0.479458\n",
            "[11]\tvalid_0's binary_logloss: 0.466628\n",
            "[12]\tvalid_0's binary_logloss: 0.458098\n",
            "[13]\tvalid_0's binary_logloss: 0.451191\n",
            "[14]\tvalid_0's binary_logloss: 0.443709\n",
            "[15]\tvalid_0's binary_logloss: 0.441654\n",
            "[16]\tvalid_0's binary_logloss: 0.439362\n",
            "[17]\tvalid_0's binary_logloss: 0.431888\n",
            "[18]\tvalid_0's binary_logloss: 0.433514\n",
            "[19]\tvalid_0's binary_logloss: 0.431833\n",
            "[20]\tvalid_0's binary_logloss: 0.426858\n",
            "[21]\tvalid_0's binary_logloss: 0.42555\n",
            "[22]\tvalid_0's binary_logloss: 0.425826\n",
            "[23]\tvalid_0's binary_logloss: 0.423177\n",
            "[24]\tvalid_0's binary_logloss: 0.422348\n",
            "[25]\tvalid_0's binary_logloss: 0.419063\n",
            "[26]\tvalid_0's binary_logloss: 0.415408\n",
            "[27]\tvalid_0's binary_logloss: 0.417261\n",
            "[28]\tvalid_0's binary_logloss: 0.417016\n",
            "[29]\tvalid_0's binary_logloss: 0.418514\n",
            "[30]\tvalid_0's binary_logloss: 0.417312\n",
            "[31]\tvalid_0's binary_logloss: 0.415812\n",
            "[32]\tvalid_0's binary_logloss: 0.41428\n",
            "[33]\tvalid_0's binary_logloss: 0.41346\n",
            "[34]\tvalid_0's binary_logloss: 0.414579\n",
            "[35]\tvalid_0's binary_logloss: 0.408921\n",
            "[36]\tvalid_0's binary_logloss: 0.412063\n",
            "[37]\tvalid_0's binary_logloss: 0.411704\n",
            "[38]\tvalid_0's binary_logloss: 0.409018\n",
            "[39]\tvalid_0's binary_logloss: 0.408472\n",
            "[40]\tvalid_0's binary_logloss: 0.407376\n",
            "[41]\tvalid_0's binary_logloss: 0.407026\n",
            "[42]\tvalid_0's binary_logloss: 0.404866\n",
            "[43]\tvalid_0's binary_logloss: 0.402513\n",
            "[44]\tvalid_0's binary_logloss: 0.403392\n",
            "[45]\tvalid_0's binary_logloss: 0.403475\n",
            "[46]\tvalid_0's binary_logloss: 0.404969\n",
            "[47]\tvalid_0's binary_logloss: 0.408856\n",
            "[48]\tvalid_0's binary_logloss: 0.410553\n",
            "[49]\tvalid_0's binary_logloss: 0.413028\n",
            "[50]\tvalid_0's binary_logloss: 0.412185\n",
            "[51]\tvalid_0's binary_logloss: 0.412761\n",
            "[52]\tvalid_0's binary_logloss: 0.411253\n",
            "[53]\tvalid_0's binary_logloss: 0.407443\n",
            "Early stopping, best iteration is:\n",
            "[43]\tvalid_0's binary_logloss: 0.402513\n"
          ]
        }
      ],
      "metadata": {
        "colab": {
          "base_uri": "https://localhost:8080/"
        },
        "id": "mvLxYI7HOqgi",
        "outputId": "fcb2a33e-bbc0-40ba-f7c3-22bece03b2a4"
      }
    },
    {
      "cell_type": "code",
      "execution_count": 43,
      "source": [
        "print(f'{accuracy_score(y_val, p_val) * 100:.4f}%')"
      ],
      "outputs": [
        {
          "output_type": "stream",
          "name": "stdout",
          "text": [
            "82.1229%\n"
          ]
        }
      ],
      "metadata": {
        "colab": {
          "base_uri": "https://localhost:8080/"
        },
        "id": "caZiTh6OPfIW",
        "outputId": "b8815644-4fd7-4814-d6a4-889f2d914610"
      }
    },
    {
      "cell_type": "code",
      "execution_count": 44,
      "source": [
        "imp = pd.DataFrame({'feature': trn.columns, 'importance': clf.feature_importances_})\n",
        "imp = imp.sort_values('importance').set_index('feature')\n",
        "imp.plot(kind='barh')"
      ],
      "outputs": [
        {
          "output_type": "execute_result",
          "data": {
            "text/plain": [
              "<matplotlib.axes._subplots.AxesSubplot at 0x7f40d31312d0>"
            ]
          },
          "metadata": {
            "tags": []
          },
          "execution_count": 44
        },
        {
          "output_type": "display_data",
          "data": {
            "text/plain": [
              "<Figure size 1152x576 with 1 Axes>"
            ],
            "image/png": "[encoded data removed]"
          },
          "metadata": {
            "tags": []
          }
        }
      ],
      "metadata": {
        "colab": {
          "base_uri": "https://localhost:8080/",
          "height": 533
        },
        "id": "kg88BgIYPihA",
        "outputId": "469a9663-3a32-49c6-9e49-248d78abbb87"
      }
    },
    {
      "cell_type": "markdown",
      "source": [
        "### Prepare for Submission"
      ],
      "metadata": {
        "id": "KEEvIak1OWwR"
      }
    },
    {
      "cell_type": "code",
      "execution_count": 45,
      "source": [
        "sub = pd.read_csv(sample_file, index_col=0)\n",
        "print(sub.shape)\n",
        "sub.head()"
      ],
      "outputs": [
        {
          "output_type": "stream",
          "name": "stdout",
          "text": [
            "(418, 1)\n"
          ]
        },
        {
          "output_type": "execute_result",
          "data": {
            "text/plain": [
              "             Survived\n",
              "PassengerId          \n",
              "892                 0\n",
              "893                 1\n",
              "894                 0\n",
              "895                 0\n",
              "896                 1"
            ],
            "text/html": [
              "<div>\n",
              "<style scoped>\n",
              "    .dataframe tbody tr th:only-of-type {\n",
              "        vertical-align: middle;\n",
              "    }\n",
              "\n",
              "    .dataframe tbody tr th {\n",
              "        vertical-align: top;\n",
              "    }\n",
              "\n",
              "    .dataframe thead th {\n",
              "        text-align: right;\n",
              "    }\n",
              "</style>\n",
              "<table border=\"1\" class=\"dataframe\">\n",
              "  <thead>\n",
              "    <tr style=\"text-align: right;\">\n",
              "      <th></th>\n",
              "      <th>Survived</th>\n",
              "    </tr>\n",
              "    <tr>\n",
              "      <th>PassengerId</th>\n",
              "      <th></th>\n",
              "    </tr>\n",
              "  </thead>\n",
              "  <tbody>\n",
              "    <tr>\n",
              "      <th>892</th>\n",
              "      <td>0</td>\n",
              "    </tr>\n",
              "    <tr>\n",
              "      <th>893</th>\n",
              "      <td>1</td>\n",
              "    </tr>\n",
              "    <tr>\n",
              "      <th>894</th>\n",
              "      <td>0</td>\n",
              "    </tr>\n",
              "    <tr>\n",
              "      <th>895</th>\n",
              "      <td>0</td>\n",
              "    </tr>\n",
              "    <tr>\n",
              "      <th>896</th>\n",
              "      <td>1</td>\n",
              "    </tr>\n",
              "  </tbody>\n",
              "</table>\n",
              "</div>"
            ]
          },
          "metadata": {
            "tags": []
          },
          "execution_count": 45
        }
      ],
      "metadata": {
        "colab": {
          "base_uri": "https://localhost:8080/",
          "height": 253
        },
        "id": "4gIV2rMUOSyp",
        "outputId": "1b83f615-e6d0-4440-9b9f-ca80cdc1b4f5"
      }
    },
    {
      "cell_type": "code",
      "execution_count": 46,
      "source": [
        "sub[target_col] = p_tst\n",
        "sub.head()"
      ],
      "outputs": [
        {
          "output_type": "execute_result",
          "data": {
            "text/plain": [
              "             Survived\n",
              "PassengerId          \n",
              "892               0.0\n",
              "893               0.0\n",
              "894               0.0\n",
              "895               0.0\n",
              "896               0.0"
            ],
            "text/html": [
              "<div>\n",
              "<style scoped>\n",
              "    .dataframe tbody tr th:only-of-type {\n",
              "        vertical-align: middle;\n",
              "    }\n",
              "\n",
              "    .dataframe tbody tr th {\n",
              "        vertical-align: top;\n",
              "    }\n",
              "\n",
              "    .dataframe thead th {\n",
              "        text-align: right;\n",
              "    }\n",
              "</style>\n",
              "<table border=\"1\" class=\"dataframe\">\n",
              "  <thead>\n",
              "    <tr style=\"text-align: right;\">\n",
              "      <th></th>\n",
              "      <th>Survived</th>\n",
              "    </tr>\n",
              "    <tr>\n",
              "      <th>PassengerId</th>\n",
              "      <th></th>\n",
              "    </tr>\n",
              "  </thead>\n",
              "  <tbody>\n",
              "    <tr>\n",
              "      <th>892</th>\n",
              "      <td>0.0</td>\n",
              "    </tr>\n",
              "    <tr>\n",
              "      <th>893</th>\n",
              "      <td>0.0</td>\n",
              "    </tr>\n",
              "    <tr>\n",
              "      <th>894</th>\n",
              "      <td>0.0</td>\n",
              "    </tr>\n",
              "    <tr>\n",
              "      <th>895</th>\n",
              "      <td>0.0</td>\n",
              "    </tr>\n",
              "    <tr>\n",
              "      <th>896</th>\n",
              "      <td>0.0</td>\n",
              "    </tr>\n",
              "  </tbody>\n",
              "</table>\n",
              "</div>"
            ]
          },
          "metadata": {
            "tags": []
          },
          "execution_count": 46
        }
      ],
      "metadata": {
        "colab": {
          "base_uri": "https://localhost:8080/",
          "height": 235
        },
        "id": "sK0H65UwObax",
        "outputId": "ee6c464a-6665-448e-b950-3bffc2d7e694"
      }
    },
    {
      "cell_type": "code",
      "execution_count": 47,
      "source": [
        "sub[target_col].value_counts()"
      ],
      "outputs": [
        {
          "output_type": "execute_result",
          "data": {
            "text/plain": [
              "0.0    274\n",
              "1.0    144\n",
              "Name: Survived, dtype: int64"
            ]
          },
          "metadata": {
            "tags": []
          },
          "execution_count": 47
        }
      ],
      "metadata": {
        "colab": {
          "base_uri": "https://localhost:8080/"
        },
        "id": "iV1uTe6IOePj",
        "outputId": "9a798bc9-07fa-4916-c2c2-fbf963dc41ca"
      }
    },
    {
      "cell_type": "code",
      "execution_count": 48,
      "source": [
        "sub.to_csv(sub_file)"
      ],
      "outputs": [],
      "metadata": {
        "id": "lOcX-RjYOg8C"
      }
    },
    {
      "cell_type": "code",
      "execution_count": 49,
      "source": [
        "files.download(sub_file)"
      ],
      "outputs": [
        {
          "output_type": "display_data",
          "data": {
            "text/plain": [
              "<IPython.core.display.Javascript object>"
            ],
            "application/javascript": "\n    async function download(id, filename, size) {\n      if (!google.colab.kernel.accessAllowed) {\n        return;\n      }\n      const div = document.createElement('div');\n      const label = document.createElement('label');\n      label.textContent = `Downloading \"${filename}\": `;\n      div.appendChild(label);\n      const progress = document.createElement('progress');\n      progress.max = size;\n      div.appendChild(progress);\n      document.body.appendChild(div);\n\n      const buffers = [];\n      let downloaded = 0;\n\n      const channel = await google.colab.kernel.comms.open(id);\n      // Send a message to notify the kernel that we're ready.\n      channel.send({})\n\n      for await (const message of channel.messages) {\n        // Send a message to notify the kernel that we're ready.\n        channel.send({})\n        if (message.buffers) {\n          for (const buffer of message.buffers) {\n            buffers.push(buffer);\n            downloaded += buffer.byteLength;\n            progress.value = downloaded;\n          }\n        }\n      }\n      const blob = new Blob(buffers, {type: 'application/binary'});\n      const a = document.createElement('a');\n      a.href = window.URL.createObjectURL(blob);\n      a.download = filename;\n      div.appendChild(a);\n      a.click();\n      div.remove();\n    }\n  "
          },
          "metadata": {
            "tags": []
          }
        },
        {
          "output_type": "display_data",
          "data": {
            "text/plain": [
              "<IPython.core.display.Javascript object>"
            ],
            "application/javascript": "download(\"download_837071bc-44c2-4726-a53e-74ab75a00731\", \"lgb_['Pclass', 'Sex', 'Age', 'SibSp', 'Parch', 'Fare', 'Companion', 'EmbarkedC', 'EmbarkedQ', 'EmbarkedS'].csv\", 3675)"
          },
          "metadata": {
            "tags": []
          }
        }
      ],
      "metadata": {
        "colab": {
          "base_uri": "https://localhost:8080/",
          "height": 17
        },
        "id": "l26KCbBeOg2c",
        "outputId": "a2ecacbd-4861-4f3e-e9d1-1e2b91cf1dc1"
      }
    }
  ]
}