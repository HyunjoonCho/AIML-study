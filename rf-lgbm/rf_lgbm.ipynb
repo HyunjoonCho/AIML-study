{
  "nbformat": 4,
  "nbformat_minor": 0,
  "metadata": {
    "colab": {
      "name": "rf-lgbm.ipynb",
      "provenance": []
    },
    "kernelspec": {
      "name": "python3",
      "display_name": "Python 3"
    },
    "language_info": {
      "name": "python"
    }
  },
  "cells": [
    {
      "cell_type": "markdown",
      "metadata": {
        "id": "TV0oj9-2HgCp"
      },
      "source": [
        "### Random Forest\n",
        "* Ensemble 알고리즘?  \n",
        "기본 모델을 여러 개 사용해서 하나의 예측을 만들어내는 것  \n",
        "\n",
        "RF는 결정 트리 기반의 앙상블 알고리즘  \n",
        "\n",
        "1995년 랜덤 피처 - 2001년 랜덤 피처 + 랜덤 샘플(bagging)  \n",
        "결정 트리의 Overfitting 문제, 높은 variance 문제를 해결  \n",
        "01년 논문에서는 다수의 선택을 따랐으나 최근에는 확률의 평균을 산출해서 결정\n",
        "\n",
        "### Gradient Boosting Machine, GBM\n",
        "* GBM and Deep Learning  \n",
        "Tabular data(table 형태의 데이터)에서는 GBM이 가장 좋은 성능, 그 외의 경우 Deep Learning 활용  \n",
        "\n",
        "1997년 Boosting을 이용한 손실 함수 최적화 - 1999년 실제 알고리즘화  \n",
        "Boosting: 여러 결정트리를 활용하되, 이전 트리의 오차를 줄이는 방향으로 **순차적** 학습  \n",
        "개별 결정트리의 bais를 효과적으로 감소시켜 성능 향상\n",
        "\n",
        "Q. Bias(실제 에러) vs Variance(분산, 평균으로부터 벗어난 정도)?  \n",
        "대표적인 tool은 XGBoost(11-12년) and LightGBM(17년)  \n",
        "\n",
        "더 자세한 내용은 [블로그 포스트](https://bcho.tistory.com/1354) 참고\n"
      ]
    },
    {
      "cell_type": "code",
      "metadata": {
        "id": "RBDdz-CNG88M"
      },
      "source": [
        "from matplotlib import pyplot as plt\n",
        "from matplotlib import rcParams\n",
        "import numpy as np\n",
        "from pathlib import Path\n",
        "import pandas as pd\n",
        "from sklearn.ensemble import RandomForestClassifier\n",
        "from sklearn.metrics import accuracy_score\n",
        "from sklearn.model_selection import train_test_split\n",
        "import seaborn as sns\n",
        "import warnings"
      ],
      "execution_count": 2,
      "outputs": []
    },
    {
      "cell_type": "code",
      "metadata": {
        "id": "K7xVrFXlJHx1"
      },
      "source": [
        "rcParams['figure.figsize'] = (16, 8)\n",
        "plt.style.use('fivethirtyeight')\n",
        "pd.set_option('max_columns', 100)\n",
        "pd.set_option(\"display.precision\", 4)\n",
        "warnings.simplefilter('ignore')"
      ],
      "execution_count": 3,
      "outputs": []
    },
    {
      "cell_type": "code",
      "metadata": {
        "colab": {
          "resources": {
            "http://localhost:8080/nbextensions/google.colab/files.js": {
              "data": "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",
              "ok": true,
              "headers": [
                [
                  "content-type",
                  "application/javascript"
                ]
              ],
              "status": 200,
              "status_text": ""
            }
          },
          "base_uri": "https://localhost:8080/",
          "height": 77
        },
        "id": "bnjumoV_PLzA",
        "outputId": "37459cd7-6173-443c-bf46-e289b85843a9"
      },
      "source": [
        "from google.colab import files\n",
        "files.upload()"
      ],
      "execution_count": 4,
      "outputs": [
        {
          "output_type": "display_data",
          "data": {
            "text/html": [
              "\n",
              "     <input type=\"file\" id=\"files-cca2e36c-8bab-4c32-a7ee-6a447cf1ae8d\" name=\"files[]\" multiple disabled\n",
              "        style=\"border:none\" />\n",
              "     <output id=\"result-cca2e36c-8bab-4c32-a7ee-6a447cf1ae8d\">\n",
              "      Upload widget is only available when the cell has been executed in the\n",
              "      current browser session. Please rerun this cell to enable.\n",
              "      </output>\n",
              "      <script src=\"/nbextensions/google.colab/files.js\"></script> "
            ],
            "text/plain": [
              "<IPython.core.display.HTML object>"
            ]
          },
          "metadata": {
            "tags": []
          }
        },
        {
          "output_type": "stream",
          "text": [
            "Saving dku_data.zip to dku_data.zip\n"
          ],
          "name": "stdout"
        }
      ]
    },
    {
      "cell_type": "code",
      "metadata": {
        "colab": {
          "base_uri": "https://localhost:8080/"
        },
        "id": "MtZG92VuPZ7y",
        "outputId": "ef432f40-f16c-4ffa-b4ab-5f3671a84b2f"
      },
      "source": [
        "!unzip dku_data.zip"
      ],
      "execution_count": 5,
      "outputs": [
        {
          "output_type": "stream",
          "text": [
            "Archive:  dku_data.zip\n",
            "   creating: build/\n",
            "   creating: build/feature/\n",
            "  inflating: build/feature/feature.csv  \n",
            "   creating: build/sub/\n",
            "   creating: data/\n",
            "  inflating: data/sample_submission.csv  \n",
            "  inflating: data/test.csv           \n",
            "  inflating: data/train.csv          \n"
          ],
          "name": "stdout"
        }
      ]
    },
    {
      "cell_type": "code",
      "metadata": {
        "colab": {
          "base_uri": "https://localhost:8080/"
        },
        "id": "woY3Kn-BPbY5",
        "outputId": "4cc338d0-fb5c-4b40-f062-8e5c9cfd73ff"
      },
      "source": [
        "!ls"
      ],
      "execution_count": 6,
      "outputs": [
        {
          "output_type": "stream",
          "text": [
            "build  data  dku_data.zip  sample_data\n"
          ],
          "name": "stdout"
        }
      ]
    },
    {
      "cell_type": "code",
      "metadata": {
        "id": "CtJcCOWRJLFc"
      },
      "source": [
        "data_dir = Path('./data')\n",
        "feature_dir = Path('./build/feature')\n",
        "sub_dir = Path('./build/sub')\n",
        "\n",
        "trn_file = data_dir / 'train.csv'\n",
        "tst_file = data_dir / 'test.csv'\n",
        "sample_file = data_dir / 'sample_submission.csv'\n",
        "\n",
        "target_col = 'class'\n",
        "seed = 42"
      ],
      "execution_count": 7,
      "outputs": []
    },
    {
      "cell_type": "markdown",
      "metadata": {
        "id": "xe9O7gxzQnU-"
      },
      "source": [
        "### Loading Feature Data"
      ]
    },
    {
      "cell_type": "code",
      "metadata": {
        "id": "6nRGzWVTO0qE"
      },
      "source": [
        "feature_name = 'feature'\n",
        "feature_file = feature_dir / f'{feature_name}.csv'"
      ],
      "execution_count": 8,
      "outputs": []
    },
    {
      "cell_type": "code",
      "metadata": {
        "colab": {
          "base_uri": "https://localhost:8080/",
          "height": 361
        },
        "id": "kchf9fX8PCPH",
        "outputId": "7de9de3a-46b2-421d-aebb-160ca819456d"
      },
      "source": [
        "df = pd.read_csv(feature_file, index_col=0)\n",
        "print(df.shape)\n",
        "df.head()"
      ],
      "execution_count": 9,
      "outputs": [
        {
          "output_type": "stream",
          "text": [
            "(400000, 20)\n"
          ],
          "name": "stdout"
        },
        {
          "output_type": "execute_result",
          "data": {
            "text/html": [
              "<div>\n",
              "<style scoped>\n",
              "    .dataframe tbody tr th:only-of-type {\n",
              "        vertical-align: middle;\n",
              "    }\n",
              "\n",
              "    .dataframe tbody tr th {\n",
              "        vertical-align: top;\n",
              "    }\n",
              "\n",
              "    .dataframe thead th {\n",
              "        text-align: right;\n",
              "    }\n",
              "</style>\n",
              "<table border=\"1\" class=\"dataframe\">\n",
              "  <thead>\n",
              "    <tr style=\"text-align: right;\">\n",
              "      <th></th>\n",
              "      <th>z</th>\n",
              "      <th>redshift</th>\n",
              "      <th>dered_u</th>\n",
              "      <th>dered_g</th>\n",
              "      <th>dered_r</th>\n",
              "      <th>dered_i</th>\n",
              "      <th>dered_z</th>\n",
              "      <th>nObserve</th>\n",
              "      <th>airmass_u</th>\n",
              "      <th>class</th>\n",
              "      <th>d_dered_u</th>\n",
              "      <th>d_dered_g</th>\n",
              "      <th>d_dered_r</th>\n",
              "      <th>d_dered_i</th>\n",
              "      <th>d_dered_z</th>\n",
              "      <th>d_dered_ig</th>\n",
              "      <th>d_dered_zg</th>\n",
              "      <th>d_dered_rz</th>\n",
              "      <th>d_dered_iz</th>\n",
              "      <th>d_obs_det</th>\n",
              "    </tr>\n",
              "    <tr>\n",
              "      <th>id</th>\n",
              "      <th></th>\n",
              "      <th></th>\n",
              "      <th></th>\n",
              "      <th></th>\n",
              "      <th></th>\n",
              "      <th></th>\n",
              "      <th></th>\n",
              "      <th></th>\n",
              "      <th></th>\n",
              "      <th></th>\n",
              "      <th></th>\n",
              "      <th></th>\n",
              "      <th></th>\n",
              "      <th></th>\n",
              "      <th></th>\n",
              "      <th></th>\n",
              "      <th></th>\n",
              "      <th></th>\n",
              "      <th></th>\n",
              "      <th></th>\n",
              "    </tr>\n",
              "  </thead>\n",
              "  <tbody>\n",
              "    <tr>\n",
              "      <th>0</th>\n",
              "      <td>16.9396</td>\n",
              "      <td>-8.1086e-05</td>\n",
              "      <td>23.1243</td>\n",
              "      <td>20.2578</td>\n",
              "      <td>18.9551</td>\n",
              "      <td>17.6321</td>\n",
              "      <td>16.9089</td>\n",
              "      <td>2.9444</td>\n",
              "      <td>1.1898</td>\n",
              "      <td>0.0</td>\n",
              "      <td>-0.1397</td>\n",
              "      <td>-0.0790</td>\n",
              "      <td>-0.0544</td>\n",
              "      <td>-0.0403</td>\n",
              "      <td>-0.0307</td>\n",
              "      <td>-2.6257</td>\n",
              "      <td>-3.3488</td>\n",
              "      <td>2.0462</td>\n",
              "      <td>0.7232</td>\n",
              "      <td>-15.0556</td>\n",
              "    </tr>\n",
              "    <tr>\n",
              "      <th>1</th>\n",
              "      <td>13.1689</td>\n",
              "      <td>4.5061e-03</td>\n",
              "      <td>14.9664</td>\n",
              "      <td>14.0045</td>\n",
              "      <td>13.4114</td>\n",
              "      <td>13.2363</td>\n",
              "      <td>13.1347</td>\n",
              "      <td>0.6931</td>\n",
              "      <td>1.2533</td>\n",
              "      <td>1.0</td>\n",
              "      <td>-0.0857</td>\n",
              "      <td>-0.0574</td>\n",
              "      <td>-0.0410</td>\n",
              "      <td>-0.0322</td>\n",
              "      <td>-0.0343</td>\n",
              "      <td>-0.7683</td>\n",
              "      <td>-0.8698</td>\n",
              "      <td>0.2767</td>\n",
              "      <td>0.1016</td>\n",
              "      <td>-0.3069</td>\n",
              "    </tr>\n",
              "    <tr>\n",
              "      <th>2</th>\n",
              "      <td>15.3500</td>\n",
              "      <td>4.7198e-04</td>\n",
              "      <td>16.6076</td>\n",
              "      <td>15.6866</td>\n",
              "      <td>15.4400</td>\n",
              "      <td>15.3217</td>\n",
              "      <td>15.2961</td>\n",
              "      <td>1.0986</td>\n",
              "      <td>1.0225</td>\n",
              "      <td>0.0</td>\n",
              "      <td>-0.1787</td>\n",
              "      <td>-0.1388</td>\n",
              "      <td>-0.0963</td>\n",
              "      <td>-0.0718</td>\n",
              "      <td>-0.0540</td>\n",
              "      <td>-0.3649</td>\n",
              "      <td>-0.3905</td>\n",
              "      <td>0.1440</td>\n",
              "      <td>0.0257</td>\n",
              "      <td>-0.9014</td>\n",
              "    </tr>\n",
              "    <tr>\n",
              "      <th>3</th>\n",
              "      <td>19.6346</td>\n",
              "      <td>5.8143e-06</td>\n",
              "      <td>25.3536</td>\n",
              "      <td>20.9947</td>\n",
              "      <td>20.0873</td>\n",
              "      <td>19.7947</td>\n",
              "      <td>19.5552</td>\n",
              "      <td>1.6094</td>\n",
              "      <td>1.2054</td>\n",
              "      <td>0.0</td>\n",
              "      <td>-0.3070</td>\n",
              "      <td>-0.1941</td>\n",
              "      <td>-0.1339</td>\n",
              "      <td>-0.1003</td>\n",
              "      <td>-0.0795</td>\n",
              "      <td>-1.2000</td>\n",
              "      <td>-1.4395</td>\n",
              "      <td>0.5321</td>\n",
              "      <td>0.2395</td>\n",
              "      <td>-1.3906</td>\n",
              "    </tr>\n",
              "    <tr>\n",
              "      <th>4</th>\n",
              "      <td>17.9826</td>\n",
              "      <td>-3.3247e-05</td>\n",
              "      <td>23.7714</td>\n",
              "      <td>20.4338</td>\n",
              "      <td>18.8630</td>\n",
              "      <td>18.1903</td>\n",
              "      <td>17.8759</td>\n",
              "      <td>2.6391</td>\n",
              "      <td>1.1939</td>\n",
              "      <td>0.0</td>\n",
              "      <td>-0.6820</td>\n",
              "      <td>-0.2653</td>\n",
              "      <td>-0.1794</td>\n",
              "      <td>-0.1339</td>\n",
              "      <td>-0.1067</td>\n",
              "      <td>-2.2436</td>\n",
              "      <td>-2.5579</td>\n",
              "      <td>0.9871</td>\n",
              "      <td>0.3144</td>\n",
              "      <td>-9.3609</td>\n",
              "    </tr>\n",
              "  </tbody>\n",
              "</table>\n",
              "</div>"
            ],
            "text/plain": [
              "          z    redshift  dered_u  dered_g  dered_r  dered_i  dered_z  \\\n",
              "id                                                                     \n",
              "0   16.9396 -8.1086e-05  23.1243  20.2578  18.9551  17.6321  16.9089   \n",
              "1   13.1689  4.5061e-03  14.9664  14.0045  13.4114  13.2363  13.1347   \n",
              "2   15.3500  4.7198e-04  16.6076  15.6866  15.4400  15.3217  15.2961   \n",
              "3   19.6346  5.8143e-06  25.3536  20.9947  20.0873  19.7947  19.5552   \n",
              "4   17.9826 -3.3247e-05  23.7714  20.4338  18.8630  18.1903  17.8759   \n",
              "\n",
              "    nObserve  airmass_u  class  d_dered_u  d_dered_g  d_dered_r  d_dered_i  \\\n",
              "id                                                                           \n",
              "0     2.9444     1.1898    0.0    -0.1397    -0.0790    -0.0544    -0.0403   \n",
              "1     0.6931     1.2533    1.0    -0.0857    -0.0574    -0.0410    -0.0322   \n",
              "2     1.0986     1.0225    0.0    -0.1787    -0.1388    -0.0963    -0.0718   \n",
              "3     1.6094     1.2054    0.0    -0.3070    -0.1941    -0.1339    -0.1003   \n",
              "4     2.6391     1.1939    0.0    -0.6820    -0.2653    -0.1794    -0.1339   \n",
              "\n",
              "    d_dered_z  d_dered_ig  d_dered_zg  d_dered_rz  d_dered_iz  d_obs_det  \n",
              "id                                                                        \n",
              "0     -0.0307     -2.6257     -3.3488      2.0462      0.7232   -15.0556  \n",
              "1     -0.0343     -0.7683     -0.8698      0.2767      0.1016    -0.3069  \n",
              "2     -0.0540     -0.3649     -0.3905      0.1440      0.0257    -0.9014  \n",
              "3     -0.0795     -1.2000     -1.4395      0.5321      0.2395    -1.3906  \n",
              "4     -0.1067     -2.2436     -2.5579      0.9871      0.3144    -9.3609  "
            ]
          },
          "metadata": {
            "tags": []
          },
          "execution_count": 9
        }
      ]
    },
    {
      "cell_type": "code",
      "metadata": {
        "colab": {
          "base_uri": "https://localhost:8080/"
        },
        "id": "AebSr2SDPCvE",
        "outputId": "306fe92d-06c2-4e60-c267-f2298d0103ec"
      },
      "source": [
        "y = df[target_col].values[:320000]\n",
        "df.drop(target_col, axis=1, inplace=True)\n",
        "trn = df.iloc[:320000]\n",
        "tst = df.iloc[320000:]\n",
        "feature_name = df.columns.tolist()\n",
        "print(y.shape, trn.shape, tst.shape)"
      ],
      "execution_count": 10,
      "outputs": [
        {
          "output_type": "stream",
          "text": [
            "(320000,) (320000, 19) (80000, 19)\n"
          ],
          "name": "stdout"
        }
      ]
    },
    {
      "cell_type": "code",
      "metadata": {
        "colab": {
          "base_uri": "https://localhost:8080/"
        },
        "id": "F164IDhSPpiu",
        "outputId": "e6af7c0f-4820-42fe-b502-dd7b26eb9a2c"
      },
      "source": [
        "X_trn, X_val, y_trn, y_val = train_test_split(trn, y, test_size=.2, random_state=seed)\n",
        "print(X_trn.shape, X_val.shape, y_trn.shape, y_val.shape)"
      ],
      "execution_count": 11,
      "outputs": [
        {
          "output_type": "stream",
          "text": [
            "(256000, 19) (64000, 19) (256000,) (64000,)\n"
          ],
          "name": "stdout"
        }
      ]
    },
    {
      "cell_type": "markdown",
      "metadata": {
        "id": "czaWVWrPO89C"
      },
      "source": [
        "### Running Random Forest\n",
        "\n",
        "* n_estimator  \n",
        "몇 개의 결정 트리를 학습해서 조합할 것인가  \n",
        "* min_samples_leaf  \n",
        "각 결정 트리의 leaf node 최소 수  \n",
        "* max_features  \n",
        "random feature를 선택할 때 최대 몇 개, 'auto'를 주면 sqrt(#features)까지 사용  \n",
        "* max_samples  \n",
        "random data를 sampling할 때 최대 몇 퍼센트까지 사용할 것인가  \n",
        "* random_state  \n",
        "reproduce를 위해서 일정한 값 사용  "
      ]
    },
    {
      "cell_type": "code",
      "metadata": {
        "id": "Hts7anewQZnj"
      },
      "source": [
        "algo_name = 'rf'\n",
        "model_name = f'{algo_name}_{feature_name}'\n",
        "sub_file = sub_dir / f'{model_name}.csv' "
      ],
      "execution_count": 23,
      "outputs": []
    },
    {
      "cell_type": "code",
      "metadata": {
        "id": "q1GAFTNzPr32"
      },
      "source": [
        "clf = RandomForestClassifier(n_estimators=100,\n",
        "                             min_samples_leaf=10,\n",
        "                             max_features='auto',\n",
        "                             max_samples=.5,\n",
        "                             random_state=seed,\n",
        "                             n_jobs=-1)\n",
        "clf.fit(X_trn, y_trn)\n",
        "p_val = clf.predict(X_val)\n",
        "p_tst = clf.predict(tst)"
      ],
      "execution_count": 27,
      "outputs": []
    },
    {
      "cell_type": "markdown",
      "metadata": {
        "id": "hUBCTqoEQyaA"
      },
      "source": [
        "### Validate and Visualize Feature Importance\n",
        "개별 트리를 시각화해서 feature 중요도 확인은 어려움  \n",
        "전체를 합산해서 보는 편이 용이함"
      ]
    },
    {
      "cell_type": "code",
      "metadata": {
        "colab": {
          "base_uri": "https://localhost:8080/"
        },
        "id": "rVpehicuPusg",
        "outputId": "f8e1cbf8-8e0e-4ad6-ea8c-1bca81145096"
      },
      "source": [
        "print(f'{accuracy_score(y_val, p_val) * 100:.4f}%')"
      ],
      "execution_count": 28,
      "outputs": [
        {
          "output_type": "stream",
          "text": [
            "92.4531%\n"
          ],
          "name": "stdout"
        }
      ]
    },
    {
      "cell_type": "code",
      "metadata": {
        "colab": {
          "base_uri": "https://localhost:8080/",
          "height": 506
        },
        "id": "g0SlM3dyPx0c",
        "outputId": "c230c1ab-3686-4d19-9b5b-9cd9b351a9a1"
      },
      "source": [
        "imp = pd.DataFrame({'feature': trn.columns, 'importance': clf.feature_importances_})\n",
        "imp = imp.sort_values('importance').set_index('feature')\n",
        "imp.plot(kind='barh')"
      ],
      "execution_count": 29,
      "outputs": [
        {
          "output_type": "execute_result",
          "data": {
            "text/plain": [
              "<matplotlib.axes._subplots.AxesSubplot at 0x7f3e66c1b690>"
            ]
          },
          "metadata": {
            "tags": []
          },
          "execution_count": 29
        },
        {
          "output_type": "display_data",
          "data": {
            "image/png": "[encoded data removed]",
            "text/plain": [
              "<Figure size 1152x576 with 1 Axes>"
            ]
          },
          "metadata": {
            "tags": []
          }
        }
      ]
    },
    {
      "cell_type": "markdown",
      "metadata": {
        "id": "2hnValmqRBjb"
      },
      "source": [
        "### Running LightGBM\n",
        "* objective  \n",
        "회귀, 분류(binary, multiclass) 등 학습의 목표를 지정\n",
        "* learning_rate(shrinkage)  \n",
        "직전 decision tree의 error에 곱해주는 값  \n",
        "이 값이 크면 osciallation이 생길 수 있고, 작으면 더 많은 tree와 학습 시간이 필요함  \n",
        "* subsample_freq  \n",
        "개별트리 학습시에 subsampling을 얼마 마다 하는가 e.g. 1 = 매번, 10 = 10번에 한 번  \n",
        "* colsample_bytree  \n",
        "개별트리 학습시에 전체 col 중 몇 퍼센트를 사용하는가  \n",
        "* LGBMClassifier, LGBMRegresser  \n",
        "\n",
        "fit시에 추가로 parameter를 줄 수 있음\n",
        "* eval_set  \n",
        "validation set을 주고 각 epoch마다 손실함수를 확인할 수 있음  \n",
        "* early_stopping_rounds  \n",
        "손실함수가 더 이상 향상되지 않는 시점을 확인 e.g. 10번 도는 동안 개선이 없을 경우, early stop -> 과적합 방지  "
      ]
    },
    {
      "cell_type": "code",
      "metadata": {
        "id": "TT0qZlsNRFyz"
      },
      "source": [
        "algo_name = 'lgb'\n",
        "model_name = f'{algo_name}_features' # {feature_name} 사용하면 파일명이 지나치게 길어져 제출시 에러 발생\n",
        "sub_file = sub_dir / f'{model_name}.csv'"
      ],
      "execution_count": 30,
      "outputs": []
    },
    {
      "cell_type": "code",
      "metadata": {
        "colab": {
          "base_uri": "https://localhost:8080/"
        },
        "id": "HmWQvg6ZRO8E",
        "outputId": "82bf9bac-a9a3-4a5d-f97f-48515c8e9954"
      },
      "source": [
        "import lightgbm as lgb\n",
        "clf = lgb.LGBMClassifier(objective='multiclass',\n",
        "                         n_estimators=1000,\n",
        "                         num_leaves=64,\n",
        "                         learning_rate=0.1,\n",
        "                         min_child_samples=10,\n",
        "                         subsample=.5,\n",
        "                         subsample_freq=1,\n",
        "                         colsample_bytree=.8,\n",
        "                         random_state=seed,\n",
        "                         n_jobs=-1)\n",
        "clf.fit(X_trn, y_trn,\n",
        "        eval_set=[(X_val, y_val)],\n",
        "        eval_metric='multiclass',\n",
        "        early_stopping_rounds=10)\n",
        "p_val = clf.predict(X_val)\n",
        "p_tst = clf.predict(tst)"
      ],
      "execution_count": 31,
      "outputs": [
        {
          "output_type": "stream",
          "text": [
            "[1]\tvalid_0's multi_logloss: 0.889466\n",
            "Training until validation scores don't improve for 10 rounds.\n",
            "[2]\tvalid_0's multi_logloss: 0.809411\n",
            "[3]\tvalid_0's multi_logloss: 0.737205\n",
            "[4]\tvalid_0's multi_logloss: 0.67578\n",
            "[5]\tvalid_0's multi_logloss: 0.622648\n",
            "[6]\tvalid_0's multi_logloss: 0.58102\n",
            "[7]\tvalid_0's multi_logloss: 0.541851\n",
            "[8]\tvalid_0's multi_logloss: 0.509749\n",
            "[9]\tvalid_0's multi_logloss: 0.48277\n",
            "[10]\tvalid_0's multi_logloss: 0.453402\n",
            "[11]\tvalid_0's multi_logloss: 0.427857\n",
            "[12]\tvalid_0's multi_logloss: 0.404554\n",
            "[13]\tvalid_0's multi_logloss: 0.383858\n",
            "[14]\tvalid_0's multi_logloss: 0.364991\n",
            "[15]\tvalid_0's multi_logloss: 0.348485\n",
            "[16]\tvalid_0's multi_logloss: 0.334275\n",
            "[17]\tvalid_0's multi_logloss: 0.321026\n",
            "[18]\tvalid_0's multi_logloss: 0.308562\n",
            "[19]\tvalid_0's multi_logloss: 0.297153\n",
            "[20]\tvalid_0's multi_logloss: 0.287213\n",
            "[21]\tvalid_0's multi_logloss: 0.277694\n",
            "[22]\tvalid_0's multi_logloss: 0.268968\n",
            "[23]\tvalid_0's multi_logloss: 0.261297\n",
            "[24]\tvalid_0's multi_logloss: 0.254532\n",
            "[25]\tvalid_0's multi_logloss: 0.248445\n",
            "[26]\tvalid_0's multi_logloss: 0.243844\n",
            "[27]\tvalid_0's multi_logloss: 0.238223\n",
            "[28]\tvalid_0's multi_logloss: 0.233057\n",
            "[29]\tvalid_0's multi_logloss: 0.228361\n",
            "[30]\tvalid_0's multi_logloss: 0.223884\n",
            "[31]\tvalid_0's multi_logloss: 0.220737\n",
            "[32]\tvalid_0's multi_logloss: 0.21734\n",
            "[33]\tvalid_0's multi_logloss: 0.213778\n",
            "[34]\tvalid_0's multi_logloss: 0.21062\n",
            "[35]\tvalid_0's multi_logloss: 0.207613\n",
            "[36]\tvalid_0's multi_logloss: 0.205098\n",
            "[37]\tvalid_0's multi_logloss: 0.202626\n",
            "[38]\tvalid_0's multi_logloss: 0.200221\n",
            "[39]\tvalid_0's multi_logloss: 0.198121\n",
            "[40]\tvalid_0's multi_logloss: 0.196101\n",
            "[41]\tvalid_0's multi_logloss: 0.194195\n",
            "[42]\tvalid_0's multi_logloss: 0.192606\n",
            "[43]\tvalid_0's multi_logloss: 0.191051\n",
            "[44]\tvalid_0's multi_logloss: 0.189511\n",
            "[45]\tvalid_0's multi_logloss: 0.188333\n",
            "[46]\tvalid_0's multi_logloss: 0.186999\n",
            "[47]\tvalid_0's multi_logloss: 0.185805\n",
            "[48]\tvalid_0's multi_logloss: 0.184816\n",
            "[49]\tvalid_0's multi_logloss: 0.183725\n",
            "[50]\tvalid_0's multi_logloss: 0.182696\n",
            "[51]\tvalid_0's multi_logloss: 0.181666\n",
            "[52]\tvalid_0's multi_logloss: 0.180837\n",
            "[53]\tvalid_0's multi_logloss: 0.180102\n",
            "[54]\tvalid_0's multi_logloss: 0.179444\n",
            "[55]\tvalid_0's multi_logloss: 0.178804\n",
            "[56]\tvalid_0's multi_logloss: 0.178246\n",
            "[57]\tvalid_0's multi_logloss: 0.177698\n",
            "[58]\tvalid_0's multi_logloss: 0.177127\n",
            "[59]\tvalid_0's multi_logloss: 0.176559\n",
            "[60]\tvalid_0's multi_logloss: 0.176047\n",
            "[61]\tvalid_0's multi_logloss: 0.17546\n",
            "[62]\tvalid_0's multi_logloss: 0.174944\n",
            "[63]\tvalid_0's multi_logloss: 0.174552\n",
            "[64]\tvalid_0's multi_logloss: 0.174033\n",
            "[65]\tvalid_0's multi_logloss: 0.173549\n",
            "[66]\tvalid_0's multi_logloss: 0.173208\n",
            "[67]\tvalid_0's multi_logloss: 0.172818\n",
            "[68]\tvalid_0's multi_logloss: 0.172445\n",
            "[69]\tvalid_0's multi_logloss: 0.172092\n",
            "[70]\tvalid_0's multi_logloss: 0.171624\n",
            "[71]\tvalid_0's multi_logloss: 0.1714\n",
            "[72]\tvalid_0's multi_logloss: 0.171168\n",
            "[73]\tvalid_0's multi_logloss: 0.170877\n",
            "[74]\tvalid_0's multi_logloss: 0.170658\n",
            "[75]\tvalid_0's multi_logloss: 0.170434\n",
            "[76]\tvalid_0's multi_logloss: 0.170178\n",
            "[77]\tvalid_0's multi_logloss: 0.169887\n",
            "[78]\tvalid_0's multi_logloss: 0.169659\n",
            "[79]\tvalid_0's multi_logloss: 0.169507\n",
            "[80]\tvalid_0's multi_logloss: 0.169304\n",
            "[81]\tvalid_0's multi_logloss: 0.169153\n",
            "[82]\tvalid_0's multi_logloss: 0.169537\n",
            "[83]\tvalid_0's multi_logloss: 0.168887\n",
            "[84]\tvalid_0's multi_logloss: 0.168684\n",
            "[85]\tvalid_0's multi_logloss: 0.170404\n",
            "[86]\tvalid_0's multi_logloss: 0.169608\n",
            "[87]\tvalid_0's multi_logloss: 0.169212\n",
            "[88]\tvalid_0's multi_logloss: 0.16904\n",
            "[89]\tvalid_0's multi_logloss: 0.16891\n",
            "[90]\tvalid_0's multi_logloss: 0.168799\n",
            "[91]\tvalid_0's multi_logloss: 0.171905\n",
            "[92]\tvalid_0's multi_logloss: 0.170851\n",
            "[93]\tvalid_0's multi_logloss: 0.170291\n",
            "[94]\tvalid_0's multi_logloss: 0.170121\n",
            "Early stopping, best iteration is:\n",
            "[84]\tvalid_0's multi_logloss: 0.168684\n"
          ],
          "name": "stdout"
        }
      ]
    },
    {
      "cell_type": "code",
      "metadata": {
        "colab": {
          "base_uri": "https://localhost:8080/"
        },
        "id": "01mAmtAKU1fM",
        "outputId": "761bb76c-78ba-4e20-81b9-03589223e71e"
      },
      "source": [
        "print(f'{accuracy_score(y_val, p_val) * 100:.4f}%')"
      ],
      "execution_count": 32,
      "outputs": [
        {
          "output_type": "stream",
          "text": [
            "92.9359%\n"
          ],
          "name": "stdout"
        }
      ]
    },
    {
      "cell_type": "code",
      "metadata": {
        "colab": {
          "base_uri": "https://localhost:8080/",
          "height": 506
        },
        "id": "X7Myzkr0U6Xh",
        "outputId": "12601ef8-6859-4d97-be19-51fadefa1f1c"
      },
      "source": [
        "imp = pd.DataFrame({'feature': trn.columns, 'importance': clf.feature_importances_})\n",
        "imp = imp.sort_values('importance').set_index('feature')\n",
        "imp.plot(kind='barh')"
      ],
      "execution_count": 33,
      "outputs": [
        {
          "output_type": "execute_result",
          "data": {
            "text/plain": [
              "<matplotlib.axes._subplots.AxesSubplot at 0x7f3e66c244d0>"
            ]
          },
          "metadata": {
            "tags": []
          },
          "execution_count": 33
        },
        {
          "output_type": "display_data",
          "data": {
            "image/png": "[encoded data removed]",
            "text/plain": [
              "<Figure size 1152x576 with 1 Axes>"
            ]
          },
          "metadata": {
            "tags": []
          }
        }
      ]
    },
    {
      "cell_type": "markdown",
      "metadata": {
        "id": "SnAHw1JHQIQx"
      },
      "source": [
        "### Download for Submission"
      ]
    },
    {
      "cell_type": "code",
      "metadata": {
        "colab": {
          "base_uri": "https://localhost:8080/",
          "height": 255
        },
        "id": "Meuaex2wP0nO",
        "outputId": "30d48a82-d519-446e-9e32-46aef5a392fa"
      },
      "source": [
        "sub = pd.read_csv(sample_file, index_col=0)\n",
        "print(sub.shape)\n",
        "sub.head()"
      ],
      "execution_count": 34,
      "outputs": [
        {
          "output_type": "stream",
          "text": [
            "(80000, 1)\n"
          ],
          "name": "stdout"
        },
        {
          "output_type": "execute_result",
          "data": {
            "text/html": [
              "<div>\n",
              "<style scoped>\n",
              "    .dataframe tbody tr th:only-of-type {\n",
              "        vertical-align: middle;\n",
              "    }\n",
              "\n",
              "    .dataframe tbody tr th {\n",
              "        vertical-align: top;\n",
              "    }\n",
              "\n",
              "    .dataframe thead th {\n",
              "        text-align: right;\n",
              "    }\n",
              "</style>\n",
              "<table border=\"1\" class=\"dataframe\">\n",
              "  <thead>\n",
              "    <tr style=\"text-align: right;\">\n",
              "      <th></th>\n",
              "      <th>class</th>\n",
              "    </tr>\n",
              "    <tr>\n",
              "      <th>id</th>\n",
              "      <th></th>\n",
              "    </tr>\n",
              "  </thead>\n",
              "  <tbody>\n",
              "    <tr>\n",
              "      <th>320000</th>\n",
              "      <td>0</td>\n",
              "    </tr>\n",
              "    <tr>\n",
              "      <th>320001</th>\n",
              "      <td>0</td>\n",
              "    </tr>\n",
              "    <tr>\n",
              "      <th>320002</th>\n",
              "      <td>0</td>\n",
              "    </tr>\n",
              "    <tr>\n",
              "      <th>320003</th>\n",
              "      <td>0</td>\n",
              "    </tr>\n",
              "    <tr>\n",
              "      <th>320004</th>\n",
              "      <td>0</td>\n",
              "    </tr>\n",
              "  </tbody>\n",
              "</table>\n",
              "</div>"
            ],
            "text/plain": [
              "        class\n",
              "id           \n",
              "320000      0\n",
              "320001      0\n",
              "320002      0\n",
              "320003      0\n",
              "320004      0"
            ]
          },
          "metadata": {
            "tags": []
          },
          "execution_count": 34
        }
      ]
    },
    {
      "cell_type": "code",
      "metadata": {
        "colab": {
          "base_uri": "https://localhost:8080/",
          "height": 237
        },
        "id": "PAoaR033P33i",
        "outputId": "f8a0f614-098d-47f0-c7ac-8ffce1497cfb"
      },
      "source": [
        "sub[target_col] = p_tst\n",
        "sub.head()"
      ],
      "execution_count": 35,
      "outputs": [
        {
          "output_type": "execute_result",
          "data": {
            "text/html": [
              "<div>\n",
              "<style scoped>\n",
              "    .dataframe tbody tr th:only-of-type {\n",
              "        vertical-align: middle;\n",
              "    }\n",
              "\n",
              "    .dataframe tbody tr th {\n",
              "        vertical-align: top;\n",
              "    }\n",
              "\n",
              "    .dataframe thead th {\n",
              "        text-align: right;\n",
              "    }\n",
              "</style>\n",
              "<table border=\"1\" class=\"dataframe\">\n",
              "  <thead>\n",
              "    <tr style=\"text-align: right;\">\n",
              "      <th></th>\n",
              "      <th>class</th>\n",
              "    </tr>\n",
              "    <tr>\n",
              "      <th>id</th>\n",
              "      <th></th>\n",
              "    </tr>\n",
              "  </thead>\n",
              "  <tbody>\n",
              "    <tr>\n",
              "      <th>320000</th>\n",
              "      <td>2.0</td>\n",
              "    </tr>\n",
              "    <tr>\n",
              "      <th>320001</th>\n",
              "      <td>0.0</td>\n",
              "    </tr>\n",
              "    <tr>\n",
              "      <th>320002</th>\n",
              "      <td>2.0</td>\n",
              "    </tr>\n",
              "    <tr>\n",
              "      <th>320003</th>\n",
              "      <td>0.0</td>\n",
              "    </tr>\n",
              "    <tr>\n",
              "      <th>320004</th>\n",
              "      <td>2.0</td>\n",
              "    </tr>\n",
              "  </tbody>\n",
              "</table>\n",
              "</div>"
            ],
            "text/plain": [
              "        class\n",
              "id           \n",
              "320000    2.0\n",
              "320001    0.0\n",
              "320002    2.0\n",
              "320003    0.0\n",
              "320004    2.0"
            ]
          },
          "metadata": {
            "tags": []
          },
          "execution_count": 35
        }
      ]
    },
    {
      "cell_type": "code",
      "metadata": {
        "colab": {
          "base_uri": "https://localhost:8080/"
        },
        "id": "bg4SaISeP5qo",
        "outputId": "01e242c7-d386-4462-aecf-5c65511524e3"
      },
      "source": [
        "sub[target_col].value_counts()"
      ],
      "execution_count": 36,
      "outputs": [
        {
          "output_type": "execute_result",
          "data": {
            "text/plain": [
              "2.0    41353\n",
              "0.0    29982\n",
              "1.0     8665\n",
              "Name: class, dtype: int64"
            ]
          },
          "metadata": {
            "tags": []
          },
          "execution_count": 36
        }
      ]
    },
    {
      "cell_type": "code",
      "metadata": {
        "id": "iG1oEubQP6fz"
      },
      "source": [
        "sub.to_csv(sub_file)"
      ],
      "execution_count": 37,
      "outputs": []
    },
    {
      "cell_type": "code",
      "metadata": {
        "colab": {
          "base_uri": "https://localhost:8080/",
          "height": 17
        },
        "id": "L5nKWgxxP8R3",
        "outputId": "7b491998-56cf-4a3a-f937-bc1c66c3a0de"
      },
      "source": [
        "files.download(sub_file)"
      ],
      "execution_count": 39,
      "outputs": [
        {
          "output_type": "display_data",
          "data": {
            "application/javascript": [
              "\n",
              "    async function download(id, filename, size) {\n",
              "      if (!google.colab.kernel.accessAllowed) {\n",
              "        return;\n",
              "      }\n",
              "      const div = document.createElement('div');\n",
              "      const label = document.createElement('label');\n",
              "      label.textContent = `Downloading \"${filename}\": `;\n",
              "      div.appendChild(label);\n",
              "      const progress = document.createElement('progress');\n",
              "      progress.max = size;\n",
              "      div.appendChild(progress);\n",
              "      document.body.appendChild(div);\n",
              "\n",
              "      const buffers = [];\n",
              "      let downloaded = 0;\n",
              "\n",
              "      const channel = await google.colab.kernel.comms.open(id);\n",
              "      // Send a message to notify the kernel that we're ready.\n",
              "      channel.send({})\n",
              "\n",
              "      for await (const message of channel.messages) {\n",
              "        // Send a message to notify the kernel that we're ready.\n",
              "        channel.send({})\n",
              "        if (message.buffers) {\n",
              "          for (const buffer of message.buffers) {\n",
              "            buffers.push(buffer);\n",
              "            downloaded += buffer.byteLength;\n",
              "            progress.value = downloaded;\n",
              "          }\n",
              "        }\n",
              "      }\n",
              "      const blob = new Blob(buffers, {type: 'application/binary'});\n",
              "      const a = document.createElement('a');\n",
              "      a.href = window.URL.createObjectURL(blob);\n",
              "      a.download = filename;\n",
              "      div.appendChild(a);\n",
              "      a.click();\n",
              "      div.remove();\n",
              "    }\n",
              "  "
            ],
            "text/plain": [
              "<IPython.core.display.Javascript object>"
            ]
          },
          "metadata": {
            "tags": []
          }
        },
        {
          "output_type": "display_data",
          "data": {
            "application/javascript": [
              "download(\"download_700649fa-b3f6-4fca-b106-991fc9af45ce\", \"lgb_features.csv\", 880009)"
            ],
            "text/plain": [
              "<IPython.core.display.Javascript object>"
            ]
          },
          "metadata": {
            "tags": []
          }
        }
      ]
    }
  ]
}